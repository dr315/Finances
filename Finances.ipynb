{
  "nbformat": 4,
  "nbformat_minor": 0,
  "metadata": {
    "colab": {
      "name": "Finances_V3",
      "provenance": [],
      "collapsed_sections": []
    },
    "kernelspec": {
      "name": "python374jvsc74a57bd0effde2c6f5fb70fa9b8dc97f83340c31a67dd17fa1ebb4d68b025d976f8e82d1",
      "display_name": "Python 3.7.4 64-bit"
    },
    "widgets": {
      "application/vnd.jupyter.widget-state+json": {
        "ff68ee6394bb4e8dbcc5fadafc95af76": {
          "model_module": "@jupyter-widgets/controls",
          "model_name": "DropdownModel",
          "state": {
            "_options_labels": [
              "ABEV3",
              "BBDC3",
              "BBFI11B",
              "BMEB4",
              "CIEL3",
              "CNTO3",
              "COGN3",
              "ECOR3",
              "EGIE3",
              "EZTC3",
              "FAMB11B",
              "FIGS11",
              "FLRY3",
              "GRND3",
              "GTWR11",
              "HGTX3",
              "HTMX11",
              "ITUB3",
              "KLBN11",
              "MDIA3",
              "MFII11",
              "MOVI3",
              "MXRF11",
              "PETR4",
              "PSSA3",
              "SMLS3",
              "SPTW11",
              "TRIS3",
              "VISC11",
              "VVAR3",
              "WEGE3",
              "XPCM11",
              "XPLG11",
              "XPML11"
            ],
            "_view_name": "DropdownView",
            "style": "IPY_MODEL_af2994b452434b27b7037627715c3f6f",
            "_dom_classes": [],
            "description": "",
            "_model_name": "DropdownModel",
            "index": 0,
            "_view_module": "@jupyter-widgets/controls",
            "_model_module_version": "1.5.0",
            "_view_count": null,
            "disabled": false,
            "_view_module_version": "1.5.0",
            "description_tooltip": null,
            "_model_module": "@jupyter-widgets/controls",
            "layout": "IPY_MODEL_5e85ed3d01304c968889d7603f1c4583"
          }
        },
        "af2994b452434b27b7037627715c3f6f": {
          "model_module": "@jupyter-widgets/controls",
          "model_name": "DescriptionStyleModel",
          "state": {
            "_view_name": "StyleView",
            "_model_name": "DescriptionStyleModel",
            "description_width": "",
            "_view_module": "@jupyter-widgets/base",
            "_model_module_version": "1.5.0",
            "_view_count": null,
            "_view_module_version": "1.2.0",
            "_model_module": "@jupyter-widgets/controls"
          }
        },
        "5e85ed3d01304c968889d7603f1c4583": {
          "model_module": "@jupyter-widgets/base",
          "model_name": "LayoutModel",
          "state": {
            "_view_name": "LayoutView",
            "grid_template_rows": null,
            "right": null,
            "justify_content": null,
            "_view_module": "@jupyter-widgets/base",
            "overflow": null,
            "_model_module_version": "1.2.0",
            "_view_count": null,
            "flex_flow": null,
            "width": null,
            "min_width": null,
            "border": null,
            "align_items": null,
            "bottom": null,
            "_model_module": "@jupyter-widgets/base",
            "top": null,
            "grid_column": null,
            "overflow_y": null,
            "overflow_x": null,
            "grid_auto_flow": null,
            "grid_area": null,
            "grid_template_columns": null,
            "flex": null,
            "_model_name": "LayoutModel",
            "justify_items": null,
            "grid_row": null,
            "max_height": null,
            "align_content": null,
            "visibility": null,
            "align_self": null,
            "height": null,
            "min_height": null,
            "padding": null,
            "grid_auto_rows": null,
            "grid_gap": null,
            "max_width": null,
            "order": null,
            "_view_module_version": "1.2.0",
            "grid_template_areas": null,
            "object_position": null,
            "object_fit": null,
            "grid_auto_columns": null,
            "margin": null,
            "display": null,
            "left": null
          }
        },
        "6662feb82b6e40f2adbaa6f6f334c797": {
          "model_module": "@jupyter-widgets/controls",
          "model_name": "DropdownModel",
          "state": {
            "_options_labels": [
              "All",
              "12 months"
            ],
            "_view_name": "DropdownView",
            "style": "IPY_MODEL_4eeeaaa50f58407a96e81673b801e3a3",
            "_dom_classes": [],
            "description": "",
            "_model_name": "DropdownModel",
            "index": 0,
            "_view_module": "@jupyter-widgets/controls",
            "_model_module_version": "1.5.0",
            "_view_count": null,
            "disabled": false,
            "_view_module_version": "1.5.0",
            "description_tooltip": null,
            "_model_module": "@jupyter-widgets/controls",
            "layout": "IPY_MODEL_8b980825a2f94ec8aa3a3475e667713d"
          }
        },
        "4eeeaaa50f58407a96e81673b801e3a3": {
          "model_module": "@jupyter-widgets/controls",
          "model_name": "DescriptionStyleModel",
          "state": {
            "_view_name": "StyleView",
            "_model_name": "DescriptionStyleModel",
            "description_width": "",
            "_view_module": "@jupyter-widgets/base",
            "_model_module_version": "1.5.0",
            "_view_count": null,
            "_view_module_version": "1.2.0",
            "_model_module": "@jupyter-widgets/controls"
          }
        },
        "8b980825a2f94ec8aa3a3475e667713d": {
          "model_module": "@jupyter-widgets/base",
          "model_name": "LayoutModel",
          "state": {
            "_view_name": "LayoutView",
            "grid_template_rows": null,
            "right": null,
            "justify_content": null,
            "_view_module": "@jupyter-widgets/base",
            "overflow": null,
            "_model_module_version": "1.2.0",
            "_view_count": null,
            "flex_flow": null,
            "width": null,
            "min_width": null,
            "border": null,
            "align_items": null,
            "bottom": null,
            "_model_module": "@jupyter-widgets/base",
            "top": null,
            "grid_column": null,
            "overflow_y": null,
            "overflow_x": null,
            "grid_auto_flow": null,
            "grid_area": null,
            "grid_template_columns": null,
            "flex": null,
            "_model_name": "LayoutModel",
            "justify_items": null,
            "grid_row": null,
            "max_height": null,
            "align_content": null,
            "visibility": null,
            "align_self": null,
            "height": null,
            "min_height": null,
            "padding": null,
            "grid_auto_rows": null,
            "grid_gap": null,
            "max_width": null,
            "order": null,
            "_view_module_version": "1.2.0",
            "grid_template_areas": null,
            "object_position": null,
            "object_fit": null,
            "grid_auto_columns": null,
            "margin": null,
            "display": null,
            "left": null
          }
        }
      }
    },
    "metadata": {
      "interpreter": {
        "hash": "effde2c6f5fb70fa9b8dc97f83340c31a67dd17fa1ebb4d68b025d976f8e82d1"
      }
    }
  },
  "cells": [
    {
      "cell_type": "markdown",
      "metadata": {
        "id": "wNXPei4ShsrW"
      },
      "source": [
        "\n",
        "# Load table"
      ]
    },
    {
      "cell_type": "code",
      "execution_count": 1,
      "metadata": {},
      "outputs": [],
      "source": [
        "import sys\n",
        "\n",
        "try:\n",
        "    from google.colab import drive    \n",
        "    drive.mount('/content/gdrive')\n",
        "        \n",
        "    !rm -rf github\n",
        "    !mkdir github\n",
        "    !cd github && git clone https://github.com/dr315/Finances.git\n",
        "    !ls /content/github/Finances/\n",
        "    !pip install yfinance\n",
        "    !pip install pdfplumber\n",
        "    \n",
        "    sys.path.append('/content/github/Finances')\n",
        "    root = '/content/gdrive/MyDrive/'\n",
        "    \n",
        "except:\n",
        "    root = 'd:/'\n",
        "\n",
        "import pandas as pd\n",
        "pd.options.display.float_format = '${:,.2f}'.format\n",
        "import datetime as dt\n",
        "import numpy as np\n",
        "from FinanceTools import *\n",
        "from OrdersReader import *    \n",
        "# ReadOrders('d:/Investing/Notas_Clear', 'operations.csv')\n",
        "df = pd.read_csv(root + '/Investing/operations.csv')    \n",
        "# df = pd.read_csv(root + '/Investing/empiricus.csv')\n",
        "\n",
        "# display(df)"
      ]
    },
    {
      "cell_type": "markdown",
      "metadata": {
        "id": "K_y6XnRs0VW6"
      },
      "source": [
        "## Formating table"
      ]
    },
    {
      "cell_type": "code",
      "metadata": {
        "id": "s8OJkwSvUxbJ",
        "colab": {
          "base_uri": "https://localhost:8080/",
          "height": 419
        },
        "outputId": "70dff551-6c15-4373-fd46-08d73efd7785"
      },
      "source": [
        " \n",
        "df = df.iloc[:, :7]\n",
        "df.columns=['Codigo','Data', 'Valor', 'Quantidade', 'Tipo', 'Categoria', 'Despesas']\n",
        " \n",
        "#Removing the stored dividends in order to donwload again from internet\n",
        "df = df[df.Tipo != 'Proventos']\n",
        "\n",
        "if(df['Valor'].apply(type).eq(str).any()): \n",
        "    df['Valor'] = df['Valor'].str.replace(',', '')\n",
        "    df['Valor'] = pd.to_numeric(df['Valor'], errors='coerce')\n",
        "    df['Quantidade'] = pd.to_numeric(df['Quantidade'], errors='coerce')\n",
        "    df['Despesas'] = pd.to_numeric(df['Despesas'], errors='coerce')\n",
        " \n",
        "#drop empty lines\n",
        "df=df[df['Data'].astype(bool)].dropna()\n",
        "# df\n",
        "\n",
        "if(df['Data'].apply(type).eq(str).any()): \n",
        "    df.Data = df.Data.str.replace('-','/')\n",
        "    df['Data'] = pd.to_datetime(df.Data, format='%Y/%m/%d')\n",
        "df['Year'] = pd.DatetimeIndex(df['Data']).year\n",
        "df['Month'] = pd.DatetimeIndex(df['Data']).month_name()\n",
        "\n",
        "#Sort the table by date and Type and reset index numeration\n",
        "df.sort_values(by=['Data', 'Tipo'], ascending=[True, True], inplace=True)\n",
        "df.reset_index(drop=True, inplace=True)\n",
        "\n",
        "#turn all sell amount negative\n",
        "df.loc[df.Tipo == 'Venda', ['Quantidade']] *= -1\n",
        "\n",
        "#Get the oldest order date\n",
        "startDate = df.iloc[0]['Data']\n",
        "\n",
        "#Calc Operation Value\n",
        "df['Total'] = df.Valor * df.Quantidade + df.Despesas\n"
      ],
      "execution_count": 2,
      "outputs": []
    },
    {
      "cell_type": "code",
      "metadata": {
        "id": "ySWDeyHk2HKU"
      },
      "source": [
        "df['acum_qty'] = 0\n",
        "#Get the complete list of assets\n",
        "stocks = np.sort(df.Codigo.unique()).tolist()\n",
        "# Clear operation costs befere 2019\n",
        "# df.Despesas.update(df.apply(clear2018Cost, axis=1))\n"
      ],
      "execution_count": 3,
      "outputs": []
    },
    {
      "cell_type": "markdown",
      "metadata": {
        "id": "JBj7WZgRlzNe"
      },
      "source": [
        "## PriceReader"
      ]
    },
    {
      "cell_type": "code",
      "metadata": {
        "id": "q5-e6F5CNN9I"
      },
      "source": [
        "# import concurrent.futures\n",
        "import time\n",
        "import threading\n",
        "start_time = time.time()\n",
        "\n",
        "prcReader = PriceReader(stocks, startDate)\n",
        "splReader = SplitsReader(df)\n",
        "divReader = DividendReader(df)\n",
        "# divReader = YfinanceReader(df)\n",
        "\n",
        "def threadExecutor(obj):\n",
        "    obj.load()\n",
        "\n",
        "threadList = []\n",
        "threadList.append(threading.Thread(target=threadExecutor, args=(prcReader,)))\n",
        "threadList.append(threading.Thread(target=threadExecutor, args=(divReader,)))\n",
        "threadList.append(threading.Thread(target=threadExecutor, args=(splReader,)))\n",
        "\n",
        "for td in threadList:\n",
        "    td.start()\n",
        "\n",
        "for td in threadList:\n",
        "    td.join()\n",
        "\n",
        "print(\"--- %s seconds ---\" % (time.time() - start_time))"
      ],
      "execution_count": 4,
      "outputs": [
        {
          "output_type": "stream",
          "name": "stderr",
          "text": [
            "h:\\Git\\Finances\\FinanceTools.py:14: FutureWarning: The default value of regex will change from True to False in a future version.\n",
            "  self.df.columns = self.df.columns.str.replace('\\.SA','')\n",
            "--- 21.27789616584778 seconds ---\n"
          ]
        }
      ]
    },
    {
      "cell_type": "code",
      "metadata": {
        "id": "JjQzx-oj-Ses"
      },
      "source": [
        "dfBak = df"
      ],
      "execution_count": 5,
      "outputs": []
    },
    {
      "cell_type": "markdown",
      "metadata": {
        "id": "jNvC0a3clOA-"
      },
      "source": [
        "## Accumulator"
      ]
    },
    {
      "cell_type": "code",
      "metadata": {
        "id": "vSSl5581cZ5-"
      },
      "source": [
        "\n",
        "df=dfBak\n",
        "df['acum_qty'] = 0\n",
        "df['PM'] = 0\n",
        "\n",
        "for paper in stocks:\n",
        "  paperTable = df[(df.Codigo == paper)]\n",
        "  fromDate = paperTable.iloc[0]['Data']  \n",
        "  toDate = dt.datetime.today().strftime('%Y-%m-%d')\n",
        "\n",
        "  divTable = divReader.getPeriod(paper,fromDate, toDate)\n",
        "  divTable['Quantidade'] = 0\n",
        "  divTable['Tipo'] = 'Proventos'\n",
        "  divTable['Categoria'] = paperTable.iloc[0]['Categoria']\n",
        "  divTable['Despesas'] = 0\n",
        "  divTable['Year'] = pd.DatetimeIndex(divTable.index).year\n",
        "  divTable['Month'] = pd.DatetimeIndex(divTable.index).month_name()\n",
        "  divTable['Total'] = 0\n",
        "  divTable['acum_qty'] = 0\n",
        "  df = df.append(divTable.reset_index())\n",
        "\n",
        "  splitTable = splReader.getPeriod(paper,fromDate, toDate)\n",
        "  splitTable['Valor'] = 0\n",
        "  splitTable['Tipo'] = 'Split'\n",
        "  splitTable['Categoria'] = paperTable.iloc[0]['Categoria']\n",
        "  splitTable['Despesas'] = 0\n",
        "  splitTable['Year'] = pd.DatetimeIndex(splitTable.index).year\n",
        "  splitTable['Month'] = pd.DatetimeIndex(splitTable.index).month_name()\n",
        "  splitTable['Total'] = 0\n",
        "  splitTable['acum_qty'] = 0\n",
        "  df = df.append(splitTable.reset_index())\n",
        "\n",
        "df.sort_values(['Data', 'Tipo'], inplace=True)\n",
        "\n",
        "#Create obj\n",
        "ta = TableAccumulator()\n",
        "#Calc the average price and rename the columns names\n",
        "df=df.groupby(['Codigo']).apply(ta.ByGroup).reset_index(drop=True).dropna()\n",
        "df.sort_values(['Data', 'Tipo'], inplace=True)"
      ],
      "execution_count": 6,
      "outputs": []
    },
    {
      "cell_type": "code",
      "metadata": {
        "colab": {
          "base_uri": "https://localhost:8080/"
        },
        "id": "s_oSPuCBEjuJ",
        "outputId": "9beb7aa3-84fc-4ade-f503-a2937f77e36e"
      },
      "source": [
        "# df[df.Codigo.str.contains('CIEL3')]"
      ],
      "execution_count": 7,
      "outputs": []
    },
    {
      "cell_type": "markdown",
      "metadata": {
        "id": "wkJziCIHzOC7"
      },
      "source": [
        "# Realized Profit\n"
      ]
    },
    {
      "cell_type": "markdown",
      "metadata": {
        "id": "nUP3tx_nUoL0"
      },
      "source": [
        "## Processing"
      ]
    },
    {
      "cell_type": "code",
      "metadata": {
        "id": "K0eAug1DHHIm"
      },
      "source": [
        "\n",
        "profit = Profit()\n",
        "df.sort_values(by=['Data', 'Tipo'], ascending=[True, True], inplace=True)\n",
        "df.reset_index(drop=True)\n",
        "df=df.groupby(['Codigo', 'Data']).apply(profit.Trade).reset_index()\n",
        "df.drop('index', axis=1, inplace=True)\n"
      ],
      "execution_count": 8,
      "outputs": []
    },
    {
      "cell_type": "markdown",
      "metadata": {
        "id": "KJ_xM5ELU-2d"
      },
      "source": [
        "## View"
      ]
    },
    {
      "cell_type": "code",
      "metadata": {
        "colab": {
          "base_uri": "https://localhost:8080/"
        },
        "id": "pnW0F7d2U3VL",
        "outputId": "83ec4b5b-28f7-40c2-fe3b-75312feca274"
      },
      "source": [
        "rl = df[df.Tipo == 'Venda'][['Data',\t'Codigo', 'Categoria', 'Profit',\t'DayTrade']]\n",
        "rl['Data'] = rl['Data'].apply(lambda x: x.strftime('%Y-%m-%d'))\n",
        "rl.loc['Total', 'Profit'] = rl['Profit'].sum()\n",
        "rl.fillna(' ', inplace=True)\n",
        "rl.style.applymap(color_negative_red, subset=['Profit']).format( {'Profit': 'R$ {:,.2f}', 'DayTrade': '{}'})\n"
      ],
      "execution_count": 9,
      "outputs": [
        {
          "output_type": "execute_result",
          "data": {
            "text/plain": [
              "<pandas.io.formats.style.Styler at 0x23418412108>"
            ],
            "text/html": "<style  type=\"text/css\" >\n#T_c448b_row0_col3{\n            color:  green;\n        }</style><table id=\"T_c448b_\" ><thead>    <tr>        <th class=\"blank level0\" ></th>        <th class=\"col_heading level0 col0\" >Data</th>        <th class=\"col_heading level0 col1\" >Codigo</th>        <th class=\"col_heading level0 col2\" >Categoria</th>        <th class=\"col_heading level0 col3\" >Profit</th>        <th class=\"col_heading level0 col4\" >DayTrade</th>    </tr></thead><tbody>\n                <tr>\n                        <th id=\"T_c448b_level0_row0\" class=\"row_heading level0 row0\" >Total</th>\n                        <td id=\"T_c448b_row0_col0\" class=\"data row0 col0\" > </td>\n                        <td id=\"T_c448b_row0_col1\" class=\"data row0 col1\" > </td>\n                        <td id=\"T_c448b_row0_col2\" class=\"data row0 col2\" > </td>\n                        <td id=\"T_c448b_row0_col3\" class=\"data row0 col3\" >R$ 0.00</td>\n                        <td id=\"T_c448b_row0_col4\" class=\"data row0 col4\" > </td>\n            </tr>\n    </tbody></table>"
          },
          "metadata": {},
          "execution_count": 9
        }
      ]
    },
    {
      "cell_type": "markdown",
      "metadata": {
        "id": "OBRcPuk1NCV1"
      },
      "source": [
        "# Investiment Portifolio\n"
      ]
    },
    {
      "cell_type": "code",
      "metadata": {
        "colab": {
          "base_uri": "https://localhost:8080/"
        },
        "id": "feMVFkd35mqB",
        "outputId": "00ecd66b-543e-4e70-f885-a8cacf79c9e7"
      },
      "source": [
        "Portifolio(prcReader,df).show()"
      ],
      "execution_count": 10,
      "outputs": [
        {
          "output_type": "execute_result",
          "data": {
            "text/plain": [
              "<pandas.io.formats.style.Styler at 0x234184153c8>"
            ],
            "text/html": "<style  type=\"text/css\" >\n#T_450c8_row0_col0,#T_450c8_row0_col1,#T_450c8_row0_col2,#T_450c8_row0_col3,#T_450c8_row0_col4,#T_450c8_row0_col5,#T_450c8_row1_col0,#T_450c8_row1_col1,#T_450c8_row1_col2,#T_450c8_row1_col3,#T_450c8_row1_col4,#T_450c8_row1_col5,#T_450c8_row1_col6,#T_450c8_row1_col7,#T_450c8_row1_col8,#T_450c8_row1_col9,#T_450c8_row2_col0,#T_450c8_row2_col1,#T_450c8_row2_col2,#T_450c8_row2_col3,#T_450c8_row2_col4,#T_450c8_row2_col5,#T_450c8_row2_col6,#T_450c8_row2_col7,#T_450c8_row2_col8,#T_450c8_row2_col9,#T_450c8_row3_col0,#T_450c8_row3_col1,#T_450c8_row3_col2,#T_450c8_row3_col3,#T_450c8_row3_col4,#T_450c8_row3_col5,#T_450c8_row3_col6,#T_450c8_row3_col7,#T_450c8_row3_col8,#T_450c8_row3_col9,#T_450c8_row4_col0,#T_450c8_row4_col1,#T_450c8_row4_col2,#T_450c8_row4_col3,#T_450c8_row4_col4,#T_450c8_row4_col5,#T_450c8_row4_col6,#T_450c8_row4_col7,#T_450c8_row4_col8,#T_450c8_row4_col9,#T_450c8_row5_col0,#T_450c8_row5_col1,#T_450c8_row5_col2,#T_450c8_row5_col3,#T_450c8_row5_col4,#T_450c8_row5_col5,#T_450c8_row6_col0,#T_450c8_row6_col1,#T_450c8_row6_col2,#T_450c8_row6_col3,#T_450c8_row6_col4,#T_450c8_row6_col5,#T_450c8_row7_col0,#T_450c8_row7_col1,#T_450c8_row7_col2,#T_450c8_row7_col3,#T_450c8_row7_col4,#T_450c8_row7_col5,#T_450c8_row7_col6,#T_450c8_row7_col7,#T_450c8_row7_col8,#T_450c8_row7_col9,#T_450c8_row8_col0,#T_450c8_row8_col1,#T_450c8_row8_col2,#T_450c8_row8_col3,#T_450c8_row8_col4,#T_450c8_row8_col5,#T_450c8_row8_col6,#T_450c8_row8_col7,#T_450c8_row8_col8,#T_450c8_row8_col9,#T_450c8_row9_col0,#T_450c8_row9_col1,#T_450c8_row9_col2,#T_450c8_row9_col3,#T_450c8_row9_col4,#T_450c8_row9_col5,#T_450c8_row9_col6,#T_450c8_row9_col7,#T_450c8_row9_col8,#T_450c8_row9_col9,#T_450c8_row10_col0,#T_450c8_row10_col1,#T_450c8_row10_col2,#T_450c8_row10_col3,#T_450c8_row10_col4,#T_450c8_row10_col5,#T_450c8_row11_col0,#T_450c8_row11_col1,#T_450c8_row11_col2,#T_450c8_row11_col3,#T_450c8_row11_col4,#T_450c8_row11_col5,#T_450c8_row12_col0,#T_450c8_row12_col1,#T_450c8_row12_col2,#T_450c8_row12_col3,#T_450c8_row12_col4,#T_450c8_row12_col5,#T_450c8_row12_col6,#T_450c8_row12_col7,#T_450c8_row12_col8,#T_450c8_row12_col9,#T_450c8_row13_col0,#T_450c8_row13_col1,#T_450c8_row13_col2,#T_450c8_row13_col3,#T_450c8_row13_col4,#T_450c8_row13_col5,#T_450c8_row14_col0,#T_450c8_row14_col1,#T_450c8_row14_col2,#T_450c8_row14_col3,#T_450c8_row14_col4,#T_450c8_row14_col5,#T_450c8_row14_col6,#T_450c8_row14_col7,#T_450c8_row14_col8,#T_450c8_row14_col9,#T_450c8_row15_col0,#T_450c8_row15_col1,#T_450c8_row15_col2,#T_450c8_row15_col3,#T_450c8_row15_col4,#T_450c8_row15_col5,#T_450c8_row15_col6,#T_450c8_row15_col7,#T_450c8_row15_col8,#T_450c8_row15_col9,#T_450c8_row16_col0,#T_450c8_row16_col1,#T_450c8_row16_col2,#T_450c8_row16_col3,#T_450c8_row16_col4,#T_450c8_row16_col5,#T_450c8_row16_col6,#T_450c8_row16_col7,#T_450c8_row16_col8,#T_450c8_row16_col9,#T_450c8_row17_col0,#T_450c8_row17_col1,#T_450c8_row17_col2,#T_450c8_row17_col3,#T_450c8_row17_col4,#T_450c8_row17_col5,#T_450c8_row17_col6,#T_450c8_row17_col7,#T_450c8_row17_col8,#T_450c8_row17_col9,#T_450c8_row18_col0,#T_450c8_row18_col1,#T_450c8_row18_col2,#T_450c8_row18_col3,#T_450c8_row18_col4,#T_450c8_row18_col5,#T_450c8_row18_col6,#T_450c8_row18_col7,#T_450c8_row18_col8,#T_450c8_row18_col9{\n            color:  green;\n        }#T_450c8_row0_col6,#T_450c8_row0_col7,#T_450c8_row0_col8,#T_450c8_row0_col9,#T_450c8_row5_col6,#T_450c8_row5_col7,#T_450c8_row5_col8,#T_450c8_row5_col9,#T_450c8_row6_col6,#T_450c8_row6_col7,#T_450c8_row6_col8,#T_450c8_row6_col9,#T_450c8_row10_col6,#T_450c8_row10_col7,#T_450c8_row10_col8,#T_450c8_row10_col9,#T_450c8_row11_col6,#T_450c8_row11_col7,#T_450c8_row11_col8,#T_450c8_row11_col9,#T_450c8_row13_col6,#T_450c8_row13_col7,#T_450c8_row13_col8,#T_450c8_row13_col9{\n            color:  red;\n        }</style><table id=\"T_450c8_\" ><thead>    <tr>        <th class=\"blank level0\" ></th>        <th class=\"col_heading level0 col0\" >PM</th>        <th class=\"col_heading level0 col1\" >Cotacao</th>        <th class=\"col_heading level0 col2\" >Quantidade</th>        <th class=\"col_heading level0 col3\" >Custo</th>        <th class=\"col_heading level0 col4\" >Valor</th>        <th class=\"col_heading level0 col5\" >Proventos</th>        <th class=\"col_heading level0 col6\" >Rentabilidade</th>        <th class=\"col_heading level0 col7\" >Lucro</th>        <th class=\"col_heading level0 col8\" >%R</th>        <th class=\"col_heading level0 col9\" >%R+d</th>    </tr>    <tr>        <th class=\"index_name level0\" >Ativo</th>        <th class=\"blank\" ></th>        <th class=\"blank\" ></th>        <th class=\"blank\" ></th>        <th class=\"blank\" ></th>        <th class=\"blank\" ></th>        <th class=\"blank\" ></th>        <th class=\"blank\" ></th>        <th class=\"blank\" ></th>        <th class=\"blank\" ></th>        <th class=\"blank\" ></th>    </tr></thead><tbody>\n                <tr>\n                        <th id=\"T_450c8_level0_row0\" class=\"row_heading level0 row0\" >B3SA3</th>\n                        <td id=\"T_450c8_row0_col0\" class=\"data row0 col0\" >R$ 57.15</td>\n                        <td id=\"T_450c8_row0_col1\" class=\"data row0 col1\" >R$ 55.30</td>\n                        <td id=\"T_450c8_row0_col2\" class=\"data row0 col2\" >24</td>\n                        <td id=\"T_450c8_row0_col3\" class=\"data row0 col3\" >R$ 1,371.58</td>\n                        <td id=\"T_450c8_row0_col4\" class=\"data row0 col4\" >R$ 1,327.20</td>\n                        <td id=\"T_450c8_row0_col5\" class=\"data row0 col5\" >R$ 33.42</td>\n                        <td id=\"T_450c8_row0_col6\" class=\"data row0 col6\" >R$ -44.38</td>\n                        <td id=\"T_450c8_row0_col7\" class=\"data row0 col7\" >R$ -10.96</td>\n                        <td id=\"T_450c8_row0_col8\" class=\"data row0 col8\" >-3.24%</td>\n                        <td id=\"T_450c8_row0_col9\" class=\"data row0 col9\" >-0.80%</td>\n            </tr>\n            <tr>\n                        <th id=\"T_450c8_level0_row1\" class=\"row_heading level0 row1\" >BPAC11</th>\n                        <td id=\"T_450c8_row1_col0\" class=\"data row1 col0\" >R$ 87.84</td>\n                        <td id=\"T_450c8_row1_col1\" class=\"data row1 col1\" >R$ 98.60</td>\n                        <td id=\"T_450c8_row1_col2\" class=\"data row1 col2\" >13</td>\n                        <td id=\"T_450c8_row1_col3\" class=\"data row1 col3\" >R$ 1,141.87</td>\n                        <td id=\"T_450c8_row1_col4\" class=\"data row1 col4\" >R$ 1,281.80</td>\n                        <td id=\"T_450c8_row1_col5\" class=\"data row1 col5\" >R$ 4.23</td>\n                        <td id=\"T_450c8_row1_col6\" class=\"data row1 col6\" >R$ 139.93</td>\n                        <td id=\"T_450c8_row1_col7\" class=\"data row1 col7\" >R$ 144.16</td>\n                        <td id=\"T_450c8_row1_col8\" class=\"data row1 col8\" >12.25%</td>\n                        <td id=\"T_450c8_row1_col9\" class=\"data row1 col9\" >12.62%</td>\n            </tr>\n            <tr>\n                        <th id=\"T_450c8_level0_row2\" class=\"row_heading level0 row2\" >BPAN4</th>\n                        <td id=\"T_450c8_row2_col0\" class=\"data row2 col0\" >R$ 8.33</td>\n                        <td id=\"T_450c8_row2_col1\" class=\"data row2 col1\" >R$ 14.03</td>\n                        <td id=\"T_450c8_row2_col2\" class=\"data row2 col2\" >760</td>\n                        <td id=\"T_450c8_row2_col3\" class=\"data row2 col3\" >R$ 6,330.36</td>\n                        <td id=\"T_450c8_row2_col4\" class=\"data row2 col4\" >R$ 10,662.80</td>\n                        <td id=\"T_450c8_row2_col5\" class=\"data row2 col5\" >R$ 130.81</td>\n                        <td id=\"T_450c8_row2_col6\" class=\"data row2 col6\" >R$ 4,332.44</td>\n                        <td id=\"T_450c8_row2_col7\" class=\"data row2 col7\" >R$ 4,463.25</td>\n                        <td id=\"T_450c8_row2_col8\" class=\"data row2 col8\" >68.44%</td>\n                        <td id=\"T_450c8_row2_col9\" class=\"data row2 col9\" >70.51%</td>\n            </tr>\n            <tr>\n                        <th id=\"T_450c8_level0_row3\" class=\"row_heading level0 row3\" >CASH3</th>\n                        <td id=\"T_450c8_row3_col0\" class=\"data row3 col0\" >R$ 27.21</td>\n                        <td id=\"T_450c8_row3_col1\" class=\"data row3 col1\" >R$ 32.91</td>\n                        <td id=\"T_450c8_row3_col2\" class=\"data row3 col2\" >19</td>\n                        <td id=\"T_450c8_row3_col3\" class=\"data row3 col3\" >R$ 516.99</td>\n                        <td id=\"T_450c8_row3_col4\" class=\"data row3 col4\" >R$ 625.29</td>\n                        <td id=\"T_450c8_row3_col5\" class=\"data row3 col5\" >R$ 0.00</td>\n                        <td id=\"T_450c8_row3_col6\" class=\"data row3 col6\" >R$ 108.30</td>\n                        <td id=\"T_450c8_row3_col7\" class=\"data row3 col7\" >R$ 108.30</td>\n                        <td id=\"T_450c8_row3_col8\" class=\"data row3 col8\" >20.95%</td>\n                        <td id=\"T_450c8_row3_col9\" class=\"data row3 col9\" >20.95%</td>\n            </tr>\n            <tr>\n                        <th id=\"T_450c8_level0_row4\" class=\"row_heading level0 row4\" >CIEL3</th>\n                        <td id=\"T_450c8_row4_col0\" class=\"data row4 col0\" >R$ 3.50</td>\n                        <td id=\"T_450c8_row4_col1\" class=\"data row4 col1\" >R$ 3.75</td>\n                        <td id=\"T_450c8_row4_col2\" class=\"data row4 col2\" >50</td>\n                        <td id=\"T_450c8_row4_col3\" class=\"data row4 col3\" >R$ 174.81</td>\n                        <td id=\"T_450c8_row4_col4\" class=\"data row4 col4\" >R$ 187.50</td>\n                        <td id=\"T_450c8_row4_col5\" class=\"data row4 col5\" >R$ 0.00</td>\n                        <td id=\"T_450c8_row4_col6\" class=\"data row4 col6\" >R$ 12.69</td>\n                        <td id=\"T_450c8_row4_col7\" class=\"data row4 col7\" >R$ 12.69</td>\n                        <td id=\"T_450c8_row4_col8\" class=\"data row4 col8\" >7.26%</td>\n                        <td id=\"T_450c8_row4_col9\" class=\"data row4 col9\" >7.26%</td>\n            </tr>\n            <tr>\n                        <th id=\"T_450c8_level0_row5\" class=\"row_heading level0 row5\" >COCE5</th>\n                        <td id=\"T_450c8_row5_col0\" class=\"data row5 col0\" >R$ 57.48</td>\n                        <td id=\"T_450c8_row5_col1\" class=\"data row5 col1\" >R$ 57.29</td>\n                        <td id=\"T_450c8_row5_col2\" class=\"data row5 col2\" >29</td>\n                        <td id=\"T_450c8_row5_col3\" class=\"data row5 col3\" >R$ 1,666.89</td>\n                        <td id=\"T_450c8_row5_col4\" class=\"data row5 col4\" >R$ 1,661.41</td>\n                        <td id=\"T_450c8_row5_col5\" class=\"data row5 col5\" >R$ 0.00</td>\n                        <td id=\"T_450c8_row5_col6\" class=\"data row5 col6\" >R$ -5.48</td>\n                        <td id=\"T_450c8_row5_col7\" class=\"data row5 col7\" >R$ -5.48</td>\n                        <td id=\"T_450c8_row5_col8\" class=\"data row5 col8\" >-0.33%</td>\n                        <td id=\"T_450c8_row5_col9\" class=\"data row5 col9\" >-0.33%</td>\n            </tr>\n            <tr>\n                        <th id=\"T_450c8_level0_row6\" class=\"row_heading level0 row6\" >CSAN3</th>\n                        <td id=\"T_450c8_row6_col0\" class=\"data row6 col0\" >R$ 92.88</td>\n                        <td id=\"T_450c8_row6_col1\" class=\"data row6 col1\" >R$ 89.87</td>\n                        <td id=\"T_450c8_row6_col2\" class=\"data row6 col2\" >4</td>\n                        <td id=\"T_450c8_row6_col3\" class=\"data row6 col3\" >R$ 371.51</td>\n                        <td id=\"T_450c8_row6_col4\" class=\"data row6 col4\" >R$ 359.48</td>\n                        <td id=\"T_450c8_row6_col5\" class=\"data row6 col5\" >R$ 0.00</td>\n                        <td id=\"T_450c8_row6_col6\" class=\"data row6 col6\" >R$ -12.03</td>\n                        <td id=\"T_450c8_row6_col7\" class=\"data row6 col7\" >R$ -12.03</td>\n                        <td id=\"T_450c8_row6_col8\" class=\"data row6 col8\" >-3.24%</td>\n                        <td id=\"T_450c8_row6_col9\" class=\"data row6 col9\" >-3.24%</td>\n            </tr>\n            <tr>\n                        <th id=\"T_450c8_level0_row7\" class=\"row_heading level0 row7\" >DIRR3</th>\n                        <td id=\"T_450c8_row7_col0\" class=\"data row7 col0\" >R$ 12.20</td>\n                        <td id=\"T_450c8_row7_col1\" class=\"data row7 col1\" >R$ 13.00</td>\n                        <td id=\"T_450c8_row7_col2\" class=\"data row7 col2\" >12</td>\n                        <td id=\"T_450c8_row7_col3\" class=\"data row7 col3\" >R$ 146.44</td>\n                        <td id=\"T_450c8_row7_col4\" class=\"data row7 col4\" >R$ 156.00</td>\n                        <td id=\"T_450c8_row7_col5\" class=\"data row7 col5\" >R$ 0.00</td>\n                        <td id=\"T_450c8_row7_col6\" class=\"data row7 col6\" >R$ 9.56</td>\n                        <td id=\"T_450c8_row7_col7\" class=\"data row7 col7\" >R$ 9.56</td>\n                        <td id=\"T_450c8_row7_col8\" class=\"data row7 col8\" >6.53%</td>\n                        <td id=\"T_450c8_row7_col9\" class=\"data row7 col9\" >6.53%</td>\n            </tr>\n            <tr>\n                        <th id=\"T_450c8_level0_row8\" class=\"row_heading level0 row8\" >ENEV3</th>\n                        <td id=\"T_450c8_row8_col0\" class=\"data row8 col0\" >R$ 1.48</td>\n                        <td id=\"T_450c8_row8_col1\" class=\"data row8 col1\" >R$ 16.78</td>\n                        <td id=\"T_450c8_row8_col2\" class=\"data row8 col2\" >5645</td>\n                        <td id=\"T_450c8_row8_col3\" class=\"data row8 col3\" >R$ 8,349.84</td>\n                        <td id=\"T_450c8_row8_col4\" class=\"data row8 col4\" >R$ 94,723.10</td>\n                        <td id=\"T_450c8_row8_col5\" class=\"data row8 col5\" >R$ 0.00</td>\n                        <td id=\"T_450c8_row8_col6\" class=\"data row8 col6\" >R$ 86,373.26</td>\n                        <td id=\"T_450c8_row8_col7\" class=\"data row8 col7\" >R$ 86,373.26</td>\n                        <td id=\"T_450c8_row8_col8\" class=\"data row8 col8\" >1,034.43%</td>\n                        <td id=\"T_450c8_row8_col9\" class=\"data row8 col9\" >1,034.43%</td>\n            </tr>\n            <tr>\n                        <th id=\"T_450c8_level0_row9\" class=\"row_heading level0 row9\" >JPSA3</th>\n                        <td id=\"T_450c8_row9_col0\" class=\"data row9 col0\" >R$ 26.27</td>\n                        <td id=\"T_450c8_row9_col1\" class=\"data row9 col1\" >R$ 27.32</td>\n                        <td id=\"T_450c8_row9_col2\" class=\"data row9 col2\" >175</td>\n                        <td id=\"T_450c8_row9_col3\" class=\"data row9 col3\" >R$ 4,598.04</td>\n                        <td id=\"T_450c8_row9_col4\" class=\"data row9 col4\" >R$ 4,781.00</td>\n                        <td id=\"T_450c8_row9_col5\" class=\"data row9 col5\" >R$ 10.47</td>\n                        <td id=\"T_450c8_row9_col6\" class=\"data row9 col6\" >R$ 182.96</td>\n                        <td id=\"T_450c8_row9_col7\" class=\"data row9 col7\" >R$ 193.43</td>\n                        <td id=\"T_450c8_row9_col8\" class=\"data row9 col8\" >3.98%</td>\n                        <td id=\"T_450c8_row9_col9\" class=\"data row9 col9\" >4.21%</td>\n            </tr>\n            <tr>\n                        <th id=\"T_450c8_level0_row10\" class=\"row_heading level0 row10\" >LAME4</th>\n                        <td id=\"T_450c8_row10_col0\" class=\"data row10 col0\" >R$ 26.54</td>\n                        <td id=\"T_450c8_row10_col1\" class=\"data row10 col1\" >R$ 24.07</td>\n                        <td id=\"T_450c8_row10_col2\" class=\"data row10 col2\" >99</td>\n                        <td id=\"T_450c8_row10_col3\" class=\"data row10 col3\" >R$ 2,627.49</td>\n                        <td id=\"T_450c8_row10_col4\" class=\"data row10 col4\" >R$ 2,382.93</td>\n                        <td id=\"T_450c8_row10_col5\" class=\"data row10 col5\" >R$ 11.87</td>\n                        <td id=\"T_450c8_row10_col6\" class=\"data row10 col6\" >R$ -244.56</td>\n                        <td id=\"T_450c8_row10_col7\" class=\"data row10 col7\" >R$ -232.69</td>\n                        <td id=\"T_450c8_row10_col8\" class=\"data row10 col8\" >-9.31%</td>\n                        <td id=\"T_450c8_row10_col9\" class=\"data row10 col9\" >-8.86%</td>\n            </tr>\n            <tr>\n                        <th id=\"T_450c8_level0_row11\" class=\"row_heading level0 row11\" >LJQQ3</th>\n                        <td id=\"T_450c8_row11_col0\" class=\"data row11 col0\" >R$ 16.93</td>\n                        <td id=\"T_450c8_row11_col1\" class=\"data row11 col1\" >R$ 16.30</td>\n                        <td id=\"T_450c8_row11_col2\" class=\"data row11 col2\" >83</td>\n                        <td id=\"T_450c8_row11_col3\" class=\"data row11 col3\" >R$ 1,405.47</td>\n                        <td id=\"T_450c8_row11_col4\" class=\"data row11 col4\" >R$ 1,352.90</td>\n                        <td id=\"T_450c8_row11_col5\" class=\"data row11 col5\" >R$ 0.00</td>\n                        <td id=\"T_450c8_row11_col6\" class=\"data row11 col6\" >R$ -52.57</td>\n                        <td id=\"T_450c8_row11_col7\" class=\"data row11 col7\" >R$ -52.57</td>\n                        <td id=\"T_450c8_row11_col8\" class=\"data row11 col8\" >-3.74%</td>\n                        <td id=\"T_450c8_row11_col9\" class=\"data row11 col9\" >-3.74%</td>\n            </tr>\n            <tr>\n                        <th id=\"T_450c8_level0_row12\" class=\"row_heading level0 row12\" >MGLU3</th>\n                        <td id=\"T_450c8_row12_col0\" class=\"data row12 col0\" >R$ 5.45</td>\n                        <td id=\"T_450c8_row12_col1\" class=\"data row12 col1\" >R$ 22.20</td>\n                        <td id=\"T_450c8_row12_col2\" class=\"data row12 col2\" >386</td>\n                        <td id=\"T_450c8_row12_col3\" class=\"data row12 col3\" >R$ 2,105.01</td>\n                        <td id=\"T_450c8_row12_col4\" class=\"data row12 col4\" >R$ 8,569.20</td>\n                        <td id=\"T_450c8_row12_col5\" class=\"data row12 col5\" >R$ 14.80</td>\n                        <td id=\"T_450c8_row12_col6\" class=\"data row12 col6\" >R$ 6,464.19</td>\n                        <td id=\"T_450c8_row12_col7\" class=\"data row12 col7\" >R$ 6,478.99</td>\n                        <td id=\"T_450c8_row12_col8\" class=\"data row12 col8\" >307.09%</td>\n                        <td id=\"T_450c8_row12_col9\" class=\"data row12 col9\" >307.79%</td>\n            </tr>\n            <tr>\n                        <th id=\"T_450c8_level0_row13\" class=\"row_heading level0 row13\" >MTRE3</th>\n                        <td id=\"T_450c8_row13_col0\" class=\"data row13 col0\" >R$ 14.26</td>\n                        <td id=\"T_450c8_row13_col1\" class=\"data row13 col1\" >R$ 12.98</td>\n                        <td id=\"T_450c8_row13_col2\" class=\"data row13 col2\" >108</td>\n                        <td id=\"T_450c8_row13_col3\" class=\"data row13 col3\" >R$ 1,539.84</td>\n                        <td id=\"T_450c8_row13_col4\" class=\"data row13 col4\" >R$ 1,401.84</td>\n                        <td id=\"T_450c8_row13_col5\" class=\"data row13 col5\" >R$ 0.00</td>\n                        <td id=\"T_450c8_row13_col6\" class=\"data row13 col6\" >R$ -138.00</td>\n                        <td id=\"T_450c8_row13_col7\" class=\"data row13 col7\" >R$ -138.00</td>\n                        <td id=\"T_450c8_row13_col8\" class=\"data row13 col8\" >-8.96%</td>\n                        <td id=\"T_450c8_row13_col9\" class=\"data row13 col9\" >-8.96%</td>\n            </tr>\n            <tr>\n                        <th id=\"T_450c8_level0_row14\" class=\"row_heading level0 row14\" >NTCO3</th>\n                        <td id=\"T_450c8_row14_col0\" class=\"data row14 col0\" >R$ 48.58</td>\n                        <td id=\"T_450c8_row14_col1\" class=\"data row14 col1\" >R$ 51.91</td>\n                        <td id=\"T_450c8_row14_col2\" class=\"data row14 col2\" >43</td>\n                        <td id=\"T_450c8_row14_col3\" class=\"data row14 col3\" >R$ 2,088.74</td>\n                        <td id=\"T_450c8_row14_col4\" class=\"data row14 col4\" >R$ 2,232.13</td>\n                        <td id=\"T_450c8_row14_col5\" class=\"data row14 col5\" >R$ 0.00</td>\n                        <td id=\"T_450c8_row14_col6\" class=\"data row14 col6\" >R$ 143.39</td>\n                        <td id=\"T_450c8_row14_col7\" class=\"data row14 col7\" >R$ 143.39</td>\n                        <td id=\"T_450c8_row14_col8\" class=\"data row14 col8\" >6.87%</td>\n                        <td id=\"T_450c8_row14_col9\" class=\"data row14 col9\" >6.87%</td>\n            </tr>\n            <tr>\n                        <th id=\"T_450c8_level0_row15\" class=\"row_heading level0 row15\" >OIBR3</th>\n                        <td id=\"T_450c8_row15_col0\" class=\"data row15 col0\" >R$ 1.13</td>\n                        <td id=\"T_450c8_row15_col1\" class=\"data row15 col1\" >R$ 1.81</td>\n                        <td id=\"T_450c8_row15_col2\" class=\"data row15 col2\" >4678</td>\n                        <td id=\"T_450c8_row15_col3\" class=\"data row15 col3\" >R$ 5,281.08</td>\n                        <td id=\"T_450c8_row15_col4\" class=\"data row15 col4\" >R$ 8,467.18</td>\n                        <td id=\"T_450c8_row15_col5\" class=\"data row15 col5\" >R$ 0.00</td>\n                        <td id=\"T_450c8_row15_col6\" class=\"data row15 col6\" >R$ 3,186.10</td>\n                        <td id=\"T_450c8_row15_col7\" class=\"data row15 col7\" >R$ 3,186.10</td>\n                        <td id=\"T_450c8_row15_col8\" class=\"data row15 col8\" >60.33%</td>\n                        <td id=\"T_450c8_row15_col9\" class=\"data row15 col9\" >60.33%</td>\n            </tr>\n            <tr>\n                        <th id=\"T_450c8_level0_row16\" class=\"row_heading level0 row16\" >SAPR11</th>\n                        <td id=\"T_450c8_row16_col0\" class=\"data row16 col0\" >R$ 9.65</td>\n                        <td id=\"T_450c8_row16_col1\" class=\"data row16 col1\" >R$ 21.11</td>\n                        <td id=\"T_450c8_row16_col2\" class=\"data row16 col2\" >346</td>\n                        <td id=\"T_450c8_row16_col3\" class=\"data row16 col3\" >R$ 3,338.80</td>\n                        <td id=\"T_450c8_row16_col4\" class=\"data row16 col4\" >R$ 7,304.06</td>\n                        <td id=\"T_450c8_row16_col5\" class=\"data row16 col5\" >R$ 675.99</td>\n                        <td id=\"T_450c8_row16_col6\" class=\"data row16 col6\" >R$ 3,965.26</td>\n                        <td id=\"T_450c8_row16_col7\" class=\"data row16 col7\" >R$ 4,641.26</td>\n                        <td id=\"T_450c8_row16_col8\" class=\"data row16 col8\" >118.76%</td>\n                        <td id=\"T_450c8_row16_col9\" class=\"data row16 col9\" >139.01%</td>\n            </tr>\n            <tr>\n                        <th id=\"T_450c8_level0_row17\" class=\"row_heading level0 row17\" >VALE3</th>\n                        <td id=\"T_450c8_row17_col0\" class=\"data row17 col0\" >R$ 66.75</td>\n                        <td id=\"T_450c8_row17_col1\" class=\"data row17 col1\" >R$ 103.58</td>\n                        <td id=\"T_450c8_row17_col2\" class=\"data row17 col2\" >71</td>\n                        <td id=\"T_450c8_row17_col3\" class=\"data row17 col3\" >R$ 4,739.27</td>\n                        <td id=\"T_450c8_row17_col4\" class=\"data row17 col4\" >R$ 7,354.18</td>\n                        <td id=\"T_450c8_row17_col5\" class=\"data row17 col5\" >R$ 358.41</td>\n                        <td id=\"T_450c8_row17_col6\" class=\"data row17 col6\" >R$ 2,614.91</td>\n                        <td id=\"T_450c8_row17_col7\" class=\"data row17 col7\" >R$ 2,973.32</td>\n                        <td id=\"T_450c8_row17_col8\" class=\"data row17 col8\" >55.18%</td>\n                        <td id=\"T_450c8_row17_col9\" class=\"data row17 col9\" >62.74%</td>\n            </tr>\n            <tr>\n                        <th id=\"T_450c8_level0_row18\" class=\"row_heading level0 row18\" >YDUQ3</th>\n                        <td id=\"T_450c8_row18_col0\" class=\"data row18 col0\" >R$ 29.55</td>\n                        <td id=\"T_450c8_row18_col1\" class=\"data row18 col1\" >R$ 32.67</td>\n                        <td id=\"T_450c8_row18_col2\" class=\"data row18 col2\" >41</td>\n                        <td id=\"T_450c8_row18_col3\" class=\"data row18 col3\" >R$ 1,211.40</td>\n                        <td id=\"T_450c8_row18_col4\" class=\"data row18 col4\" >R$ 1,339.47</td>\n                        <td id=\"T_450c8_row18_col5\" class=\"data row18 col5\" >R$ 3.06</td>\n                        <td id=\"T_450c8_row18_col6\" class=\"data row18 col6\" >R$ 128.07</td>\n                        <td id=\"T_450c8_row18_col7\" class=\"data row18 col7\" >R$ 131.12</td>\n                        <td id=\"T_450c8_row18_col8\" class=\"data row18 col8\" >10.57%</td>\n                        <td id=\"T_450c8_row18_col9\" class=\"data row18 col9\" >10.82%</td>\n            </tr>\n    </tbody></table>"
          },
          "metadata": {},
          "execution_count": 10
        }
      ]
    },
    {
      "cell_type": "markdown",
      "metadata": {
        "id": "Ec37SlxuAbFe"
      },
      "source": [
        "# Performance Blueprint"
      ]
    },
    {
      "cell_type": "code",
      "metadata": {
        "id": "StrFKb6vJ0mC"
      },
      "source": [
        "\n",
        "p = PerformanceBlueprint(prcReader, df, dt.datetime.today().strftime('%m-%d-%Y'))\n",
        "PerformanceViewer(p.calc()).show()\n"
      ],
      "execution_count": 11,
      "outputs": [
        {
          "output_type": "execute_result",
          "data": {
            "text/plain": [
              "<pandas.io.formats.style.Styler at 0x23419d83708>"
            ],
            "text/html": "<style  type=\"text/css\" >\n#T_52241_row0_col0,#T_52241_row0_col1,#T_52241_row1_col0,#T_52241_row1_col1,#T_52241_row2_col0,#T_52241_row2_col1,#T_52241_row3_col0,#T_52241_row3_col1,#T_52241_row4_col0,#T_52241_row4_col1,#T_52241_row5_col0,#T_52241_row5_col1,#T_52241_row6_col0,#T_52241_row6_col1{\n            color:  green;\n        }</style><table id=\"T_52241_\" ><thead>    <tr>        <th class=\"blank level0\" ></th>        <th class=\"col_heading level0 col0\" >Value R$</th>        <th class=\"col_heading level0 col1\" >%C</th>    </tr>    <tr>        <th class=\"index_name level0\" >Item</th>        <th class=\"blank\" ></th>        <th class=\"blank\" ></th>    </tr></thead><tbody>\n                <tr>\n                        <th id=\"T_52241_level0_row0\" class=\"row_heading level0 row0\" >Equity          </th>\n                        <td id=\"T_52241_row0_col0\" class=\"data row0 col0\" > 156,169.47</td>\n                        <td id=\"T_52241_row0_col1\" class=\"data row0 col1\" > 318.7%</td>\n            </tr>\n            <tr>\n                        <th id=\"T_52241_level0_row1\" class=\"row_heading level0 row1\" >Cost            </th>\n                        <td id=\"T_52241_row1_col0\" class=\"data row1 col0\" > 49,005.44</td>\n                        <td id=\"T_52241_row1_col1\" class=\"data row1 col1\" > 100.0%</td>\n            </tr>\n            <tr>\n                        <th id=\"T_52241_level0_row2\" class=\"row_heading level0 row2\" >Expenses        </th>\n                        <td id=\"T_52241_row2_col0\" class=\"data row2 col0\" > 14.70</td>\n                        <td id=\"T_52241_row2_col1\" class=\"data row2 col1\" > 0.0%</td>\n            </tr>\n            <tr>\n                        <th id=\"T_52241_level0_row3\" class=\"row_heading level0 row3\" >Paper profit    </th>\n                        <td id=\"T_52241_row3_col0\" class=\"data row3 col0\" > 107,164.03</td>\n                        <td id=\"T_52241_row3_col1\" class=\"data row3 col1\" > 218.7%</td>\n            </tr>\n            <tr>\n                        <th id=\"T_52241_level0_row4\" class=\"row_heading level0 row4\" >Realized profit </th>\n                        <td id=\"T_52241_row4_col0\" class=\"data row4 col0\" > 0.00</td>\n                        <td id=\"T_52241_row4_col1\" class=\"data row4 col1\" > 0.0%</td>\n            </tr>\n            <tr>\n                        <th id=\"T_52241_level0_row5\" class=\"row_heading level0 row5\" >Dividends       </th>\n                        <td id=\"T_52241_row5_col0\" class=\"data row5 col0\" > 1,243.07</td>\n                        <td id=\"T_52241_row5_col1\" class=\"data row5 col1\" > 2.5%</td>\n            </tr>\n            <tr>\n                        <th id=\"T_52241_level0_row6\" class=\"row_heading level0 row6\" >Total Profit    </th>\n                        <td id=\"T_52241_row6_col0\" class=\"data row6 col0\" > 108,407.10</td>\n                        <td id=\"T_52241_row6_col1\" class=\"data row6 col1\" > 221.2%</td>\n            </tr>\n    </tbody></table>"
          },
          "metadata": {},
          "execution_count": 11
        }
      ]
    },
    {
      "cell_type": "markdown",
      "metadata": {
        "id": "NcxaN1S_zaj7"
      },
      "source": [
        "# Taxation\n"
      ]
    },
    {
      "cell_type": "code",
      "metadata": {
        "id": "3qFPDbkazhjt"
      },
      "source": [
        "profitLossDF = df.loc[df['Profit'] != 0]\n",
        "tx = Taxation(profitLossDF)"
      ],
      "execution_count": 12,
      "outputs": []
    },
    {
      "cell_type": "markdown",
      "metadata": {
        "id": "7m_kmrYShSeA"
      },
      "source": [
        "## FII"
      ]
    },
    {
      "cell_type": "markdown",
      "metadata": {
        "id": "OY2M14dSiYTU"
      },
      "source": [
        "### Swing Trade"
      ]
    },
    {
      "cell_type": "code",
      "metadata": {
        "colab": {
          "base_uri": "https://localhost:8080/"
        },
        "id": "kjtJO-cIhduj",
        "outputId": "8aa91289-2994-44d4-ae08-0c0704c2cd7c"
      },
      "source": [
        "tx.Process('FII')\n",
        "display(tx.swingTradeTable)"
      ],
      "execution_count": 13,
      "outputs": [
        {
          "output_type": "error",
          "ename": "KeyError",
          "evalue": "'Year'",
          "traceback": [
            "\u001b[1;31m---------------------------------------------------------------------------\u001b[0m",
            "\u001b[1;31mKeyError\u001b[0m                                  Traceback (most recent call last)",
            "\u001b[1;32m~\\AppData\\Local\\Programs\\Python\\Python37\\lib\\site-packages\\pandas\\core\\indexes\\base.py\u001b[0m in \u001b[0;36mget_loc\u001b[1;34m(self, key, method, tolerance)\u001b[0m\n\u001b[0;32m   3079\u001b[0m             \u001b[1;32mtry\u001b[0m\u001b[1;33m:\u001b[0m\u001b[1;33m\u001b[0m\u001b[1;33m\u001b[0m\u001b[0m\n\u001b[1;32m-> 3080\u001b[1;33m                 \u001b[1;32mreturn\u001b[0m \u001b[0mself\u001b[0m\u001b[1;33m.\u001b[0m\u001b[0m_engine\u001b[0m\u001b[1;33m.\u001b[0m\u001b[0mget_loc\u001b[0m\u001b[1;33m(\u001b[0m\u001b[0mcasted_key\u001b[0m\u001b[1;33m)\u001b[0m\u001b[1;33m\u001b[0m\u001b[1;33m\u001b[0m\u001b[0m\n\u001b[0m\u001b[0;32m   3081\u001b[0m             \u001b[1;32mexcept\u001b[0m \u001b[0mKeyError\u001b[0m \u001b[1;32mas\u001b[0m \u001b[0merr\u001b[0m\u001b[1;33m:\u001b[0m\u001b[1;33m\u001b[0m\u001b[1;33m\u001b[0m\u001b[0m\n",
            "\u001b[1;32mpandas\\_libs\\index.pyx\u001b[0m in \u001b[0;36mpandas._libs.index.IndexEngine.get_loc\u001b[1;34m()\u001b[0m\n",
            "\u001b[1;32mpandas\\_libs\\index.pyx\u001b[0m in \u001b[0;36mpandas._libs.index.IndexEngine.get_loc\u001b[1;34m()\u001b[0m\n",
            "\u001b[1;32mpandas\\_libs\\hashtable_class_helper.pxi\u001b[0m in \u001b[0;36mpandas._libs.hashtable.PyObjectHashTable.get_item\u001b[1;34m()\u001b[0m\n",
            "\u001b[1;32mpandas\\_libs\\hashtable_class_helper.pxi\u001b[0m in \u001b[0;36mpandas._libs.hashtable.PyObjectHashTable.get_item\u001b[1;34m()\u001b[0m\n",
            "\u001b[1;31mKeyError\u001b[0m: 'Year'",
            "\nThe above exception was the direct cause of the following exception:\n",
            "\u001b[1;31mKeyError\u001b[0m                                  Traceback (most recent call last)",
            "\u001b[1;32m<ipython-input-13-a19ce17c1b99>\u001b[0m in \u001b[0;36m<module>\u001b[1;34m\u001b[0m\n\u001b[1;32m----> 1\u001b[1;33m \u001b[0mtx\u001b[0m\u001b[1;33m.\u001b[0m\u001b[0mProcess\u001b[0m\u001b[1;33m(\u001b[0m\u001b[1;34m'FII'\u001b[0m\u001b[1;33m)\u001b[0m\u001b[1;33m\u001b[0m\u001b[1;33m\u001b[0m\u001b[0m\n\u001b[0m\u001b[0;32m      2\u001b[0m \u001b[0mdisplay\u001b[0m\u001b[1;33m(\u001b[0m\u001b[0mtx\u001b[0m\u001b[1;33m.\u001b[0m\u001b[0mswingTradeTable\u001b[0m\u001b[1;33m)\u001b[0m\u001b[1;33m\u001b[0m\u001b[1;33m\u001b[0m\u001b[0m\n",
            "\u001b[1;32mh:\\Git\\Finances\\FinanceTools.py\u001b[0m in \u001b[0;36mProcess\u001b[1;34m(self, stockType)\u001b[0m\n\u001b[0;32m    401\u001b[0m   \u001b[1;32mdef\u001b[0m \u001b[0mProcess\u001b[0m\u001b[1;33m(\u001b[0m\u001b[0mself\u001b[0m\u001b[1;33m,\u001b[0m \u001b[0mstockType\u001b[0m\u001b[1;33m=\u001b[0m\u001b[1;34m'FII'\u001b[0m\u001b[1;33m)\u001b[0m\u001b[1;33m:\u001b[0m\u001b[1;33m\u001b[0m\u001b[1;33m\u001b[0m\u001b[0m\n\u001b[0;32m    402\u001b[0m \u001b[1;33m\u001b[0m\u001b[0m\n\u001b[1;32m--> 403\u001b[1;33m     \u001b[0mtaxDF\u001b[0m \u001b[1;33m=\u001b[0m \u001b[0mself\u001b[0m\u001b[1;33m.\u001b[0m\u001b[0mSwingTrade\u001b[0m\u001b[1;33m(\u001b[0m\u001b[0mstockType\u001b[0m\u001b[1;33m)\u001b[0m\u001b[1;33m\u001b[0m\u001b[1;33m\u001b[0m\u001b[0m\n\u001b[0m\u001b[0;32m    404\u001b[0m     \u001b[1;32mif\u001b[0m\u001b[1;33m(\u001b[0m\u001b[0mlen\u001b[0m\u001b[1;33m(\u001b[0m\u001b[0mtaxDF\u001b[0m\u001b[1;33m)\u001b[0m \u001b[1;33m>\u001b[0m \u001b[1;36m0\u001b[0m\u001b[1;33m)\u001b[0m\u001b[1;33m:\u001b[0m\u001b[1;33m\u001b[0m\u001b[1;33m\u001b[0m\u001b[0m\n\u001b[0;32m    405\u001b[0m       \u001b[1;31m# print('Swingtrade')\u001b[0m\u001b[1;33m\u001b[0m\u001b[1;33m\u001b[0m\u001b[1;33m\u001b[0m\u001b[0m\n",
            "\u001b[1;32mh:\\Git\\Finances\\FinanceTools.py\u001b[0m in \u001b[0;36mSwingTrade\u001b[1;34m(self, stockType)\u001b[0m\n\u001b[0;32m    396\u001b[0m       \u001b[0mswingTrade\u001b[0m\u001b[1;33m=\u001b[0m\u001b[0mpd\u001b[0m\u001b[1;33m.\u001b[0m\u001b[0mconcat\u001b[0m\u001b[1;33m(\u001b[0m\u001b[1;33m[\u001b[0m\u001b[0mswingTrade\u001b[0m\u001b[1;33m,\u001b[0m \u001b[0mres\u001b[0m\u001b[1;33m]\u001b[0m\u001b[1;33m,\u001b[0m \u001b[0maxis\u001b[0m\u001b[1;33m=\u001b[0m\u001b[1;36m0\u001b[0m\u001b[1;33m)\u001b[0m\u001b[1;33m\u001b[0m\u001b[1;33m\u001b[0m\u001b[0m\n\u001b[0;32m    397\u001b[0m \u001b[1;33m\u001b[0m\u001b[0m\n\u001b[1;32m--> 398\u001b[1;33m     \u001b[0mswingTrade\u001b[0m\u001b[1;33m[\u001b[0m\u001b[1;34m'Year'\u001b[0m\u001b[1;33m]\u001b[0m \u001b[1;33m=\u001b[0m \u001b[0mswingTrade\u001b[0m\u001b[1;33m[\u001b[0m\u001b[1;34m'Year'\u001b[0m\u001b[1;33m]\u001b[0m\u001b[1;33m.\u001b[0m\u001b[0mastype\u001b[0m\u001b[1;33m(\u001b[0m\u001b[0mint\u001b[0m\u001b[1;33m)\u001b[0m\u001b[1;33m\u001b[0m\u001b[1;33m\u001b[0m\u001b[0m\n\u001b[0m\u001b[0;32m    399\u001b[0m     \u001b[1;32mreturn\u001b[0m \u001b[0mswingTrade\u001b[0m\u001b[1;33m\u001b[0m\u001b[1;33m\u001b[0m\u001b[0m\n\u001b[0;32m    400\u001b[0m \u001b[1;33m\u001b[0m\u001b[0m\n",
            "\u001b[1;32m~\\AppData\\Local\\Programs\\Python\\Python37\\lib\\site-packages\\pandas\\core\\frame.py\u001b[0m in \u001b[0;36m__getitem__\u001b[1;34m(self, key)\u001b[0m\n\u001b[0;32m   3022\u001b[0m             \u001b[1;32mif\u001b[0m \u001b[0mself\u001b[0m\u001b[1;33m.\u001b[0m\u001b[0mcolumns\u001b[0m\u001b[1;33m.\u001b[0m\u001b[0mnlevels\u001b[0m \u001b[1;33m>\u001b[0m \u001b[1;36m1\u001b[0m\u001b[1;33m:\u001b[0m\u001b[1;33m\u001b[0m\u001b[1;33m\u001b[0m\u001b[0m\n\u001b[0;32m   3023\u001b[0m                 \u001b[1;32mreturn\u001b[0m \u001b[0mself\u001b[0m\u001b[1;33m.\u001b[0m\u001b[0m_getitem_multilevel\u001b[0m\u001b[1;33m(\u001b[0m\u001b[0mkey\u001b[0m\u001b[1;33m)\u001b[0m\u001b[1;33m\u001b[0m\u001b[1;33m\u001b[0m\u001b[0m\n\u001b[1;32m-> 3024\u001b[1;33m             \u001b[0mindexer\u001b[0m \u001b[1;33m=\u001b[0m \u001b[0mself\u001b[0m\u001b[1;33m.\u001b[0m\u001b[0mcolumns\u001b[0m\u001b[1;33m.\u001b[0m\u001b[0mget_loc\u001b[0m\u001b[1;33m(\u001b[0m\u001b[0mkey\u001b[0m\u001b[1;33m)\u001b[0m\u001b[1;33m\u001b[0m\u001b[1;33m\u001b[0m\u001b[0m\n\u001b[0m\u001b[0;32m   3025\u001b[0m             \u001b[1;32mif\u001b[0m \u001b[0mis_integer\u001b[0m\u001b[1;33m(\u001b[0m\u001b[0mindexer\u001b[0m\u001b[1;33m)\u001b[0m\u001b[1;33m:\u001b[0m\u001b[1;33m\u001b[0m\u001b[1;33m\u001b[0m\u001b[0m\n\u001b[0;32m   3026\u001b[0m                 \u001b[0mindexer\u001b[0m \u001b[1;33m=\u001b[0m \u001b[1;33m[\u001b[0m\u001b[0mindexer\u001b[0m\u001b[1;33m]\u001b[0m\u001b[1;33m\u001b[0m\u001b[1;33m\u001b[0m\u001b[0m\n",
            "\u001b[1;32m~\\AppData\\Local\\Programs\\Python\\Python37\\lib\\site-packages\\pandas\\core\\indexes\\base.py\u001b[0m in \u001b[0;36mget_loc\u001b[1;34m(self, key, method, tolerance)\u001b[0m\n\u001b[0;32m   3080\u001b[0m                 \u001b[1;32mreturn\u001b[0m \u001b[0mself\u001b[0m\u001b[1;33m.\u001b[0m\u001b[0m_engine\u001b[0m\u001b[1;33m.\u001b[0m\u001b[0mget_loc\u001b[0m\u001b[1;33m(\u001b[0m\u001b[0mcasted_key\u001b[0m\u001b[1;33m)\u001b[0m\u001b[1;33m\u001b[0m\u001b[1;33m\u001b[0m\u001b[0m\n\u001b[0;32m   3081\u001b[0m             \u001b[1;32mexcept\u001b[0m \u001b[0mKeyError\u001b[0m \u001b[1;32mas\u001b[0m \u001b[0merr\u001b[0m\u001b[1;33m:\u001b[0m\u001b[1;33m\u001b[0m\u001b[1;33m\u001b[0m\u001b[0m\n\u001b[1;32m-> 3082\u001b[1;33m                 \u001b[1;32mraise\u001b[0m \u001b[0mKeyError\u001b[0m\u001b[1;33m(\u001b[0m\u001b[0mkey\u001b[0m\u001b[1;33m)\u001b[0m \u001b[1;32mfrom\u001b[0m \u001b[0merr\u001b[0m\u001b[1;33m\u001b[0m\u001b[1;33m\u001b[0m\u001b[0m\n\u001b[0m\u001b[0;32m   3083\u001b[0m \u001b[1;33m\u001b[0m\u001b[0m\n\u001b[0;32m   3084\u001b[0m         \u001b[1;32mif\u001b[0m \u001b[0mtolerance\u001b[0m \u001b[1;32mis\u001b[0m \u001b[1;32mnot\u001b[0m \u001b[1;32mNone\u001b[0m\u001b[1;33m:\u001b[0m\u001b[1;33m\u001b[0m\u001b[1;33m\u001b[0m\u001b[0m\n",
            "\u001b[1;31mKeyError\u001b[0m: 'Year'"
          ]
        }
      ]
    },
    {
      "cell_type": "markdown",
      "metadata": {
        "id": "NiaTCwy5hpgc"
      },
      "source": [
        "### Day Trade"
      ]
    },
    {
      "cell_type": "code",
      "metadata": {
        "colab": {
          "base_uri": "https://localhost:8080/"
        },
        "id": "n_efkAaBhwFY",
        "outputId": "74b6dda3-3a9e-46cf-a966-df695204e089"
      },
      "source": [
        "try:\n",
        "  display(tx.dayTradeTable)\n",
        "except:\n",
        "  print('Not avalilable')"
      ],
      "execution_count": null,
      "outputs": []
    },
    {
      "cell_type": "markdown",
      "metadata": {
        "id": "gUdaCtO8h58x"
      },
      "source": [
        "## Stocks\n"
      ]
    },
    {
      "cell_type": "markdown",
      "metadata": {
        "id": "vsdI19Hvi_kn"
      },
      "source": [
        "### Swing Trade"
      ]
    },
    {
      "cell_type": "code",
      "metadata": {
        "colab": {
          "base_uri": "https://localhost:8080/"
        },
        "id": "IzDuPyf2h584",
        "outputId": "4c35939e-502f-4eb1-f998-c76d652417eb"
      },
      "source": [
        "tx.Process('Stock')\n",
        "display(tx.swingTradeTable)"
      ],
      "execution_count": null,
      "outputs": []
    },
    {
      "cell_type": "markdown",
      "metadata": {
        "id": "qNt2-aA9h585"
      },
      "source": [
        "### Day Trade"
      ]
    },
    {
      "cell_type": "code",
      "metadata": {
        "colab": {
          "base_uri": "https://localhost:8080/"
        },
        "id": "KEXsZSGHh585",
        "outputId": "762fa9ae-3e16-4f21-d878-dac76a69a690"
      },
      "source": [
        "try:\n",
        "  display(tx.dayTradeTable)\n",
        "except:\n",
        "  print('Not avalilable')"
      ],
      "execution_count": null,
      "outputs": []
    },
    {
      "cell_type": "markdown",
      "metadata": {
        "id": "OywZGJtNziLi"
      },
      "source": [
        "# Plots"
      ]
    },
    {
      "cell_type": "code",
      "metadata": {
        "colab": {
          "base_uri": "https://localhost:8080/",
          "height": 49,
          "referenced_widgets": [
            "ff68ee6394bb4e8dbcc5fadafc95af76",
            "af2994b452434b27b7037627715c3f6f",
            "5e85ed3d01304c968889d7603f1c4583"
          ]
        },
        "id": "CSfxGczBWGbd",
        "outputId": "4337f4f9-9964-42ee-9903-0ce4ef3b435f"
      },
      "source": [
        "import matplotlib.pyplot as plt\n",
        "import ipywidgets as widgets\n",
        " \n",
        "stock_picker = widgets.Dropdown(options=stocks, value=stocks[0])\n",
        "stock_picker"
      ],
      "execution_count": null,
      "outputs": []
    },
    {
      "cell_type": "markdown",
      "metadata": {
        "id": "rmjqgesK57Kg"
      },
      "source": [
        "## Average price Evolution"
      ]
    },
    {
      "cell_type": "code",
      "metadata": {
        "colab": {
          "base_uri": "https://localhost:8080/",
          "height": 602
        },
        "id": "dJh2ZqCajH-Z",
        "outputId": "ed477a9d-0a83-4099-ee5e-38058840641e"
      },
      "source": [
        "stock = stock_picker.value\n",
        "\n",
        "fig, axs = plt.subplots(2, 1, figsize=(16, 9), sharex=True, gridspec_kw={'height_ratios': [4, 1]})\n",
        "pickedDF = df.loc[df.Codigo == stock]\n",
        "\n",
        "div = pickedDF.loc[pickedDF.Tipo == 'Proventos']\n",
        "\n",
        "prc = prcReader.getHistory([stock], pickedDF.iloc[0]['Data'].strftime('%d-%m-%y'))\n",
        "axs[0].plot(pickedDF.Data, pickedDF.PM, label='PM')\n",
        "axs[0].plot(prc.index, prc[stock], label='Market')\n",
        "axs[0].grid(True, which='both')\n",
        "axs[0].legend()\n",
        "\n",
        "axs[1].plot(pickedDF.Data, pickedDF.acumProv, label='Proventos acumulados')\n",
        "axs[1].bar(div.Data, div.Valor, label='Proventos')\n",
        "axs[1].grid(True, which='both')\n",
        "axs[1].legend()\n",
        "\n",
        "fig.suptitle(stock)\n",
        "plt.show()"
      ],
      "execution_count": null,
      "outputs": []
    },
    {
      "cell_type": "markdown",
      "metadata": {
        "id": "dX7AaD5SxgtW"
      },
      "source": [
        "## Historical profitability"
      ]
    },
    {
      "cell_type": "code",
      "metadata": {
        "colab": {
          "base_uri": "https://localhost:8080/",
          "height": 49,
          "referenced_widgets": [
            "6662feb82b6e40f2adbaa6f6f334c797",
            "4eeeaaa50f58407a96e81673b801e3a3",
            "8b980825a2f94ec8aa3a3475e667713d"
          ]
        },
        "id": "1hEjsWTlr-G4",
        "outputId": "528f7c00-8771-4124-d9bc-fda39c67bea6"
      },
      "source": [
        "startTimePicker = widgets.Dropdown(options=['All', '12 months'], value='12 months')\n",
        "startTimePicker"
      ],
      "execution_count": null,
      "outputs": []
    },
    {
      "cell_type": "code",
      "metadata": {
        "id": "yWV_nRESxwBq",
        "colab": {
          "base_uri": "https://localhost:8080/"
        },
        "outputId": "4204945f-5ba8-4663-d4e4-3a5556fd6198"
      },
      "source": [
        "startPlot = startDate\n",
        "frequency = 'SM'\n",
        "if (startTimePicker.value == \"12 months\"):\n",
        "  startPlot = (dt.datetime.today() - pd.Timedelta(365, unit='d')).strftime('%Y-%m-%d')\n",
        "  frequency = 'W'\n",
        "\n",
        "monthList = pd.date_range(start=startPlot, end=dt.datetime.today(), freq=frequency).format(formatter=lambda x: x.strftime('%Y-%m-%d'))\n",
        "monthList.append(dt.datetime.today().strftime('%Y-%m-%d'))\n",
        "performanceList = []\n",
        "for i, month in enumerate(monthList):\n",
        "  p = PerformanceBlueprint(prcReader, df, month)\n",
        "  p.calc()\n",
        "  performanceList.append([p.date, p.equity, p.cost, p.realizedProfit, p.div, p.paperProfit, p.profit, p.profitRate, p.expense, p.ibov, p.sp500])\n",
        "\n",
        "histProfDF = pd.DataFrame(performanceList, columns=['Date', 'Equity', 'Cost', 'Profit', 'Div', 'paperProfit', 'TotalProfit', '%Profit', 'Expense', '%IBOV', '%SP500'])\n",
        "histProfDF['Date'] = pd.to_datetime(histProfDF.Date, format='%Y/%m/%d')\n",
        "# if (startTimePicker.value == \"12 months\"):\n",
        "# histProfDF['%IBOV']   = histProfDF['%IBOV'] - histProfDF.iloc[0]['%IBOV']\n",
        "# histProfDF['%SP500']  = histProfDF['%SP500'] - histProfDF.iloc[0]['%SP500']\n",
        "# histProfDF['%Profit'] = histProfDF['%Profit'] - histProfDF.iloc[0]['%Profit']\n",
        "# histProfDF"
      ],
      "execution_count": null,
      "outputs": []
    },
    {
      "cell_type": "code",
      "metadata": {
        "colab": {
          "base_uri": "https://localhost:8080/"
        },
        "id": "QW66v3CX5S2e",
        "outputId": "8bbccafd-6121-4cb3-d22b-d488d0518107"
      },
      "source": [
        "import matplotlib.ticker as mtick\n",
        "\n",
        "width = 2 if frequency == 'W' else 5     # the width of the bars: can also be len(x) sequence\n",
        "shift = pd.Timedelta(width/2, unit='d')\n",
        "fig, ax = plt.subplots(2, 1, figsize=(32, 9), sharex=True, gridspec_kw={'height_ratios': [3, 1]})\n",
        "fig.tight_layout()\n",
        "\n",
        "ax[0].plot(histProfDF.Date, histProfDF['%IBOV'], label='ibovespa')\n",
        "ax[0].plot(histProfDF.Date, histProfDF['%SP500'], label='S&P500')\n",
        "ax[0].plot(histProfDF.Date, histProfDF['%Profit'], label='Wallet')\n",
        "\n",
        "minTick = min(histProfDF['%IBOV'].min(), histProfDF['%SP500'].min(), histProfDF['%Profit'].min())\n",
        "maxTick = max(histProfDF['%IBOV'].max(), histProfDF['%SP500'].max(), histProfDF['%Profit'].max())\n",
        "\n",
        "ax[0].set_yticks(np.arange(minTick, maxTick, 0.03))\n",
        "ax[0].axhline(y=0, color='k')\n",
        "ax[0].grid(True, which='both')\n",
        "ax[0].yaxis.set_major_formatter(mtick.PercentFormatter(1))\n",
        "ax[0].legend()\n",
        "\n",
        "barsDf = histProfDF[:-1]\n",
        "# ax[1].grid(True, which='both')\n",
        "ax[1].bar(barsDf.Date - shift, barsDf['Equity'], width, label='Equity')\n",
        "ax[1].bar(barsDf.Date - shift, barsDf['Div']   , width, bottom=barsDf['Equity'], label='Div')\n",
        "ax[1].bar(barsDf.Date - shift, barsDf['Profit'], width, bottom=barsDf['Div'] + barsDf['Equity'], label='Profit')\n",
        "ax[1].bar(barsDf.Date + shift, barsDf['Cost']  , width, label='Cost')\n",
        "ax[1].legend()\n",
        "ax[1].set_ylabel('R$')\n",
        "\n",
        "plt.xticks(barsDf['Date'], rotation=90)\n",
        "plt.title('Historical profitability')\n",
        "plt.show()"
      ],
      "execution_count": null,
      "outputs": []
    },
    {
      "cell_type": "code",
      "metadata": {
        "colab": {
          "base_uri": "https://localhost:8080/"
        },
        "id": "RajwLOXn8Lo4",
        "outputId": "5e2bf8d5-f6ee-4663-a624-5faa965eadd6"
      },
      "source": [
        "data = dt.datetime.today().strftime('%Y-%m-%d')\n",
        "PerformanceViewer(histProfDF, data).show()\n"
      ],
      "execution_count": null,
      "outputs": []
    },
    {
      "cell_type": "markdown",
      "metadata": {
        "id": "O_uvU9c-5WZI"
      },
      "source": [
        "# Dividends by month"
      ]
    },
    {
      "cell_type": "code",
      "metadata": {
        "colab": {
          "base_uri": "https://localhost:8080/",
          "height": 452
        },
        "id": "nfKcbaVQ557f",
        "outputId": "bccf3dea-6a4f-4b92-879a-3f765a0ed8d3"
      },
      "source": [
        "m = int(dt.datetime.today().strftime(\"%m\"))\n",
        "y = int(dt.datetime.today().strftime(\"%Y\"))\n",
        "m=3\n",
        "\n",
        "divTable = divReader.df\n",
        "prov = df[df['Tipo'] == 'Proventos']\n",
        "\n",
        "divTable = divTable.reset_index()\n",
        "divTable = divTable[(divTable['Data de Pagamento'].dt.month == m) & (divTable['Data de Pagamento'].dt.year == y)]\n",
        "\n",
        "divTable= pd.merge(divTable, prov, how='inner', on=['Data', 'Codigo', 'Valor'])\n",
        "\n",
        "divTable = divTable[['Data de Pagamento', 'Codigo','Total']]\n",
        "divTable.columns = ['Data', 'Ativo', 'R$']\n",
        "# divTable = divTable.groupby(['Ativo', 'Data'])['R$'].sum().reset_index()\n",
        "# display(divTable)\n",
        "divTable.sort_values('Data', inplace=True)\n",
        "divTable['Data'] = divTable['Data'].apply(lambda x: x.strftime('%Y-%m-%d'))\n",
        "divTable.loc['Total', 'R$'] = divTable['R$'].sum()\n",
        "divTable.fillna(' ', inplace=True)\n",
        "divTable\n"
      ],
      "execution_count": null,
      "outputs": []
    },
    {
      "cell_type": "code",
      "execution_count": null,
      "metadata": {},
      "outputs": [],
      "source": [
        "pvt = prov.pivot_table(index='Year', columns='Month', values='Total', margins=True, margins_name='Total', aggfunc='sum', fill_value=0)\n",
        "sorted_m = sorted(pvt.columns[:-1], key=lambda month: dt.datetime.strptime(month, \"%B\"))\n",
        "sorted_m.append(pvt.columns[-1])\n",
        "pvt.reindex(sorted_m, axis=1)"
      ]
    },
    {
      "cell_type": "code",
      "execution_count": null,
      "metadata": {},
      "outputs": [],
      "source": []
    }
  ]
}