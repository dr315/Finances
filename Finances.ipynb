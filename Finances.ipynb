{
  "nbformat": 4,
  "nbformat_minor": 0,
  "metadata": {
    "colab": {
      "name": "Finances_V3",
      "provenance": [],
      "collapsed_sections": []
    },
    "kernelspec": {
      "name": "python374jvsc74a57bd0effde2c6f5fb70fa9b8dc97f83340c31a67dd17fa1ebb4d68b025d976f8e82d1",
      "display_name": "Python 3.7.4 64-bit"
    },
    "widgets": {
      "application/vnd.jupyter.widget-state+json": {
        "ff68ee6394bb4e8dbcc5fadafc95af76": {
          "model_module": "@jupyter-widgets/controls",
          "model_name": "DropdownModel",
          "state": {
            "_options_labels": [
              "ABEV3",
              "BBDC3",
              "BBFI11B",
              "BMEB4",
              "CIEL3",
              "CNTO3",
              "COGN3",
              "ECOR3",
              "EGIE3",
              "EZTC3",
              "FAMB11B",
              "FIGS11",
              "FLRY3",
              "GRND3",
              "GTWR11",
              "HGTX3",
              "HTMX11",
              "ITUB3",
              "KLBN11",
              "MDIA3",
              "MFII11",
              "MOVI3",
              "MXRF11",
              "PETR4",
              "PSSA3",
              "SMLS3",
              "SPTW11",
              "TRIS3",
              "VISC11",
              "VVAR3",
              "WEGE3",
              "XPCM11",
              "XPLG11",
              "XPML11"
            ],
            "_view_name": "DropdownView",
            "style": "IPY_MODEL_af2994b452434b27b7037627715c3f6f",
            "_dom_classes": [],
            "description": "",
            "_model_name": "DropdownModel",
            "index": 0,
            "_view_module": "@jupyter-widgets/controls",
            "_model_module_version": "1.5.0",
            "_view_count": null,
            "disabled": false,
            "_view_module_version": "1.5.0",
            "description_tooltip": null,
            "_model_module": "@jupyter-widgets/controls",
            "layout": "IPY_MODEL_5e85ed3d01304c968889d7603f1c4583"
          }
        },
        "af2994b452434b27b7037627715c3f6f": {
          "model_module": "@jupyter-widgets/controls",
          "model_name": "DescriptionStyleModel",
          "state": {
            "_view_name": "StyleView",
            "_model_name": "DescriptionStyleModel",
            "description_width": "",
            "_view_module": "@jupyter-widgets/base",
            "_model_module_version": "1.5.0",
            "_view_count": null,
            "_view_module_version": "1.2.0",
            "_model_module": "@jupyter-widgets/controls"
          }
        },
        "5e85ed3d01304c968889d7603f1c4583": {
          "model_module": "@jupyter-widgets/base",
          "model_name": "LayoutModel",
          "state": {
            "_view_name": "LayoutView",
            "grid_template_rows": null,
            "right": null,
            "justify_content": null,
            "_view_module": "@jupyter-widgets/base",
            "overflow": null,
            "_model_module_version": "1.2.0",
            "_view_count": null,
            "flex_flow": null,
            "width": null,
            "min_width": null,
            "border": null,
            "align_items": null,
            "bottom": null,
            "_model_module": "@jupyter-widgets/base",
            "top": null,
            "grid_column": null,
            "overflow_y": null,
            "overflow_x": null,
            "grid_auto_flow": null,
            "grid_area": null,
            "grid_template_columns": null,
            "flex": null,
            "_model_name": "LayoutModel",
            "justify_items": null,
            "grid_row": null,
            "max_height": null,
            "align_content": null,
            "visibility": null,
            "align_self": null,
            "height": null,
            "min_height": null,
            "padding": null,
            "grid_auto_rows": null,
            "grid_gap": null,
            "max_width": null,
            "order": null,
            "_view_module_version": "1.2.0",
            "grid_template_areas": null,
            "object_position": null,
            "object_fit": null,
            "grid_auto_columns": null,
            "margin": null,
            "display": null,
            "left": null
          }
        },
        "6662feb82b6e40f2adbaa6f6f334c797": {
          "model_module": "@jupyter-widgets/controls",
          "model_name": "DropdownModel",
          "state": {
            "_options_labels": [
              "All",
              "12 months"
            ],
            "_view_name": "DropdownView",
            "style": "IPY_MODEL_4eeeaaa50f58407a96e81673b801e3a3",
            "_dom_classes": [],
            "description": "",
            "_model_name": "DropdownModel",
            "index": 0,
            "_view_module": "@jupyter-widgets/controls",
            "_model_module_version": "1.5.0",
            "_view_count": null,
            "disabled": false,
            "_view_module_version": "1.5.0",
            "description_tooltip": null,
            "_model_module": "@jupyter-widgets/controls",
            "layout": "IPY_MODEL_8b980825a2f94ec8aa3a3475e667713d"
          }
        },
        "4eeeaaa50f58407a96e81673b801e3a3": {
          "model_module": "@jupyter-widgets/controls",
          "model_name": "DescriptionStyleModel",
          "state": {
            "_view_name": "StyleView",
            "_model_name": "DescriptionStyleModel",
            "description_width": "",
            "_view_module": "@jupyter-widgets/base",
            "_model_module_version": "1.5.0",
            "_view_count": null,
            "_view_module_version": "1.2.0",
            "_model_module": "@jupyter-widgets/controls"
          }
        },
        "8b980825a2f94ec8aa3a3475e667713d": {
          "model_module": "@jupyter-widgets/base",
          "model_name": "LayoutModel",
          "state": {
            "_view_name": "LayoutView",
            "grid_template_rows": null,
            "right": null,
            "justify_content": null,
            "_view_module": "@jupyter-widgets/base",
            "overflow": null,
            "_model_module_version": "1.2.0",
            "_view_count": null,
            "flex_flow": null,
            "width": null,
            "min_width": null,
            "border": null,
            "align_items": null,
            "bottom": null,
            "_model_module": "@jupyter-widgets/base",
            "top": null,
            "grid_column": null,
            "overflow_y": null,
            "overflow_x": null,
            "grid_auto_flow": null,
            "grid_area": null,
            "grid_template_columns": null,
            "flex": null,
            "_model_name": "LayoutModel",
            "justify_items": null,
            "grid_row": null,
            "max_height": null,
            "align_content": null,
            "visibility": null,
            "align_self": null,
            "height": null,
            "min_height": null,
            "padding": null,
            "grid_auto_rows": null,
            "grid_gap": null,
            "max_width": null,
            "order": null,
            "_view_module_version": "1.2.0",
            "grid_template_areas": null,
            "object_position": null,
            "object_fit": null,
            "grid_auto_columns": null,
            "margin": null,
            "display": null,
            "left": null
          }
        }
      }
    },
    "metadata": {
      "interpreter": {
        "hash": "effde2c6f5fb70fa9b8dc97f83340c31a67dd17fa1ebb4d68b025d976f8e82d1"
      }
    }
  },
  "cells": [
    {
      "cell_type": "markdown",
      "metadata": {
        "id": "wNXPei4ShsrW"
      },
      "source": [
        "\n",
        "# Load table"
      ]
    },
    {
      "cell_type": "code",
      "execution_count": null,
      "metadata": {},
      "outputs": [],
      "source": [
        "# from google.colab import drive\n",
        "# drive.mount('/content/drive')\n",
        "import pandas as pd\n",
        "pd.options.display.float_format = '${:,.2f}'.format\n",
        "root = 'd:/'\n",
        "\n",
        "try:\n",
        "    from google.colab import auth\n",
        "    from google.colab import drive\n",
        "    import gspread\n",
        "    from oauth2client.client import GoogleCredentials\n",
        "    \n",
        "    auth.authenticate_user()\n",
        "    gc = gspread.authorize(GoogleCredentials.get_application_default())\n",
        "    \n",
        "    worksheet = gc.open('operations').sheet1\n",
        "    # get_all_values gives a list of rows.\n",
        "    rows = worksheet.get_all_values()\n",
        "\n",
        "    df = pd.DataFrame.from_records(rows[1:], coerce_float=True)\n",
        "    \n",
        "    drive.mount('/content/gdrive')\n",
        "    %cd gdrive/My Drive/\n",
        "    !rm -rf github\n",
        "    !mkdir github\n",
        "    !cd github && git clone https://github.com/dr315/Finances.git\n",
        "    %run github/Finances/FinanceTools\n",
        "    !pip install yfinance\n",
        "except:\n",
        "    df = pd.read_csv(root + '/Investing/operations.csv')\n",
        "    %run FinanceTools\n",
        "    # df = pd.read_csv(/operations2021.tsv', delimiter='\\t', thousands=',', decimal='.')\n",
        "\n",
        "# display(df)\n"
      ]
    },
    {
      "cell_type": "markdown",
      "metadata": {
        "id": "K_y6XnRs0VW6"
      },
      "source": [
        "## Formating table"
      ]
    },
    {
      "cell_type": "code",
      "metadata": {
        "id": "s8OJkwSvUxbJ",
        "colab": {
          "base_uri": "https://localhost:8080/",
          "height": 419
        },
        "outputId": "70dff551-6c15-4373-fd46-08d73efd7785"
      },
      "source": [
        " \n",
        "df = df.iloc[:, :7]\n",
        "df.columns=['Codigo','Data', 'Valor', 'Quantidade', 'Tipo', 'Categoria', 'Despesas']\n",
        " \n",
        "#Removing the stored dividends in order to donwload again from internet\n",
        "df = df[df.Tipo != 'Proventos']\n",
        "\n",
        "if(df['Valor'].apply(type).eq(str).any()): \n",
        "    df['Valor'] = df['Valor'].str.replace(',', '')\n",
        "    df['Valor'] = pd.to_numeric(df['Valor'], errors='coerce')\n",
        "    df['Quantidade'] = pd.to_numeric(df['Quantidade'], errors='coerce')\n",
        "    df['Despesas'] = pd.to_numeric(df['Despesas'], errors='coerce')\n",
        " \n",
        "#drop empty lines\n",
        "df=df[df['Data'].astype(bool)].dropna()\n",
        "# df\n",
        "\n",
        "import datetime as dt\n",
        "import numpy as np\n",
        "\n",
        "if(df['Data'].apply(type).eq(str).any()): \n",
        "    df.Data = df.Data.str.replace('-','/')\n",
        "    df['Data'] = pd.to_datetime(df.Data, format='%Y/%m/%d')\n",
        "df['Year'] = pd.DatetimeIndex(df['Data']).year\n",
        "df['Month'] = pd.DatetimeIndex(df['Data']).month_name()\n",
        "\n",
        "#Sort the table by date and Type and reset index numeration\n",
        "df.sort_values(by=['Data', 'Tipo'], ascending=[True, True], inplace=True)\n",
        "df.reset_index(drop=True, inplace=True)\n",
        "\n",
        "#turn all sell amount negative\n",
        "df.loc[df.Tipo == 'Venda', ['Quantidade']] *= -1\n",
        "\n",
        "#Get the oldest order date\n",
        "startDate = df.iloc[0]['Data'].strftime('%Y-%m-%d')\n",
        "\n",
        "#Calc Operation Value\n",
        "df['Total'] = df.Valor * df.Quantidade + df.Despesas\n"
      ],
      "execution_count": null,
      "outputs": []
    },
    {
      "cell_type": "code",
      "metadata": {
        "id": "ySWDeyHk2HKU"
      },
      "source": [
        "df['acum_qty'] = 0\n",
        "#Get the complete list of assets\n",
        "stocks = np.sort(df.Codigo.unique()).tolist()\n",
        "# Clear operation costs befere 2019\n",
        "# df.Despesas.update(df.apply(clear2018Cost, axis=1))\n"
      ],
      "execution_count": null,
      "outputs": []
    },
    {
      "cell_type": "markdown",
      "metadata": {
        "id": "JBj7WZgRlzNe"
      },
      "source": [
        "## PriceReader"
      ]
    },
    {
      "cell_type": "code",
      "metadata": {
        "id": "q5-e6F5CNN9I"
      },
      "source": [
        "prcReader = PriceReader(stocks, startDate)\n",
        "splReader = SplitsReader(df)\n",
        "divReader = DividendReader(df)\n",
        "# divReader = YfinanceReader(df)"
      ],
      "execution_count": null,
      "outputs": []
    },
    {
      "cell_type": "code",
      "metadata": {
        "id": "JjQzx-oj-Ses"
      },
      "source": [
        "dfBak = df"
      ],
      "execution_count": null,
      "outputs": []
    },
    {
      "cell_type": "markdown",
      "metadata": {
        "id": "jNvC0a3clOA-"
      },
      "source": [
        "## Accumulator"
      ]
    },
    {
      "cell_type": "code",
      "metadata": {
        "id": "vSSl5581cZ5-"
      },
      "source": [
        "\n",
        "df=dfBak\n",
        "df['acum_qty'] = 0\n",
        "df['PM'] = 0\n",
        "\n",
        "for paper in stocks:\n",
        "  paperTable = df[(df.Codigo == paper)]\n",
        "  fromDate = paperTable.iloc[0]['Data']  \n",
        "  toDate = dt.datetime.today().strftime('%Y-%m-%d')\n",
        "\n",
        "  divTable = divReader.getPeriod(paper,fromDate, toDate)\n",
        "  divTable['Quantidade'] = 0\n",
        "  divTable['Tipo'] = 'Proventos'\n",
        "  divTable['Categoria'] = paperTable.iloc[0]['Categoria']\n",
        "  divTable['Despesas'] = 0\n",
        "  divTable['Year'] = pd.DatetimeIndex(divTable.index).year\n",
        "  divTable['Month'] = pd.DatetimeIndex(divTable.index).month_name()\n",
        "  divTable['Total'] = 0\n",
        "  divTable['acum_qty'] = 0\n",
        "  df = df.append(divTable.reset_index())\n",
        "\n",
        "  splitTable = splReader.getPeriod(paper,fromDate, toDate)\n",
        "  splitTable['Valor'] = 0\n",
        "  splitTable['Tipo'] = 'Split'\n",
        "  splitTable['Categoria'] = paperTable.iloc[0]['Categoria']\n",
        "  splitTable['Despesas'] = 0\n",
        "  splitTable['Year'] = pd.DatetimeIndex(splitTable.index).year\n",
        "  splitTable['Month'] = pd.DatetimeIndex(splitTable.index).month_name()\n",
        "  splitTable['Total'] = 0\n",
        "  splitTable['acum_qty'] = 0\n",
        "  df = df.append(splitTable.reset_index())\n",
        "\n",
        "df.sort_values(['Data', 'Tipo'], inplace=True)\n",
        "\n",
        "#Create obj\n",
        "ta = TableAccumulator()\n",
        "#Calc the average price and rename the columns names\n",
        "df=df.groupby(['Codigo']).apply(ta.ByGroup).reset_index(drop=True).dropna()\n",
        "df.sort_values(['Data', 'Tipo'], inplace=True)"
      ],
      "execution_count": null,
      "outputs": []
    },
    {
      "cell_type": "code",
      "metadata": {
        "colab": {
          "base_uri": "https://localhost:8080/"
        },
        "id": "s_oSPuCBEjuJ",
        "outputId": "9beb7aa3-84fc-4ade-f503-a2937f77e36e"
      },
      "source": [
        "# df[df.Codigo.str.contains('CIEL3')]"
      ],
      "execution_count": null,
      "outputs": []
    },
    {
      "cell_type": "markdown",
      "metadata": {
        "id": "wkJziCIHzOC7"
      },
      "source": [
        "# Realized Profit\n"
      ]
    },
    {
      "cell_type": "markdown",
      "metadata": {
        "id": "nUP3tx_nUoL0"
      },
      "source": [
        "## Processing"
      ]
    },
    {
      "cell_type": "code",
      "metadata": {
        "id": "K0eAug1DHHIm"
      },
      "source": [
        "\n",
        "profit = Profit()\n",
        "df.sort_values(by=['Data', 'Tipo'], ascending=[True, True], inplace=True)\n",
        "df.reset_index(drop=True)\n",
        "df=df.groupby(['Codigo', 'Data']).apply(profit.Trade).reset_index()\n",
        "df.drop('index', axis=1, inplace=True)\n"
      ],
      "execution_count": null,
      "outputs": []
    },
    {
      "cell_type": "markdown",
      "metadata": {
        "id": "KJ_xM5ELU-2d"
      },
      "source": [
        "## View"
      ]
    },
    {
      "cell_type": "code",
      "metadata": {
        "colab": {
          "base_uri": "https://localhost:8080/"
        },
        "id": "pnW0F7d2U3VL",
        "outputId": "83ec4b5b-28f7-40c2-fe3b-75312feca274"
      },
      "source": [
        "rl = df[df.Tipo == 'Venda'][['Data',\t'Codigo', 'Categoria', 'Profit',\t'DayTrade']]\n",
        "rl['Data'] = rl['Data'].apply(lambda x: x.strftime('%Y-%m-%d'))\n",
        "rl.loc['Total', 'Profit'] = rl['Profit'].sum()\n",
        "rl.fillna(' ', inplace=True)\n",
        "rl.style.applymap(color_negative_red, subset=['Profit']).format( {'Profit': 'R$ {:,.2f}', 'DayTrade': '{}'})\n"
      ],
      "execution_count": null,
      "outputs": []
    },
    {
      "cell_type": "markdown",
      "metadata": {
        "id": "OBRcPuk1NCV1"
      },
      "source": [
        "# Investiment Portifolio\n"
      ]
    },
    {
      "cell_type": "code",
      "metadata": {
        "colab": {
          "base_uri": "https://localhost:8080/"
        },
        "id": "feMVFkd35mqB",
        "outputId": "00ecd66b-543e-4e70-f885-a8cacf79c9e7"
      },
      "source": [
        "Portifolio(prcReader,df).show()"
      ],
      "execution_count": null,
      "outputs": []
    },
    {
      "cell_type": "markdown",
      "metadata": {
        "id": "Ec37SlxuAbFe"
      },
      "source": [
        "# Performance Blueprint"
      ]
    },
    {
      "cell_type": "code",
      "metadata": {
        "id": "StrFKb6vJ0mC"
      },
      "source": [
        "%run FinanceTools\n",
        "p = PerformanceBlueprint(prcReader, df, dt.datetime.today().strftime('%m-%d-%Y'))\n",
        "PerformanceViewer(p.calc()).show()\n"
      ],
      "execution_count": null,
      "outputs": []
    },
    {
      "cell_type": "markdown",
      "metadata": {
        "id": "NcxaN1S_zaj7"
      },
      "source": [
        "# Taxation\n"
      ]
    },
    {
      "cell_type": "code",
      "metadata": {
        "id": "3qFPDbkazhjt"
      },
      "source": [
        "profitLossDF = df.loc[df['Profit'] != 0]\n",
        "tx = Taxation(profitLossDF)"
      ],
      "execution_count": null,
      "outputs": []
    },
    {
      "cell_type": "markdown",
      "metadata": {
        "id": "7m_kmrYShSeA"
      },
      "source": [
        "## FII"
      ]
    },
    {
      "cell_type": "markdown",
      "metadata": {
        "id": "OY2M14dSiYTU"
      },
      "source": [
        "### Swing Trade"
      ]
    },
    {
      "cell_type": "code",
      "metadata": {
        "colab": {
          "base_uri": "https://localhost:8080/"
        },
        "id": "kjtJO-cIhduj",
        "outputId": "8aa91289-2994-44d4-ae08-0c0704c2cd7c"
      },
      "source": [
        "tx.Process('FII')\n",
        "display(tx.swingTradeTable)"
      ],
      "execution_count": null,
      "outputs": []
    },
    {
      "cell_type": "markdown",
      "metadata": {
        "id": "NiaTCwy5hpgc"
      },
      "source": [
        "### Day Trade"
      ]
    },
    {
      "cell_type": "code",
      "metadata": {
        "colab": {
          "base_uri": "https://localhost:8080/"
        },
        "id": "n_efkAaBhwFY",
        "outputId": "74b6dda3-3a9e-46cf-a966-df695204e089"
      },
      "source": [
        "try:\n",
        "  display(tx.dayTradeTable)\n",
        "except:\n",
        "  print('Not avalilable')"
      ],
      "execution_count": null,
      "outputs": []
    },
    {
      "cell_type": "markdown",
      "metadata": {
        "id": "gUdaCtO8h58x"
      },
      "source": [
        "## Stocks\n"
      ]
    },
    {
      "cell_type": "markdown",
      "metadata": {
        "id": "vsdI19Hvi_kn"
      },
      "source": [
        "### Swing Trade"
      ]
    },
    {
      "cell_type": "code",
      "metadata": {
        "colab": {
          "base_uri": "https://localhost:8080/"
        },
        "id": "IzDuPyf2h584",
        "outputId": "4c35939e-502f-4eb1-f998-c76d652417eb"
      },
      "source": [
        "tx.Process('Stock')\n",
        "display(tx.swingTradeTable)"
      ],
      "execution_count": null,
      "outputs": []
    },
    {
      "cell_type": "markdown",
      "metadata": {
        "id": "qNt2-aA9h585"
      },
      "source": [
        "### Day Trade"
      ]
    },
    {
      "cell_type": "code",
      "metadata": {
        "colab": {
          "base_uri": "https://localhost:8080/"
        },
        "id": "KEXsZSGHh585",
        "outputId": "762fa9ae-3e16-4f21-d878-dac76a69a690"
      },
      "source": [
        "try:\n",
        "  display(tx.dayTradeTable)\n",
        "except:\n",
        "  print('Not avalilable')"
      ],
      "execution_count": null,
      "outputs": []
    },
    {
      "cell_type": "markdown",
      "metadata": {
        "id": "OywZGJtNziLi"
      },
      "source": [
        "# Plots"
      ]
    },
    {
      "cell_type": "code",
      "metadata": {
        "colab": {
          "base_uri": "https://localhost:8080/",
          "height": 49,
          "referenced_widgets": [
            "ff68ee6394bb4e8dbcc5fadafc95af76",
            "af2994b452434b27b7037627715c3f6f",
            "5e85ed3d01304c968889d7603f1c4583"
          ]
        },
        "id": "CSfxGczBWGbd",
        "outputId": "4337f4f9-9964-42ee-9903-0ce4ef3b435f"
      },
      "source": [
        "import matplotlib.pyplot as plt\n",
        "import ipywidgets as widgets\n",
        " \n",
        "stock_picker = widgets.Dropdown(options=stocks, value=stocks[0])\n",
        "stock_picker"
      ],
      "execution_count": null,
      "outputs": []
    },
    {
      "cell_type": "markdown",
      "metadata": {
        "id": "rmjqgesK57Kg"
      },
      "source": [
        "## Average price Evolution"
      ]
    },
    {
      "cell_type": "code",
      "metadata": {
        "colab": {
          "base_uri": "https://localhost:8080/",
          "height": 602
        },
        "id": "dJh2ZqCajH-Z",
        "outputId": "ed477a9d-0a83-4099-ee5e-38058840641e"
      },
      "source": [
        "stock = stock_picker.value\n",
        "\n",
        "fig, axs = plt.subplots(2, 1, figsize=(16, 9), sharex=True, gridspec_kw={'height_ratios': [4, 1]})\n",
        "pickedDF = df.loc[df.Codigo == stock]\n",
        "\n",
        "div = pickedDF.loc[pickedDF.Tipo == 'Proventos']\n",
        "\n",
        "prc = prcReader.getHistory([stock], pickedDF.iloc[0]['Data'].strftime('%d-%m-%y'))\n",
        "axs[0].plot(pickedDF.Data, pickedDF.PM, label='PM')\n",
        "axs[0].plot(prc.index, prc[stock], label='Market')\n",
        "axs[0].grid(True, which='both')\n",
        "axs[0].legend()\n",
        "\n",
        "axs[1].plot(pickedDF.Data, pickedDF.acumProv, label='Proventos acumulados')\n",
        "axs[1].bar(div.Data, div.Valor, label='Proventos')\n",
        "axs[1].grid(True, which='both')\n",
        "axs[1].legend()\n",
        "\n",
        "fig.suptitle(stock)\n",
        "plt.show()"
      ],
      "execution_count": null,
      "outputs": []
    },
    {
      "cell_type": "markdown",
      "metadata": {
        "id": "dX7AaD5SxgtW"
      },
      "source": [
        "## Historical profitability"
      ]
    },
    {
      "cell_type": "code",
      "metadata": {
        "colab": {
          "base_uri": "https://localhost:8080/",
          "height": 49,
          "referenced_widgets": [
            "6662feb82b6e40f2adbaa6f6f334c797",
            "4eeeaaa50f58407a96e81673b801e3a3",
            "8b980825a2f94ec8aa3a3475e667713d"
          ]
        },
        "id": "1hEjsWTlr-G4",
        "outputId": "528f7c00-8771-4124-d9bc-fda39c67bea6"
      },
      "source": [
        "startTimePicker = widgets.Dropdown(options=['All', '12 months'], value='12 months')\n",
        "startTimePicker"
      ],
      "execution_count": null,
      "outputs": []
    },
    {
      "cell_type": "code",
      "metadata": {
        "id": "yWV_nRESxwBq",
        "colab": {
          "base_uri": "https://localhost:8080/"
        },
        "outputId": "4204945f-5ba8-4663-d4e4-3a5556fd6198"
      },
      "source": [
        "startPlot = startDate\n",
        "if (startTimePicker.value == \"12 months\"):\n",
        "  startPlot = (dt.datetime.today() - pd.Timedelta(365, unit='d')).strftime('%d-%m-%y')\n",
        "\n",
        "monthList = pd.date_range(start=startPlot, end=dt.datetime.today(), freq='SM').format(formatter=lambda x: x.strftime('%Y-%m-%d'))\n",
        "monthList.append(dt.datetime.today().strftime('%Y-%m-%d'))\n",
        "performanceList = []\n",
        "for i, month in enumerate(monthList):\n",
        "  p = PerformanceBlueprint(prcReader, df, month)\n",
        "  p.calc()\n",
        "  performanceList.append([p.date, p.equity, p.cost, p.realizedProfit, p.div, p.paperProfit, p.profit, p.profitRate, p.expense, p.ibov, p.sp500])\n",
        "\n",
        "histProfDF = pd.DataFrame(performanceList, columns=['Date', 'Equity', 'Cost', 'Profit', 'Div', 'paperProfit', 'TotalProfit', '%Profit', 'Expense', '%IBOV', '%SP500'])\n",
        "histProfDF['Date'] = pd.to_datetime(histProfDF.Date, format='%Y/%m/%d')\n",
        "# if (startTimePicker.value == \"12 months\"):\n",
        "# histProfDF['%IBOV']   = histProfDF['%IBOV'] - histProfDF.iloc[0]['%IBOV']\n",
        "# histProfDF['%SP500']  = histProfDF['%SP500'] - histProfDF.iloc[0]['%SP500']\n",
        "# histProfDF['%Profit'] = histProfDF['%Profit'] - histProfDF.iloc[0]['%Profit']\n",
        "# histProfDF"
      ],
      "execution_count": null,
      "outputs": []
    },
    {
      "cell_type": "code",
      "metadata": {
        "colab": {
          "base_uri": "https://localhost:8080/"
        },
        "id": "QW66v3CX5S2e",
        "outputId": "8bbccafd-6121-4cb3-d22b-d488d0518107"
      },
      "source": [
        "import matplotlib.ticker as mtick\n",
        "\n",
        "width = 5       # the width of the bars: can also be len(x) sequence\n",
        "shift = pd.Timedelta(width/2, unit='d')\n",
        "fig, ax = plt.subplots(2, 1, figsize=(26, 9), sharex=True, gridspec_kw={'height_ratios': [3, 1]})\n",
        "fig.tight_layout()\n",
        "\n",
        "ax[0].plot(histProfDF.Date, histProfDF['%IBOV'], label='ibovespa')\n",
        "ax[0].plot(histProfDF.Date, histProfDF['%SP500'], label='S&P500')\n",
        "ax[0].plot(histProfDF.Date, histProfDF['%Profit'], label='Wallet')\n",
        "\n",
        "minTick = min(histProfDF['%IBOV'].min(), histProfDF['%SP500'].min(), histProfDF['%Profit'].min())\n",
        "maxTick = max(histProfDF['%IBOV'].max(), histProfDF['%SP500'].max(), histProfDF['%Profit'].max())\n",
        "\n",
        "ax[0].set_yticks(np.arange(minTick, maxTick, 0.03))\n",
        "ax[0].axhline(y=0, color='k')\n",
        "ax[0].grid(True, which='both')\n",
        "ax[0].yaxis.set_major_formatter(mtick.PercentFormatter(1))\n",
        "ax[0].legend()\n",
        "\n",
        "barsDf = histProfDF[:-1]\n",
        "# ax[1].grid(True, which='both')\n",
        "ax[1].bar(barsDf.Date - shift, barsDf['Equity'], width, label='Equity')\n",
        "ax[1].bar(barsDf.Date - shift, barsDf['Div']   , width, bottom=barsDf['Equity'], label='Div')\n",
        "ax[1].bar(barsDf.Date - shift, barsDf['Profit'], width, bottom=barsDf['Div'] + barsDf['Equity'], label='Profit')\n",
        "ax[1].bar(barsDf.Date + shift, barsDf['Cost']  , width, label='Cost')\n",
        "ax[1].legend()\n",
        "ax[1].set_ylabel('R$')\n",
        "\n",
        "plt.xticks(barsDf['Date'], rotation=90)\n",
        "plt.title('Historical profitability')\n",
        "plt.show()"
      ],
      "execution_count": null,
      "outputs": []
    },
    {
      "cell_type": "code",
      "metadata": {
        "colab": {
          "base_uri": "https://localhost:8080/"
        },
        "id": "RajwLOXn8Lo4",
        "outputId": "5e2bf8d5-f6ee-4663-a624-5faa965eadd6"
      },
      "source": [
        "data = dt.datetime.today().strftime('%Y-%m-%d')\n",
        "PerformanceViewer(histProfDF, data).show()\n"
      ],
      "execution_count": null,
      "outputs": []
    },
    {
      "cell_type": "markdown",
      "metadata": {
        "id": "O_uvU9c-5WZI"
      },
      "source": [
        "# Dividends by month"
      ]
    },
    {
      "cell_type": "code",
      "metadata": {
        "colab": {
          "base_uri": "https://localhost:8080/",
          "height": 452
        },
        "id": "nfKcbaVQ557f",
        "outputId": "bccf3dea-6a4f-4b92-879a-3f765a0ed8d3"
      },
      "source": [
        "m = int(dt.datetime.today().strftime(\"%m\"))\n",
        "y = int(dt.datetime.today().strftime(\"%Y\"))\n",
        "# m=4\n",
        "\n",
        "divTable = divReader.df\n",
        "prov = df[df['Tipo'] == 'Proventos']\n",
        "\n",
        "divTable = divTable.reset_index()\n",
        "divTable = divTable[(divTable['Data de Pagamento'].dt.month == m) & (divTable['Data de Pagamento'].dt.year == y)]\n",
        "\n",
        "divTable= pd.merge(divTable, prov, how='inner', on=['Data', 'Codigo', 'Valor'])\n",
        "\n",
        "divTable = divTable[['Data de Pagamento', 'Codigo','Total']]\n",
        "divTable.columns = ['Data', 'Ativo', 'R$']\n",
        "# divTable = divTable.groupby(['Ativo', 'Data'])['R$'].sum().reset_index()\n",
        "# display(divTable)\n",
        "divTable.sort_values('Data', inplace=True)\n",
        "divTable['Data'] = divTable['Data'].apply(lambda x: x.strftime('%Y-%m-%d'))\n",
        "divTable.loc['Total', 'R$'] = divTable['R$'].sum()\n",
        "divTable.fillna(' ', inplace=True)\n",
        "divTable\n"
      ],
      "execution_count": null,
      "outputs": []
    },
    {
      "cell_type": "code",
      "execution_count": null,
      "metadata": {},
      "outputs": [],
      "source": [
        "pvt = prov.pivot_table(index='Year', columns='Month', values='Total', margins=True, margins_name='Total', aggfunc='sum', fill_value=0)\n",
        "sorted_m = sorted(pvt.columns[:-1], key=lambda month: dt.datetime.strptime(month, \"%B\"))\n",
        "pvt.reindex(sorted_m, axis=1)"
      ]
    },
    {
      "cell_type": "code",
      "execution_count": null,
      "metadata": {},
      "outputs": [],
      "source": []
    }
  ]
}