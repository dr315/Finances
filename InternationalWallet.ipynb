{
  "cells": [
    {
      "cell_type": "markdown",
      "metadata": {
        "id": "wNXPei4ShsrW"
      },
      "source": [
        "# Loading Dependencies\n",
        "---"
      ]
    },
    {
      "cell_type": "code",
      "execution_count": null,
      "metadata": {},
      "outputs": [],
      "source": [
        "import sys\n",
        "\n",
        "if 'google.colab' in str(get_ipython()):\n",
        "    from google.colab import drive\n",
        "    drive.mount('/content/gdrive')\n",
        "\n",
        "    !pip install yfinance\n",
        "    !pip install pdfplumber\n",
        "    !rm -rf github\n",
        "    !mkdir github\n",
        "    !cd github && git clone --branch master https://github.com/dr315/Finances.git\n",
        "    sys.path.append('/content/github/Finances')\n",
        "    \n",
        "    root = '/content/gdrive/MyDrive/'\n",
        "else:\n",
        "    print(sys.platform)\n",
        "    if sys.platform == 'linux':\n",
        "        root = '/home/doreis/Documents/'\n",
        "    else:\n",
        "        root = 'd:/'\n",
        "\n",
        "import pandas as pd\n",
        "pd.options.display.float_format = '${:,.2f}'.format\n",
        "import matplotlib.pyplot as plt\n",
        "import ipywidgets as widgets\n",
        "from Wallet import *\n",
        "\n",
        "root += 'Investing/'\n",
        "wallet = Wallet(root)\n",
        "wallet.run(market='br')"
      ]
    },
    {
      "cell_type": "markdown",
      "metadata": {
        "id": "wkJziCIHzOC7"
      },
      "source": [
        "# Realized Profit\n"
      ]
    },
    {
      "cell_type": "code",
      "execution_count": null,
      "metadata": {
        "colab": {
          "base_uri": "https://localhost:8080/"
        },
        "id": "pnW0F7d2U3VL",
        "outputId": "83ec4b5b-28f7-40c2-fe3b-75312feca274"
      },
      "outputs": [],
      "source": [
        "wallet.realized_profit_pivot_all"
      ]
    },
    {
      "cell_type": "code",
      "execution_count": null,
      "metadata": {},
      "outputs": [],
      "source": [
        "wallet.realized_profit_pivot_fii"
      ]
    },
    {
      "cell_type": "code",
      "execution_count": null,
      "metadata": {},
      "outputs": [],
      "source": [
        "wallet.realized_profit_pivot_stock"
      ]
    },
    {
      "cell_type": "code",
      "execution_count": null,
      "metadata": {},
      "outputs": [],
      "source": [
        "wallet.realized_profit_df"
      ]
    },
    {
      "cell_type": "code",
      "execution_count": null,
      "metadata": {},
      "outputs": [],
      "source": [
        "wallet.realized_profit_by_symbol_df"
      ]
    },
    {
      "cell_type": "markdown",
      "metadata": {
        "id": "OBRcPuk1NCV1"
      },
      "source": [
        "# Portifolio\n"
      ]
    },
    {
      "cell_type": "code",
      "execution_count": null,
      "metadata": {
        "colab": {
          "base_uri": "https://localhost:8080/"
        },
        "id": "feMVFkd35mqB",
        "outputId": "00ecd66b-543e-4e70-f885-a8cacf79c9e7"
      },
      "outputs": [],
      "source": [
        "wallet.portifolio_df"
      ]
    },
    {
      "cell_type": "markdown",
      "metadata": {
        "id": "Ec37SlxuAbFe"
      },
      "source": [
        "# Performance Blueprint"
      ]
    },
    {
      "cell_type": "code",
      "execution_count": null,
      "metadata": {
        "id": "StrFKb6vJ0mC"
      },
      "outputs": [],
      "source": [
        "wallet.blueprint_df"
      ]
    },
    {
      "cell_type": "markdown",
      "metadata": {
        "id": "O_uvU9c-5WZI"
      },
      "source": [
        "# Dividends by month"
      ]
    },
    {
      "cell_type": "code",
      "execution_count": null,
      "metadata": {},
      "outputs": [],
      "source": [
        "wallet.div_table"
      ]
    },
    {
      "cell_type": "code",
      "execution_count": null,
      "metadata": {},
      "outputs": [],
      "source": [
        "wallet.pvt_div_table"
      ]
    },
    {
      "cell_type": "markdown",
      "metadata": {
        "id": "NcxaN1S_zaj7"
      },
      "source": [
        "# Taxation\n"
      ]
    },
    {
      "cell_type": "markdown",
      "metadata": {
        "id": "7m_kmrYShSeA"
      },
      "source": [
        "## FII"
      ]
    },
    {
      "cell_type": "markdown",
      "metadata": {
        "id": "OY2M14dSiYTU"
      },
      "source": [
        "### Swing Trade"
      ]
    },
    {
      "cell_type": "code",
      "execution_count": null,
      "metadata": {
        "colab": {
          "base_uri": "https://localhost:8080/"
        },
        "id": "kjtJO-cIhduj",
        "outputId": "8aa91289-2994-44d4-ae08-0c0704c2cd7c"
      },
      "outputs": [],
      "source": []
    },
    {
      "cell_type": "markdown",
      "metadata": {
        "id": "NiaTCwy5hpgc"
      },
      "source": [
        "### Day Trade"
      ]
    },
    {
      "cell_type": "code",
      "execution_count": null,
      "metadata": {
        "colab": {
          "base_uri": "https://localhost:8080/"
        },
        "id": "n_efkAaBhwFY",
        "outputId": "74b6dda3-3a9e-46cf-a966-df695204e089"
      },
      "outputs": [],
      "source": []
    },
    {
      "cell_type": "markdown",
      "metadata": {
        "id": "gUdaCtO8h58x"
      },
      "source": [
        "## Stocks\n"
      ]
    },
    {
      "cell_type": "markdown",
      "metadata": {
        "id": "vsdI19Hvi_kn"
      },
      "source": [
        "### Swing Trade"
      ]
    },
    {
      "cell_type": "code",
      "execution_count": null,
      "metadata": {
        "colab": {
          "base_uri": "https://localhost:8080/"
        },
        "id": "IzDuPyf2h584",
        "outputId": "4c35939e-502f-4eb1-f998-c76d652417eb"
      },
      "outputs": [],
      "source": []
    },
    {
      "cell_type": "markdown",
      "metadata": {
        "id": "qNt2-aA9h585"
      },
      "source": [
        "### Day Trade"
      ]
    },
    {
      "cell_type": "code",
      "execution_count": null,
      "metadata": {
        "colab": {
          "base_uri": "https://localhost:8080/"
        },
        "id": "KEXsZSGHh585",
        "outputId": "762fa9ae-3e16-4f21-d878-dac76a69a690"
      },
      "outputs": [],
      "source": []
    },
    {
      "cell_type": "markdown",
      "metadata": {
        "id": "OywZGJtNziLi"
      },
      "source": [
        "# Plots"
      ]
    },
    {
      "cell_type": "markdown",
      "metadata": {
        "id": "dX7AaD5SxgtW"
      },
      "source": [
        "## Historical profitability"
      ]
    },
    {
      "cell_type": "code",
      "execution_count": null,
      "metadata": {
        "colab": {
          "base_uri": "https://localhost:8080/",
          "height": 49,
          "referenced_widgets": [
            "6662feb82b6e40f2adbaa6f6f334c797",
            "4eeeaaa50f58407a96e81673b801e3a3",
            "8b980825a2f94ec8aa3a3475e667713d"
          ]
        },
        "id": "1hEjsWTlr-G4",
        "outputId": "528f7c00-8771-4124-d9bc-fda39c67bea6"
      },
      "outputs": [],
      "source": [
        "import ipywidgets as widgets\n",
        "periodPicker = widgets.Dropdown(options=['1 year', '2 years', 'All'], value='1 year')\n",
        "periodPicker"
      ]
    },
    {
      "cell_type": "code",
      "execution_count": null,
      "metadata": {
        "colab": {
          "base_uri": "https://localhost:8080/"
        },
        "id": "QW66v3CX5S2e",
        "outputId": "8bbccafd-6121-4cb3-d22b-d488d0518107"
      },
      "outputs": [],
      "source": [
        "wallet.generate_charts()"
      ]
    }
  ],
  "metadata": {
    "colab": {
      "collapsed_sections": [],
      "name": "Finances_V3",
      "provenance": []
    },
    "interpreter": {
      "hash": "effde2c6f5fb70fa9b8dc97f83340c31a67dd17fa1ebb4d68b025d976f8e82d1"
    },
    "kernelspec": {
      "display_name": "Python 3.7.4 64-bit",
      "name": "python3"
    },
    "language_info": {
      "codemirror_mode": {
        "name": "ipython",
        "version": 3
      },
      "file_extension": ".py",
      "mimetype": "text/x-python",
      "name": "python",
      "nbconvert_exporter": "python",
      "pygments_lexer": "ipython3",
      "version": "3.8.10"
    },
    "metadata": {
      "interpreter": {
        "hash": "effde2c6f5fb70fa9b8dc97f83340c31a67dd17fa1ebb4d68b025d976f8e82d1"
      }
    },
    "widgets": {
      "application/vnd.jupyter.widget-state+json": {
        "4eeeaaa50f58407a96e81673b801e3a3": {
          "model_module": "@jupyter-widgets/controls",
          "model_name": "DescriptionStyleModel",
          "state": {
            "_model_module": "@jupyter-widgets/controls",
            "_model_module_version": "1.5.0",
            "_model_name": "DescriptionStyleModel",
            "_view_count": null,
            "_view_module": "@jupyter-widgets/base",
            "_view_module_version": "1.2.0",
            "_view_name": "StyleView",
            "description_width": ""
          }
        },
        "5e85ed3d01304c968889d7603f1c4583": {
          "model_module": "@jupyter-widgets/base",
          "model_name": "LayoutModel",
          "state": {
            "_model_module": "@jupyter-widgets/base",
            "_model_module_version": "1.2.0",
            "_model_name": "LayoutModel",
            "_view_count": null,
            "_view_module": "@jupyter-widgets/base",
            "_view_module_version": "1.2.0",
            "_view_name": "LayoutView",
            "align_content": null,
            "align_items": null,
            "align_self": null,
            "border": null,
            "bottom": null,
            "display": null,
            "flex": null,
            "flex_flow": null,
            "grid_area": null,
            "grid_auto_columns": null,
            "grid_auto_flow": null,
            "grid_auto_rows": null,
            "grid_column": null,
            "grid_gap": null,
            "grid_row": null,
            "grid_template_areas": null,
            "grid_template_columns": null,
            "grid_template_rows": null,
            "height": null,
            "justify_content": null,
            "justify_items": null,
            "left": null,
            "margin": null,
            "max_height": null,
            "max_width": null,
            "min_height": null,
            "min_width": null,
            "object_fit": null,
            "object_position": null,
            "order": null,
            "overflow": null,
            "overflow_x": null,
            "overflow_y": null,
            "padding": null,
            "right": null,
            "top": null,
            "visibility": null,
            "width": null
          }
        },
        "6662feb82b6e40f2adbaa6f6f334c797": {
          "model_module": "@jupyter-widgets/controls",
          "model_name": "DropdownModel",
          "state": {
            "_dom_classes": [],
            "_model_module": "@jupyter-widgets/controls",
            "_model_module_version": "1.5.0",
            "_model_name": "DropdownModel",
            "_options_labels": [
              "All",
              "12 months"
            ],
            "_view_count": null,
            "_view_module": "@jupyter-widgets/controls",
            "_view_module_version": "1.5.0",
            "_view_name": "DropdownView",
            "description": "",
            "description_tooltip": null,
            "disabled": false,
            "index": 0,
            "layout": "IPY_MODEL_8b980825a2f94ec8aa3a3475e667713d",
            "style": "IPY_MODEL_4eeeaaa50f58407a96e81673b801e3a3"
          }
        },
        "8b980825a2f94ec8aa3a3475e667713d": {
          "model_module": "@jupyter-widgets/base",
          "model_name": "LayoutModel",
          "state": {
            "_model_module": "@jupyter-widgets/base",
            "_model_module_version": "1.2.0",
            "_model_name": "LayoutModel",
            "_view_count": null,
            "_view_module": "@jupyter-widgets/base",
            "_view_module_version": "1.2.0",
            "_view_name": "LayoutView",
            "align_content": null,
            "align_items": null,
            "align_self": null,
            "border": null,
            "bottom": null,
            "display": null,
            "flex": null,
            "flex_flow": null,
            "grid_area": null,
            "grid_auto_columns": null,
            "grid_auto_flow": null,
            "grid_auto_rows": null,
            "grid_column": null,
            "grid_gap": null,
            "grid_row": null,
            "grid_template_areas": null,
            "grid_template_columns": null,
            "grid_template_rows": null,
            "height": null,
            "justify_content": null,
            "justify_items": null,
            "left": null,
            "margin": null,
            "max_height": null,
            "max_width": null,
            "min_height": null,
            "min_width": null,
            "object_fit": null,
            "object_position": null,
            "order": null,
            "overflow": null,
            "overflow_x": null,
            "overflow_y": null,
            "padding": null,
            "right": null,
            "top": null,
            "visibility": null,
            "width": null
          }
        },
        "af2994b452434b27b7037627715c3f6f": {
          "model_module": "@jupyter-widgets/controls",
          "model_name": "DescriptionStyleModel",
          "state": {
            "_model_module": "@jupyter-widgets/controls",
            "_model_module_version": "1.5.0",
            "_model_name": "DescriptionStyleModel",
            "_view_count": null,
            "_view_module": "@jupyter-widgets/base",
            "_view_module_version": "1.2.0",
            "_view_name": "StyleView",
            "description_width": ""
          }
        },
        "ff68ee6394bb4e8dbcc5fadafc95af76": {
          "model_module": "@jupyter-widgets/controls",
          "model_name": "DropdownModel",
          "state": {
            "_dom_classes": [],
            "_model_module": "@jupyter-widgets/controls",
            "_model_module_version": "1.5.0",
            "_model_name": "DropdownModel",
            "_options_labels": [
              "ABEV3",
              "BBDC3",
              "BBFI11B",
              "BMEB4",
              "CIEL3",
              "CNTO3",
              "COGN3",
              "ECOR3",
              "EGIE3",
              "EZTC3",
              "FAMB11B",
              "FIGS11",
              "FLRY3",
              "GRND3",
              "GTWR11",
              "HGTX3",
              "HTMX11",
              "ITUB3",
              "KLBN11",
              "MDIA3",
              "MFII11",
              "MOVI3",
              "MXRF11",
              "PETR4",
              "PSSA3",
              "SMLS3",
              "SPTW11",
              "TRIS3",
              "VISC11",
              "VVAR3",
              "WEGE3",
              "XPCM11",
              "XPLG11",
              "XPML11"
            ],
            "_view_count": null,
            "_view_module": "@jupyter-widgets/controls",
            "_view_module_version": "1.5.0",
            "_view_name": "DropdownView",
            "description": "",
            "description_tooltip": null,
            "disabled": false,
            "index": 0,
            "layout": "IPY_MODEL_5e85ed3d01304c968889d7603f1c4583",
            "style": "IPY_MODEL_af2994b452434b27b7037627715c3f6f"
          }
        }
      }
    }
  },
  "nbformat": 4,
  "nbformat_minor": 2
}
