{
  "nbformat": 4,
  "nbformat_minor": 0,
  "metadata": {
    "colab": {
      "name": "Finances_V3",
      "provenance": [],
      "collapsed_sections": []
    },
    "kernelspec": {
      "name": "python374jvsc74a57bd0effde2c6f5fb70fa9b8dc97f83340c31a67dd17fa1ebb4d68b025d976f8e82d1",
      "display_name": "Python 3.7.4 64-bit"
    },
    "widgets": {
      "application/vnd.jupyter.widget-state+json": {
        "ff68ee6394bb4e8dbcc5fadafc95af76": {
          "model_module": "@jupyter-widgets/controls",
          "model_name": "DropdownModel",
          "state": {
            "_options_labels": [
              "ABEV3",
              "BBDC3",
              "BBFI11B",
              "BMEB4",
              "CIEL3",
              "CNTO3",
              "COGN3",
              "ECOR3",
              "EGIE3",
              "EZTC3",
              "FAMB11B",
              "FIGS11",
              "FLRY3",
              "GRND3",
              "GTWR11",
              "HGTX3",
              "HTMX11",
              "ITUB3",
              "KLBN11",
              "MDIA3",
              "MFII11",
              "MOVI3",
              "MXRF11",
              "PETR4",
              "PSSA3",
              "SMLS3",
              "SPTW11",
              "TRIS3",
              "VISC11",
              "VVAR3",
              "WEGE3",
              "XPCM11",
              "XPLG11",
              "XPML11"
            ],
            "_view_name": "DropdownView",
            "style": "IPY_MODEL_af2994b452434b27b7037627715c3f6f",
            "_dom_classes": [],
            "description": "",
            "_model_name": "DropdownModel",
            "index": 0,
            "_view_module": "@jupyter-widgets/controls",
            "_model_module_version": "1.5.0",
            "_view_count": null,
            "disabled": false,
            "_view_module_version": "1.5.0",
            "description_tooltip": null,
            "_model_module": "@jupyter-widgets/controls",
            "layout": "IPY_MODEL_5e85ed3d01304c968889d7603f1c4583"
          }
        },
        "af2994b452434b27b7037627715c3f6f": {
          "model_module": "@jupyter-widgets/controls",
          "model_name": "DescriptionStyleModel",
          "state": {
            "_view_name": "StyleView",
            "_model_name": "DescriptionStyleModel",
            "description_width": "",
            "_view_module": "@jupyter-widgets/base",
            "_model_module_version": "1.5.0",
            "_view_count": null,
            "_view_module_version": "1.2.0",
            "_model_module": "@jupyter-widgets/controls"
          }
        },
        "5e85ed3d01304c968889d7603f1c4583": {
          "model_module": "@jupyter-widgets/base",
          "model_name": "LayoutModel",
          "state": {
            "_view_name": "LayoutView",
            "grid_template_rows": null,
            "right": null,
            "justify_content": null,
            "_view_module": "@jupyter-widgets/base",
            "overflow": null,
            "_model_module_version": "1.2.0",
            "_view_count": null,
            "flex_flow": null,
            "width": null,
            "min_width": null,
            "border": null,
            "align_items": null,
            "bottom": null,
            "_model_module": "@jupyter-widgets/base",
            "top": null,
            "grid_column": null,
            "overflow_y": null,
            "overflow_x": null,
            "grid_auto_flow": null,
            "grid_area": null,
            "grid_template_columns": null,
            "flex": null,
            "_model_name": "LayoutModel",
            "justify_items": null,
            "grid_row": null,
            "max_height": null,
            "align_content": null,
            "visibility": null,
            "align_self": null,
            "height": null,
            "min_height": null,
            "padding": null,
            "grid_auto_rows": null,
            "grid_gap": null,
            "max_width": null,
            "order": null,
            "_view_module_version": "1.2.0",
            "grid_template_areas": null,
            "object_position": null,
            "object_fit": null,
            "grid_auto_columns": null,
            "margin": null,
            "display": null,
            "left": null
          }
        },
        "6662feb82b6e40f2adbaa6f6f334c797": {
          "model_module": "@jupyter-widgets/controls",
          "model_name": "DropdownModel",
          "state": {
            "_options_labels": [
              "All",
              "12 months"
            ],
            "_view_name": "DropdownView",
            "style": "IPY_MODEL_4eeeaaa50f58407a96e81673b801e3a3",
            "_dom_classes": [],
            "description": "",
            "_model_name": "DropdownModel",
            "index": 0,
            "_view_module": "@jupyter-widgets/controls",
            "_model_module_version": "1.5.0",
            "_view_count": null,
            "disabled": false,
            "_view_module_version": "1.5.0",
            "description_tooltip": null,
            "_model_module": "@jupyter-widgets/controls",
            "layout": "IPY_MODEL_8b980825a2f94ec8aa3a3475e667713d"
          }
        },
        "4eeeaaa50f58407a96e81673b801e3a3": {
          "model_module": "@jupyter-widgets/controls",
          "model_name": "DescriptionStyleModel",
          "state": {
            "_view_name": "StyleView",
            "_model_name": "DescriptionStyleModel",
            "description_width": "",
            "_view_module": "@jupyter-widgets/base",
            "_model_module_version": "1.5.0",
            "_view_count": null,
            "_view_module_version": "1.2.0",
            "_model_module": "@jupyter-widgets/controls"
          }
        },
        "8b980825a2f94ec8aa3a3475e667713d": {
          "model_module": "@jupyter-widgets/base",
          "model_name": "LayoutModel",
          "state": {
            "_view_name": "LayoutView",
            "grid_template_rows": null,
            "right": null,
            "justify_content": null,
            "_view_module": "@jupyter-widgets/base",
            "overflow": null,
            "_model_module_version": "1.2.0",
            "_view_count": null,
            "flex_flow": null,
            "width": null,
            "min_width": null,
            "border": null,
            "align_items": null,
            "bottom": null,
            "_model_module": "@jupyter-widgets/base",
            "top": null,
            "grid_column": null,
            "overflow_y": null,
            "overflow_x": null,
            "grid_auto_flow": null,
            "grid_area": null,
            "grid_template_columns": null,
            "flex": null,
            "_model_name": "LayoutModel",
            "justify_items": null,
            "grid_row": null,
            "max_height": null,
            "align_content": null,
            "visibility": null,
            "align_self": null,
            "height": null,
            "min_height": null,
            "padding": null,
            "grid_auto_rows": null,
            "grid_gap": null,
            "max_width": null,
            "order": null,
            "_view_module_version": "1.2.0",
            "grid_template_areas": null,
            "object_position": null,
            "object_fit": null,
            "grid_auto_columns": null,
            "margin": null,
            "display": null,
            "left": null
          }
        }
      }
    },
    "metadata": {
      "interpreter": {
        "hash": "effde2c6f5fb70fa9b8dc97f83340c31a67dd17fa1ebb4d68b025d976f8e82d1"
      }
    }
  },
  "cells": [
    {
      "cell_type": "markdown",
      "metadata": {
        "id": "wNXPei4ShsrW"
      },
      "source": [
        "# Loading Dependencies\n",
        "---"
      ]
    },
    {
      "cell_type": "code",
      "execution_count": 1,
      "metadata": {},
      "outputs": [],
      "source": [
        "import sys\n",
        "\n",
        "try:        \n",
        "    from google.colab import drive\n",
        "    drive.mount('/content/gdrive')\n",
        "\n",
        "    !pip install yfinance\n",
        "    !pip install pdfplumber\n",
        "    !rm -rf github\n",
        "    !mkdir github\n",
        "    !cd github && git clone https://github.com/dr315/Finances.git\n",
        "    sys.path.append('/content/github/Finances')\n",
        "    \n",
        "    root = '/content/gdrive/MyDrive/'    \n",
        "except:\n",
        "    root = 'd:/'\n",
        "\n",
        "import pandas as pd\n",
        "pd.options.display.float_format = '${:,.2f}'.format\n",
        "import datetime as dt\n",
        "import numpy as np\n",
        "import matplotlib.pyplot as plt\n",
        "import ipywidgets as widgets\n",
        "from FinanceTools import *\n",
        "from OrdersReader import *    \n"
      ]
    },
    {
      "cell_type": "markdown",
      "metadata": {
        "id": "K_y6XnRs0VW6"
      },
      "source": [
        "# Loading and formating table\n",
        "----"
      ]
    },
    {
      "cell_type": "code",
      "execution_count": 2,
      "metadata": {},
      "outputs": [],
      "source": [
        "df = pd.read_csv(root + '/Investing/Notas_TD/transactions.csv')\n",
        "df=df[~df['DATE'].str.contains('END OF FILE')].fillna(0)\n",
        "df['TYPE'] = 'STOCK'\n",
        "df['DATE'] = pd.to_datetime(df['DATE']).dt.strftime('%Y-%m-%d')\n",
        "df = df[['SYMBOL', 'DATE', 'PRICE', 'QUANTITY', 'DESCRIPTION', 'TYPE', 'COMMISSION', 'AMOUNT']]\n",
        "def DescriptionParser(row):\n",
        "    desc = row['DESCRIPTION']\n",
        "    if ('Bought' in desc):\n",
        "        row['DESCRIPTION'] = 'B'\n",
        "    if ('Sold' in desc):\n",
        "        row['DESCRIPTION'] = 'S'\n",
        "    if ('WIRE' in desc):\n",
        "        row['DESCRIPTION'] = 'W'\n",
        "        row['SYMBOL'] = 'CASH'\n",
        "        row['QUANTITY'] = 1\n",
        "        row['PRICE'] = row['AMOUNT']\n",
        "    return row\n",
        "\n",
        "df = df.apply(DescriptionParser, axis=1)\n",
        "df = df.rename(columns={'DESCRIPTION':'OPERATION'})\n",
        "df.to_csv(root + '/Investing/TD.csv', index=False)"
      ]
    },
    {
      "cell_type": "code",
      "metadata": {
        "id": "s8OJkwSvUxbJ",
        "colab": {
          "base_uri": "https://localhost:8080/",
          "height": 419
        },
        "outputId": "70dff551-6c15-4373-fd46-08d73efd7785"
      },
      "source": [
        "df = pd.read_csv(root + '/Investing/TD.csv')\n",
        "  \n",
        "df = df.iloc[:, :7]\n",
        "df.columns=['SYMBOL','DATE', 'PRICE', 'QUANTITY', 'OPERATION', 'TYPE', 'FEE']\n",
        "#drop empty lines\n",
        "df=df[df['DATE'].astype(bool)].dropna()\n",
        "brTickers = np.sort(df[df['TYPE'].isin(['FII','Ação'])]['SYMBOL'].unique()).tolist()\n",
        "usTickers = np.sort(df[df['TYPE'].isin(['STOCK', 'REIT'])]['SYMBOL'].unique()).tolist()\n",
        "\n",
        "if(df['PRICE'].apply(type).eq(str).any()): \n",
        "    df['PRICE'] = df['PRICE'].str.replace(',', '')\n",
        "    df['PRICE'] = pd.to_numeric(df['PRICE'], errors='coerce')\n",
        "    df['QUANTITY'] = pd.to_numeric(df['QUANTITY'], errors='coerce')\n",
        "    df['FEE'] = pd.to_numeric(df['FEE'], errors='coerce')\n",
        "\n",
        "if(df['DATE'].apply(type).eq(str).any()): \n",
        "    df['DATE'] = df.DATE.str.replace('-','/')\n",
        "    df['DATE'] = pd.to_datetime(df['DATE'], format='%Y/%m/%d')\n",
        "df['Year'] = pd.DatetimeIndex(df['DATE']).year\n",
        "df['Month'] = pd.DatetimeIndex(df['DATE']).month_name()\n",
        "\n",
        "#Sort the table by date and Type and reset index numeration\n",
        "df.sort_values(by=['DATE', 'OPERATION'], ascending=[True, True], inplace=True)\n",
        "df.reset_index(drop=True, inplace=True)\n",
        "\n",
        "#turn all sell amount negative\n",
        "df.loc[df.OPERATION == 'S', ['QUANTITY']] *= -1\n",
        "\n",
        "#Get the oldest order date\n",
        "startDate = df.iloc[0]['DATE']\n",
        "\n",
        "df['AMOUNT'] = df['PRICE'] * df['QUANTITY'] \n"
      ],
      "execution_count": 3,
      "outputs": []
    },
    {
      "cell_type": "code",
      "metadata": {
        "id": "q5-e6F5CNN9I"
      },
      "source": [
        "# import concurrent.futures\n",
        "import time\n",
        "import threading\n",
        "start_time = time.time()\n",
        "\n",
        "prcReader = PriceReader(brTickers, usTickers, startDate)\n",
        "splReader = SplitsReader(df)\n",
        "divReader = DividendReader(df)\n",
        "# divReader = YfinanceReader(df)\n",
        "\n",
        "def threadExecutor(obj):\n",
        "    obj.load()\n",
        "\n",
        "threadList = []\n",
        "threadList.append(threading.Thread(target=threadExecutor, args=(prcReader,)))\n",
        "threadList.append(threading.Thread(target=threadExecutor, args=(splReader,)))\n",
        "threadList.append(threading.Thread(target=threadExecutor, args=(divReader,)))\n",
        "\n",
        "for td in threadList:\n",
        "    td.start()\n",
        "\n",
        "for td in threadList:\n",
        "    td.join()\n",
        "\n",
        "print(\"Executed in %s seconds\" % (time.time() - start_time))"
      ],
      "execution_count": 4,
      "outputs": [
        {
          "output_type": "stream",
          "name": "stdout",
          "text": [
            "Executed in 11.764430522918701 seconds\n"
          ]
        }
      ]
    },
    {
      "cell_type": "code",
      "metadata": {
        "id": "JjQzx-oj-Ses"
      },
      "source": [
        "dfBak = df"
      ],
      "execution_count": 5,
      "outputs": []
    },
    {
      "cell_type": "code",
      "metadata": {
        "id": "ySWDeyHk2HKU"
      },
      "source": [
        "df=dfBak\n",
        "df['acum_qty'] = 0\n",
        "df['PM'] = 0\n",
        "df['CASH'] = 0\n",
        "# Clear operation costs befere 2019\n",
        "# df.FEE.update(df.apply(clear2018Cost, axis=1))\n",
        "df.head(1)"
      ],
      "execution_count": 27,
      "outputs": [
        {
          "output_type": "execute_result",
          "data": {
            "text/plain": [
              "  SYMBOL       DATE   PRICE  QUANTITY OPERATION   TYPE   FEE  Year  Month  \\\n",
              "0   CASH 2021-04-05 $859.16     $1.00         W  STOCK $0.00  2021  April   \n",
              "\n",
              "   AMOUNT  acum_qty  PM  \n",
              "0 $859.16         0   0  "
            ],
            "text/html": "<div>\n<style scoped>\n    .dataframe tbody tr th:only-of-type {\n        vertical-align: middle;\n    }\n\n    .dataframe tbody tr th {\n        vertical-align: top;\n    }\n\n    .dataframe thead th {\n        text-align: right;\n    }\n</style>\n<table border=\"1\" class=\"dataframe\">\n  <thead>\n    <tr style=\"text-align: right;\">\n      <th></th>\n      <th>SYMBOL</th>\n      <th>DATE</th>\n      <th>PRICE</th>\n      <th>QUANTITY</th>\n      <th>OPERATION</th>\n      <th>TYPE</th>\n      <th>FEE</th>\n      <th>Year</th>\n      <th>Month</th>\n      <th>AMOUNT</th>\n      <th>acum_qty</th>\n      <th>PM</th>\n    </tr>\n  </thead>\n  <tbody>\n    <tr>\n      <th>0</th>\n      <td>CASH</td>\n      <td>2021-04-05</td>\n      <td>$859.16</td>\n      <td>$1.00</td>\n      <td>W</td>\n      <td>STOCK</td>\n      <td>$0.00</td>\n      <td>2021</td>\n      <td>April</td>\n      <td>$859.16</td>\n      <td>0</td>\n      <td>0</td>\n    </tr>\n  </tbody>\n</table>\n</div>"
          },
          "metadata": {},
          "execution_count": 27
        }
      ]
    },
    {
      "cell_type": "markdown",
      "metadata": {
        "id": "jNvC0a3clOA-"
      },
      "source": [
        "## Accumulator"
      ]
    },
    {
      "cell_type": "code",
      "metadata": {
        "id": "vSSl5581cZ5-",
        "tags": []
      },
      "source": [
        "\n",
        "for paper in (brTickers + usTickers):\n",
        "  paperTable = df[df.SYMBOL == paper]\n",
        "  fromDate = paperTable.iloc[0]['DATE']  \n",
        "  toDate = dt.datetime.today().strftime('%Y-%m-%d')\n",
        "\n",
        "  divTable = divReader.getPeriod(paper,fromDate, toDate)\n",
        "  divTable['QUANTITY'] = 0\n",
        "  divTable['OPERATION'] = 'DIVIDENDS'\n",
        "  divTable['TYPE'] = paperTable.iloc[0]['TYPE']\n",
        "  divTable['FEE'] = 0\n",
        "  divTable['Year'] = pd.DatetimeIndex(divTable.index).year\n",
        "  divTable['Month'] = pd.DatetimeIndex(divTable.index).month_name()\n",
        "  divTable['AMOUNT'] = 0\n",
        "  divTable['acum_qty'] = 0\n",
        "  divTable['CASH'] = 0\n",
        "  df = df.append(divTable.reset_index(drop=True))\n",
        "\n",
        "  splitTable = splReader.getPeriod(paper,fromDate, toDate)\n",
        "  splitTable['PRICE'] = 0\n",
        "  splitTable['OPERATION'] = 'SPLIT'\n",
        "  splitTable['TYPE'] = paperTable.iloc[0]['TYPE']\n",
        "  splitTable['FEE'] = 0\n",
        "  splitTable['Year'] = pd.DatetimeIndex(splitTable.index).year\n",
        "  splitTable['Month'] = pd.DatetimeIndex(splitTable.index).month_name()\n",
        "  splitTable['AMOUNT'] = 0\n",
        "  splitTable['acum_qty'] = 0\n",
        "  splitTable['CASH'] = 0\n",
        "  df = df.append(splitTable.reset_index(drop=True))\n",
        "\n",
        "df.sort_values(['DATE', 'OPERATION'], inplace=True)\n",
        "\n",
        "#Create obj\n",
        "ta = TableAccumulator()\n",
        "#Calc the average price and rename the columns names\n",
        "df=df.groupby(['SYMBOL']).apply(ta.ByGroup).reset_index(drop=True).dropna()\n",
        "df.sort_values(['DATE', 'OPERATION'], inplace=True)"
      ],
      "execution_count": 28,
      "outputs": []
    },
    {
      "cell_type": "code",
      "metadata": {
        "colab": {
          "base_uri": "https://localhost:8080/"
        },
        "id": "s_oSPuCBEjuJ",
        "outputId": "9beb7aa3-84fc-4ade-f503-a2937f77e36e"
      },
      "source": [
        "df[df.SYMBOL.str.contains('CASH')]"
      ],
      "execution_count": 30,
      "outputs": [
        {
          "output_type": "execute_result",
          "data": {
            "text/plain": [
              "   SYMBOL       DATE   PRICE  QUANTITY OPERATION   TYPE   FEE  Year  Month  \\\n",
              "0    CASH 2021-04-05 $859.16     $1.00         W  STOCK $0.00  2021  April   \n",
              "15   CASH 2021-04-12 $500.00     $1.00         W  STOCK $0.00  2021  April   \n",
              "18   CASH 2021-04-19 $500.00     $1.00         W  STOCK $0.00  2021  April   \n",
              "20   CASH 2021-04-22 $535.99     $1.00         W  STOCK $0.00  2021  April   \n",
              "26   CASH 2021-04-30 $550.21     $1.00         W  STOCK $0.00  2021  April   \n",
              "\n",
              "    AMOUNT  acum_qty    PM  acumProv  \n",
              "0  $859.16     $0.00 $0.00         0  \n",
              "15 $500.00     $0.00 $0.00         0  \n",
              "18 $500.00     $0.00 $0.00         0  \n",
              "20 $535.99     $0.00 $0.00         0  \n",
              "26 $550.21     $0.00 $0.00         0  "
            ],
            "text/html": "<div>\n<style scoped>\n    .dataframe tbody tr th:only-of-type {\n        vertical-align: middle;\n    }\n\n    .dataframe tbody tr th {\n        vertical-align: top;\n    }\n\n    .dataframe thead th {\n        text-align: right;\n    }\n</style>\n<table border=\"1\" class=\"dataframe\">\n  <thead>\n    <tr style=\"text-align: right;\">\n      <th></th>\n      <th>SYMBOL</th>\n      <th>DATE</th>\n      <th>PRICE</th>\n      <th>QUANTITY</th>\n      <th>OPERATION</th>\n      <th>TYPE</th>\n      <th>FEE</th>\n      <th>Year</th>\n      <th>Month</th>\n      <th>AMOUNT</th>\n      <th>acum_qty</th>\n      <th>PM</th>\n      <th>acumProv</th>\n    </tr>\n  </thead>\n  <tbody>\n    <tr>\n      <th>0</th>\n      <td>CASH</td>\n      <td>2021-04-05</td>\n      <td>$859.16</td>\n      <td>$1.00</td>\n      <td>W</td>\n      <td>STOCK</td>\n      <td>$0.00</td>\n      <td>2021</td>\n      <td>April</td>\n      <td>$859.16</td>\n      <td>$0.00</td>\n      <td>$0.00</td>\n      <td>0</td>\n    </tr>\n    <tr>\n      <th>15</th>\n      <td>CASH</td>\n      <td>2021-04-12</td>\n      <td>$500.00</td>\n      <td>$1.00</td>\n      <td>W</td>\n      <td>STOCK</td>\n      <td>$0.00</td>\n      <td>2021</td>\n      <td>April</td>\n      <td>$500.00</td>\n      <td>$0.00</td>\n      <td>$0.00</td>\n      <td>0</td>\n    </tr>\n    <tr>\n      <th>18</th>\n      <td>CASH</td>\n      <td>2021-04-19</td>\n      <td>$500.00</td>\n      <td>$1.00</td>\n      <td>W</td>\n      <td>STOCK</td>\n      <td>$0.00</td>\n      <td>2021</td>\n      <td>April</td>\n      <td>$500.00</td>\n      <td>$0.00</td>\n      <td>$0.00</td>\n      <td>0</td>\n    </tr>\n    <tr>\n      <th>20</th>\n      <td>CASH</td>\n      <td>2021-04-22</td>\n      <td>$535.99</td>\n      <td>$1.00</td>\n      <td>W</td>\n      <td>STOCK</td>\n      <td>$0.00</td>\n      <td>2021</td>\n      <td>April</td>\n      <td>$535.99</td>\n      <td>$0.00</td>\n      <td>$0.00</td>\n      <td>0</td>\n    </tr>\n    <tr>\n      <th>26</th>\n      <td>CASH</td>\n      <td>2021-04-30</td>\n      <td>$550.21</td>\n      <td>$1.00</td>\n      <td>W</td>\n      <td>STOCK</td>\n      <td>$0.00</td>\n      <td>2021</td>\n      <td>April</td>\n      <td>$550.21</td>\n      <td>$0.00</td>\n      <td>$0.00</td>\n      <td>0</td>\n    </tr>\n  </tbody>\n</table>\n</div>"
          },
          "metadata": {},
          "execution_count": 30
        }
      ]
    },
    {
      "cell_type": "markdown",
      "metadata": {
        "id": "wkJziCIHzOC7"
      },
      "source": [
        "# Realized Profit\n"
      ]
    },
    {
      "cell_type": "markdown",
      "metadata": {
        "id": "nUP3tx_nUoL0"
      },
      "source": [
        "## Processing"
      ]
    },
    {
      "cell_type": "code",
      "metadata": {
        "id": "K0eAug1DHHIm"
      },
      "source": [
        "def CalcProfit(dtf):\n",
        "    profit = Profit()\n",
        "    dtf.sort_values(by=['DATE', 'OPERATION'], ascending=[True, True], inplace=True)\n",
        "    dtf.reset_index(drop=True)\n",
        "    return dtf.groupby(['SYMBOL', 'DATE']).apply(profit.Trade).reset_index(drop=True)\n"
      ],
      "execution_count": 9,
      "outputs": []
    },
    {
      "cell_type": "code",
      "metadata": {
        "colab": {
          "base_uri": "https://localhost:8080/"
        },
        "id": "pnW0F7d2U3VL",
        "outputId": "83ec4b5b-28f7-40c2-fe3b-75312feca274"
      },
      "source": [
        "df = CalcProfit(df)\n",
        "rl = df[df.OPERATION == 'S'][['DATE', 'SYMBOL', 'TYPE', 'Profit',\t'DayTrade']]\n",
        "rl['DATE'] = rl['DATE'].apply(lambda x: x.strftime('%Y-%m-%d'))\n",
        "rl.loc['Total', 'Profit'] = rl['Profit'].sum()\n",
        "rl.fillna(' ', inplace=True)\n",
        "rl.style.applymap(color_negative_red, subset=['Profit']).format( {'Profit': 'R$ {:,.2f}', 'DayTrade': '{}'})\n"
      ],
      "execution_count": 10,
      "outputs": [
        {
          "output_type": "execute_result",
          "data": {
            "text/plain": [
              "<pandas.io.formats.style.Styler at 0x2253b06cf88>"
            ],
            "text/html": "<style  type=\"text/css\" >\n#T_94fec_row0_col3{\n            color:  green;\n        }</style><table id=\"T_94fec_\" ><thead>    <tr>        <th class=\"blank level0\" ></th>        <th class=\"col_heading level0 col0\" >DATE</th>        <th class=\"col_heading level0 col1\" >SYMBOL</th>        <th class=\"col_heading level0 col2\" >TYPE</th>        <th class=\"col_heading level0 col3\" >Profit</th>        <th class=\"col_heading level0 col4\" >DayTrade</th>    </tr></thead><tbody>\n                <tr>\n                        <th id=\"T_94fec_level0_row0\" class=\"row_heading level0 row0\" >Total</th>\n                        <td id=\"T_94fec_row0_col0\" class=\"data row0 col0\" > </td>\n                        <td id=\"T_94fec_row0_col1\" class=\"data row0 col1\" > </td>\n                        <td id=\"T_94fec_row0_col2\" class=\"data row0 col2\" > </td>\n                        <td id=\"T_94fec_row0_col3\" class=\"data row0 col3\" >R$ 0.00</td>\n                        <td id=\"T_94fec_row0_col4\" class=\"data row0 col4\" > </td>\n            </tr>\n    </tbody></table>"
          },
          "metadata": {},
          "execution_count": 10
        }
      ]
    },
    {
      "cell_type": "markdown",
      "metadata": {
        "id": "OBRcPuk1NCV1"
      },
      "source": [
        "# Portifolio\n"
      ]
    },
    {
      "cell_type": "code",
      "metadata": {
        "colab": {
          "base_uri": "https://localhost:8080/"
        },
        "id": "feMVFkd35mqB",
        "outputId": "00ecd66b-543e-4e70-f885-a8cacf79c9e7"
      },
      "source": [
        "\n",
        "Portifolio(prcReader,df).show()\n"
      ],
      "execution_count": 11,
      "outputs": [
        {
          "output_type": "execute_result",
          "data": {
            "text/plain": [
              "<pandas.io.formats.style.Styler at 0x2253b67bf08>"
            ],
            "text/html": "<style  type=\"text/css\" >\n#T_9c26e_row0_col0,#T_9c26e_row0_col1,#T_9c26e_row0_col2,#T_9c26e_row0_col3,#T_9c26e_row0_col4,#T_9c26e_row0_col5,#T_9c26e_row0_col10,#T_9c26e_row1_col0,#T_9c26e_row1_col1,#T_9c26e_row1_col2,#T_9c26e_row1_col3,#T_9c26e_row1_col4,#T_9c26e_row1_col5,#T_9c26e_row1_col10,#T_9c26e_row2_col0,#T_9c26e_row2_col1,#T_9c26e_row2_col2,#T_9c26e_row2_col3,#T_9c26e_row2_col4,#T_9c26e_row2_col5,#T_9c26e_row2_col6,#T_9c26e_row2_col7,#T_9c26e_row2_col8,#T_9c26e_row2_col9,#T_9c26e_row2_col10,#T_9c26e_row3_col0,#T_9c26e_row3_col1,#T_9c26e_row3_col2,#T_9c26e_row3_col3,#T_9c26e_row3_col4,#T_9c26e_row3_col5,#T_9c26e_row3_col6,#T_9c26e_row3_col7,#T_9c26e_row3_col8,#T_9c26e_row3_col9,#T_9c26e_row3_col10,#T_9c26e_row4_col0,#T_9c26e_row4_col1,#T_9c26e_row4_col2,#T_9c26e_row4_col3,#T_9c26e_row4_col4,#T_9c26e_row4_col5,#T_9c26e_row4_col10,#T_9c26e_row5_col0,#T_9c26e_row5_col1,#T_9c26e_row5_col2,#T_9c26e_row5_col3,#T_9c26e_row5_col4,#T_9c26e_row5_col5,#T_9c26e_row5_col10,#T_9c26e_row6_col0,#T_9c26e_row6_col1,#T_9c26e_row6_col2,#T_9c26e_row6_col3,#T_9c26e_row6_col4,#T_9c26e_row6_col5,#T_9c26e_row6_col6,#T_9c26e_row6_col7,#T_9c26e_row6_col8,#T_9c26e_row6_col9,#T_9c26e_row6_col10,#T_9c26e_row7_col0,#T_9c26e_row7_col1,#T_9c26e_row7_col2,#T_9c26e_row7_col3,#T_9c26e_row7_col4,#T_9c26e_row7_col5,#T_9c26e_row7_col6,#T_9c26e_row7_col7,#T_9c26e_row7_col8,#T_9c26e_row7_col9,#T_9c26e_row7_col10,#T_9c26e_row8_col0,#T_9c26e_row8_col1,#T_9c26e_row8_col2,#T_9c26e_row8_col3,#T_9c26e_row8_col4,#T_9c26e_row8_col5,#T_9c26e_row8_col10,#T_9c26e_row9_col0,#T_9c26e_row9_col1,#T_9c26e_row9_col2,#T_9c26e_row9_col3,#T_9c26e_row9_col4,#T_9c26e_row9_col5,#T_9c26e_row9_col6,#T_9c26e_row9_col7,#T_9c26e_row9_col8,#T_9c26e_row9_col9,#T_9c26e_row9_col10,#T_9c26e_row10_col0,#T_9c26e_row10_col1,#T_9c26e_row10_col2,#T_9c26e_row10_col3,#T_9c26e_row10_col4,#T_9c26e_row10_col5,#T_9c26e_row10_col10,#T_9c26e_row11_col0,#T_9c26e_row11_col1,#T_9c26e_row11_col2,#T_9c26e_row11_col3,#T_9c26e_row11_col4,#T_9c26e_row11_col5,#T_9c26e_row11_col10,#T_9c26e_row12_col0,#T_9c26e_row12_col1,#T_9c26e_row12_col2,#T_9c26e_row12_col3,#T_9c26e_row12_col4,#T_9c26e_row12_col5,#T_9c26e_row12_col6,#T_9c26e_row12_col7,#T_9c26e_row12_col8,#T_9c26e_row12_col9,#T_9c26e_row12_col10,#T_9c26e_row13_col0,#T_9c26e_row13_col1,#T_9c26e_row13_col2,#T_9c26e_row13_col3,#T_9c26e_row13_col4,#T_9c26e_row13_col5,#T_9c26e_row13_col10,#T_9c26e_row14_col0,#T_9c26e_row14_col1,#T_9c26e_row14_col2,#T_9c26e_row14_col3,#T_9c26e_row14_col4,#T_9c26e_row14_col5,#T_9c26e_row14_col6,#T_9c26e_row14_col7,#T_9c26e_row14_col8,#T_9c26e_row14_col9,#T_9c26e_row14_col10,#T_9c26e_row15_col0,#T_9c26e_row15_col1,#T_9c26e_row15_col2,#T_9c26e_row15_col3,#T_9c26e_row15_col4,#T_9c26e_row15_col5,#T_9c26e_row15_col6,#T_9c26e_row15_col7,#T_9c26e_row15_col8,#T_9c26e_row15_col9,#T_9c26e_row15_col10{\n            color:  green;\n        }#T_9c26e_row0_col6,#T_9c26e_row0_col7,#T_9c26e_row0_col8,#T_9c26e_row0_col9,#T_9c26e_row1_col6,#T_9c26e_row1_col7,#T_9c26e_row1_col8,#T_9c26e_row1_col9,#T_9c26e_row4_col6,#T_9c26e_row4_col7,#T_9c26e_row4_col8,#T_9c26e_row4_col9,#T_9c26e_row5_col6,#T_9c26e_row5_col7,#T_9c26e_row5_col8,#T_9c26e_row5_col9,#T_9c26e_row8_col6,#T_9c26e_row8_col7,#T_9c26e_row8_col8,#T_9c26e_row8_col9,#T_9c26e_row10_col6,#T_9c26e_row10_col7,#T_9c26e_row10_col8,#T_9c26e_row10_col9,#T_9c26e_row11_col6,#T_9c26e_row11_col7,#T_9c26e_row11_col8,#T_9c26e_row11_col9,#T_9c26e_row13_col6,#T_9c26e_row13_col7,#T_9c26e_row13_col8,#T_9c26e_row13_col9{\n            color:  red;\n        }</style><table id=\"T_9c26e_\" ><thead>    <tr>        <th class=\"blank level0\" ></th>        <th class=\"col_heading level0 col0\" >PM</th>        <th class=\"col_heading level0 col1\" >PRICE</th>        <th class=\"col_heading level0 col2\" >QUANTITY</th>        <th class=\"col_heading level0 col3\" >COST</th>        <th class=\"col_heading level0 col4\" >MKT_VALUE</th>        <th class=\"col_heading level0 col5\" >DIVIDENDS</th>        <th class=\"col_heading level0 col6\" >Rentabilidade</th>        <th class=\"col_heading level0 col7\" >Lucro</th>        <th class=\"col_heading level0 col8\" >%R</th>        <th class=\"col_heading level0 col9\" >%R+d</th>        <th class=\"col_heading level0 col10\" >Alocacao</th>    </tr>    <tr>        <th class=\"index_name level0\" >Ativo</th>        <th class=\"blank\" ></th>        <th class=\"blank\" ></th>        <th class=\"blank\" ></th>        <th class=\"blank\" ></th>        <th class=\"blank\" ></th>        <th class=\"blank\" ></th>        <th class=\"blank\" ></th>        <th class=\"blank\" ></th>        <th class=\"blank\" ></th>        <th class=\"blank\" ></th>        <th class=\"blank\" ></th>    </tr></thead><tbody>\n                <tr>\n                        <th id=\"T_9c26e_level0_row0\" class=\"row_heading level0 row0\" >CCJ</th>\n                        <td id=\"T_9c26e_row0_col0\" class=\"data row0 col0\" >R$ 17.57</td>\n                        <td id=\"T_9c26e_row0_col1\" class=\"data row0 col1\" >R$ 16.81</td>\n                        <td id=\"T_9c26e_row0_col2\" class=\"data row0 col2\" >5</td>\n                        <td id=\"T_9c26e_row0_col3\" class=\"data row0 col3\" >R$ 87.83</td>\n                        <td id=\"T_9c26e_row0_col4\" class=\"data row0 col4\" >R$ 84.05</td>\n                        <td id=\"T_9c26e_row0_col5\" class=\"data row0 col5\" >R$ 0.00</td>\n                        <td id=\"T_9c26e_row0_col6\" class=\"data row0 col6\" >R$ -3.78</td>\n                        <td id=\"T_9c26e_row0_col7\" class=\"data row0 col7\" >R$ -3.78</td>\n                        <td id=\"T_9c26e_row0_col8\" class=\"data row0 col8\" >-4.31%</td>\n                        <td id=\"T_9c26e_row0_col9\" class=\"data row0 col9\" >-4.31%</td>\n                        <td id=\"T_9c26e_row0_col10\" class=\"data row0 col10\" >4.15%</td>\n            </tr>\n            <tr>\n                        <th id=\"T_9c26e_level0_row1\" class=\"row_heading level0 row1\" >CSCO</th>\n                        <td id=\"T_9c26e_row1_col0\" class=\"data row1 col0\" >R$ 52.01</td>\n                        <td id=\"T_9c26e_row1_col1\" class=\"data row1 col1\" >R$ 50.91</td>\n                        <td id=\"T_9c26e_row1_col2\" class=\"data row1 col2\" >1</td>\n                        <td id=\"T_9c26e_row1_col3\" class=\"data row1 col3\" >R$ 52.01</td>\n                        <td id=\"T_9c26e_row1_col4\" class=\"data row1 col4\" >R$ 50.91</td>\n                        <td id=\"T_9c26e_row1_col5\" class=\"data row1 col5\" >R$ 0.00</td>\n                        <td id=\"T_9c26e_row1_col6\" class=\"data row1 col6\" >R$ -1.10</td>\n                        <td id=\"T_9c26e_row1_col7\" class=\"data row1 col7\" >R$ -1.10</td>\n                        <td id=\"T_9c26e_row1_col8\" class=\"data row1 col8\" >-2.11%</td>\n                        <td id=\"T_9c26e_row1_col9\" class=\"data row1 col9\" >-2.11%</td>\n                        <td id=\"T_9c26e_row1_col10\" class=\"data row1 col10\" >2.51%</td>\n            </tr>\n            <tr>\n                        <th id=\"T_9c26e_level0_row2\" class=\"row_heading level0 row2\" >EA</th>\n                        <td id=\"T_9c26e_row2_col0\" class=\"data row2 col0\" >R$ 141.50</td>\n                        <td id=\"T_9c26e_row2_col1\" class=\"data row2 col1\" >R$ 142.08</td>\n                        <td id=\"T_9c26e_row2_col2\" class=\"data row2 col2\" >1</td>\n                        <td id=\"T_9c26e_row2_col3\" class=\"data row2 col3\" >R$ 141.50</td>\n                        <td id=\"T_9c26e_row2_col4\" class=\"data row2 col4\" >R$ 142.08</td>\n                        <td id=\"T_9c26e_row2_col5\" class=\"data row2 col5\" >R$ 0.00</td>\n                        <td id=\"T_9c26e_row2_col6\" class=\"data row2 col6\" >R$ 0.58</td>\n                        <td id=\"T_9c26e_row2_col7\" class=\"data row2 col7\" >R$ 0.58</td>\n                        <td id=\"T_9c26e_row2_col8\" class=\"data row2 col8\" >0.41%</td>\n                        <td id=\"T_9c26e_row2_col9\" class=\"data row2 col9\" >0.41%</td>\n                        <td id=\"T_9c26e_row2_col10\" class=\"data row2 col10\" >7.01%</td>\n            </tr>\n            <tr>\n                        <th id=\"T_9c26e_level0_row3\" class=\"row_heading level0 row3\" >HOLI</th>\n                        <td id=\"T_9c26e_row3_col0\" class=\"data row3 col0\" >R$ 12.65</td>\n                        <td id=\"T_9c26e_row3_col1\" class=\"data row3 col1\" >R$ 13.56</td>\n                        <td id=\"T_9c26e_row3_col2\" class=\"data row3 col2\" >6</td>\n                        <td id=\"T_9c26e_row3_col3\" class=\"data row3 col3\" >R$ 75.90</td>\n                        <td id=\"T_9c26e_row3_col4\" class=\"data row3 col4\" >R$ 81.36</td>\n                        <td id=\"T_9c26e_row3_col5\" class=\"data row3 col5\" >R$ 0.00</td>\n                        <td id=\"T_9c26e_row3_col6\" class=\"data row3 col6\" >R$ 5.46</td>\n                        <td id=\"T_9c26e_row3_col7\" class=\"data row3 col7\" >R$ 5.46</td>\n                        <td id=\"T_9c26e_row3_col8\" class=\"data row3 col8\" >7.19%</td>\n                        <td id=\"T_9c26e_row3_col9\" class=\"data row3 col9\" >7.19%</td>\n                        <td id=\"T_9c26e_row3_col10\" class=\"data row3 col10\" >4.02%</td>\n            </tr>\n            <tr>\n                        <th id=\"T_9c26e_level0_row4\" class=\"row_heading level0 row4\" >INVA</th>\n                        <td id=\"T_9c26e_row4_col0\" class=\"data row4 col0\" >R$ 12.27</td>\n                        <td id=\"T_9c26e_row4_col1\" class=\"data row4 col1\" >R$ 11.45</td>\n                        <td id=\"T_9c26e_row4_col2\" class=\"data row4 col2\" >6</td>\n                        <td id=\"T_9c26e_row4_col3\" class=\"data row4 col3\" >R$ 73.62</td>\n                        <td id=\"T_9c26e_row4_col4\" class=\"data row4 col4\" >R$ 68.70</td>\n                        <td id=\"T_9c26e_row4_col5\" class=\"data row4 col5\" >R$ 0.00</td>\n                        <td id=\"T_9c26e_row4_col6\" class=\"data row4 col6\" >R$ -4.92</td>\n                        <td id=\"T_9c26e_row4_col7\" class=\"data row4 col7\" >R$ -4.92</td>\n                        <td id=\"T_9c26e_row4_col8\" class=\"data row4 col8\" >-6.68%</td>\n                        <td id=\"T_9c26e_row4_col9\" class=\"data row4 col9\" >-6.68%</td>\n                        <td id=\"T_9c26e_row4_col10\" class=\"data row4 col10\" >3.39%</td>\n            </tr>\n            <tr>\n                        <th id=\"T_9c26e_level0_row5\" class=\"row_heading level0 row5\" >LAKE</th>\n                        <td id=\"T_9c26e_row5_col0\" class=\"data row5 col0\" >R$ 28.30</td>\n                        <td id=\"T_9c26e_row5_col1\" class=\"data row5 col1\" >R$ 28.21</td>\n                        <td id=\"T_9c26e_row5_col2\" class=\"data row5 col2\" >2</td>\n                        <td id=\"T_9c26e_row5_col3\" class=\"data row5 col3\" >R$ 56.60</td>\n                        <td id=\"T_9c26e_row5_col4\" class=\"data row5 col4\" >R$ 56.42</td>\n                        <td id=\"T_9c26e_row5_col5\" class=\"data row5 col5\" >R$ 0.00</td>\n                        <td id=\"T_9c26e_row5_col6\" class=\"data row5 col6\" >R$ -0.18</td>\n                        <td id=\"T_9c26e_row5_col7\" class=\"data row5 col7\" >R$ -0.18</td>\n                        <td id=\"T_9c26e_row5_col8\" class=\"data row5 col8\" >-0.32%</td>\n                        <td id=\"T_9c26e_row5_col9\" class=\"data row5 col9\" >-0.32%</td>\n                        <td id=\"T_9c26e_row5_col10\" class=\"data row5 col10\" >2.78%</td>\n            </tr>\n            <tr>\n                        <th id=\"T_9c26e_level0_row6\" class=\"row_heading level0 row6\" >LI</th>\n                        <td id=\"T_9c26e_row6_col0\" class=\"data row6 col0\" >R$ 19.48</td>\n                        <td id=\"T_9c26e_row6_col1\" class=\"data row6 col1\" >R$ 19.74</td>\n                        <td id=\"T_9c26e_row6_col2\" class=\"data row6 col2\" >7</td>\n                        <td id=\"T_9c26e_row6_col3\" class=\"data row6 col3\" >R$ 136.36</td>\n                        <td id=\"T_9c26e_row6_col4\" class=\"data row6 col4\" >R$ 138.18</td>\n                        <td id=\"T_9c26e_row6_col5\" class=\"data row6 col5\" >R$ 0.00</td>\n                        <td id=\"T_9c26e_row6_col6\" class=\"data row6 col6\" >R$ 1.82</td>\n                        <td id=\"T_9c26e_row6_col7\" class=\"data row6 col7\" >R$ 1.82</td>\n                        <td id=\"T_9c26e_row6_col8\" class=\"data row6 col8\" >1.33%</td>\n                        <td id=\"T_9c26e_row6_col9\" class=\"data row6 col9\" >1.33%</td>\n                        <td id=\"T_9c26e_row6_col10\" class=\"data row6 col10\" >6.82%</td>\n            </tr>\n            <tr>\n                        <th id=\"T_9c26e_level0_row7\" class=\"row_heading level0 row7\" >LUMN</th>\n                        <td id=\"T_9c26e_row7_col0\" class=\"data row7 col0\" >R$ 12.72</td>\n                        <td id=\"T_9c26e_row7_col1\" class=\"data row7 col1\" >R$ 12.83</td>\n                        <td id=\"T_9c26e_row7_col2\" class=\"data row7 col2\" >10</td>\n                        <td id=\"T_9c26e_row7_col3\" class=\"data row7 col3\" >R$ 127.20</td>\n                        <td id=\"T_9c26e_row7_col4\" class=\"data row7 col4\" >R$ 128.30</td>\n                        <td id=\"T_9c26e_row7_col5\" class=\"data row7 col5\" >R$ 0.00</td>\n                        <td id=\"T_9c26e_row7_col6\" class=\"data row7 col6\" >R$ 1.10</td>\n                        <td id=\"T_9c26e_row7_col7\" class=\"data row7 col7\" >R$ 1.10</td>\n                        <td id=\"T_9c26e_row7_col8\" class=\"data row7 col8\" >0.86%</td>\n                        <td id=\"T_9c26e_row7_col9\" class=\"data row7 col9\" >0.86%</td>\n                        <td id=\"T_9c26e_row7_col10\" class=\"data row7 col10\" >6.33%</td>\n            </tr>\n            <tr>\n                        <th id=\"T_9c26e_level0_row8\" class=\"row_heading level0 row8\" >NEM</th>\n                        <td id=\"T_9c26e_row8_col0\" class=\"data row8 col0\" >R$ 62.83</td>\n                        <td id=\"T_9c26e_row8_col1\" class=\"data row8 col1\" >R$ 62.41</td>\n                        <td id=\"T_9c26e_row8_col2\" class=\"data row8 col2\" >2</td>\n                        <td id=\"T_9c26e_row8_col3\" class=\"data row8 col3\" >R$ 125.66</td>\n                        <td id=\"T_9c26e_row8_col4\" class=\"data row8 col4\" >R$ 124.82</td>\n                        <td id=\"T_9c26e_row8_col5\" class=\"data row8 col5\" >R$ 0.00</td>\n                        <td id=\"T_9c26e_row8_col6\" class=\"data row8 col6\" >R$ -0.84</td>\n                        <td id=\"T_9c26e_row8_col7\" class=\"data row8 col7\" >R$ -0.84</td>\n                        <td id=\"T_9c26e_row8_col8\" class=\"data row8 col8\" >-0.67%</td>\n                        <td id=\"T_9c26e_row8_col9\" class=\"data row8 col9\" >-0.67%</td>\n                        <td id=\"T_9c26e_row8_col10\" class=\"data row8 col10\" >6.16%</td>\n            </tr>\n            <tr>\n                        <th id=\"T_9c26e_level0_row9\" class=\"row_heading level0 row9\" >NFLX</th>\n                        <td id=\"T_9c26e_row9_col0\" class=\"data row9 col0\" >R$ 507.50</td>\n                        <td id=\"T_9c26e_row9_col1\" class=\"data row9 col1\" >R$ 513.47</td>\n                        <td id=\"T_9c26e_row9_col2\" class=\"data row9 col2\" >1</td>\n                        <td id=\"T_9c26e_row9_col3\" class=\"data row9 col3\" >R$ 507.50</td>\n                        <td id=\"T_9c26e_row9_col4\" class=\"data row9 col4\" >R$ 513.47</td>\n                        <td id=\"T_9c26e_row9_col5\" class=\"data row9 col5\" >R$ 0.00</td>\n                        <td id=\"T_9c26e_row9_col6\" class=\"data row9 col6\" >R$ 5.97</td>\n                        <td id=\"T_9c26e_row9_col7\" class=\"data row9 col7\" >R$ 5.97</td>\n                        <td id=\"T_9c26e_row9_col8\" class=\"data row9 col8\" >1.18%</td>\n                        <td id=\"T_9c26e_row9_col9\" class=\"data row9 col9\" >1.18%</td>\n                        <td id=\"T_9c26e_row9_col10\" class=\"data row9 col10\" >25.34%</td>\n            </tr>\n            <tr>\n                        <th id=\"T_9c26e_level0_row10\" class=\"row_heading level0 row10\" >PRDO</th>\n                        <td id=\"T_9c26e_row10_col0\" class=\"data row10 col0\" >R$ 11.84</td>\n                        <td id=\"T_9c26e_row10_col1\" class=\"data row10 col1\" >R$ 11.66</td>\n                        <td id=\"T_9c26e_row10_col2\" class=\"data row10 col2\" >12</td>\n                        <td id=\"T_9c26e_row10_col3\" class=\"data row10 col3\" >R$ 142.06</td>\n                        <td id=\"T_9c26e_row10_col4\" class=\"data row10 col4\" >R$ 139.92</td>\n                        <td id=\"T_9c26e_row10_col5\" class=\"data row10 col5\" >R$ 0.00</td>\n                        <td id=\"T_9c26e_row10_col6\" class=\"data row10 col6\" >R$ -2.14</td>\n                        <td id=\"T_9c26e_row10_col7\" class=\"data row10 col7\" >R$ -2.14</td>\n                        <td id=\"T_9c26e_row10_col8\" class=\"data row10 col8\" >-1.51%</td>\n                        <td id=\"T_9c26e_row10_col9\" class=\"data row10 col9\" >-1.51%</td>\n                        <td id=\"T_9c26e_row10_col10\" class=\"data row10 col10\" >6.91%</td>\n            </tr>\n            <tr>\n                        <th id=\"T_9c26e_level0_row11\" class=\"row_heading level0 row11\" >TAN</th>\n                        <td id=\"T_9c26e_row11_col0\" class=\"data row11 col0\" >R$ 84.15</td>\n                        <td id=\"T_9c26e_row11_col1\" class=\"data row11 col1\" >R$ 83.15</td>\n                        <td id=\"T_9c26e_row11_col2\" class=\"data row11 col2\" >1</td>\n                        <td id=\"T_9c26e_row11_col3\" class=\"data row11 col3\" >R$ 84.15</td>\n                        <td id=\"T_9c26e_row11_col4\" class=\"data row11 col4\" >R$ 83.15</td>\n                        <td id=\"T_9c26e_row11_col5\" class=\"data row11 col5\" >R$ 0.00</td>\n                        <td id=\"T_9c26e_row11_col6\" class=\"data row11 col6\" >R$ -1.00</td>\n                        <td id=\"T_9c26e_row11_col7\" class=\"data row11 col7\" >R$ -1.00</td>\n                        <td id=\"T_9c26e_row11_col8\" class=\"data row11 col8\" >-1.18%</td>\n                        <td id=\"T_9c26e_row11_col9\" class=\"data row11 col9\" >-1.18%</td>\n                        <td id=\"T_9c26e_row11_col10\" class=\"data row11 col10\" >4.10%</td>\n            </tr>\n            <tr>\n                        <th id=\"T_9c26e_level0_row12\" class=\"row_heading level0 row12\" >TMV</th>\n                        <td id=\"T_9c26e_row12_col0\" class=\"data row12 col0\" >R$ 73.45</td>\n                        <td id=\"T_9c26e_row12_col1\" class=\"data row12 col1\" >R$ 75.32</td>\n                        <td id=\"T_9c26e_row12_col2\" class=\"data row12 col2\" >2</td>\n                        <td id=\"T_9c26e_row12_col3\" class=\"data row12 col3\" >R$ 146.90</td>\n                        <td id=\"T_9c26e_row12_col4\" class=\"data row12 col4\" >R$ 150.64</td>\n                        <td id=\"T_9c26e_row12_col5\" class=\"data row12 col5\" >R$ 0.00</td>\n                        <td id=\"T_9c26e_row12_col6\" class=\"data row12 col6\" >R$ 3.74</td>\n                        <td id=\"T_9c26e_row12_col7\" class=\"data row12 col7\" >R$ 3.74</td>\n                        <td id=\"T_9c26e_row12_col8\" class=\"data row12 col8\" >2.55%</td>\n                        <td id=\"T_9c26e_row12_col9\" class=\"data row12 col9\" >2.55%</td>\n                        <td id=\"T_9c26e_row12_col10\" class=\"data row12 col10\" >7.43%</td>\n            </tr>\n            <tr>\n                        <th id=\"T_9c26e_level0_row13\" class=\"row_heading level0 row13\" >URG</th>\n                        <td id=\"T_9c26e_row13_col0\" class=\"data row13 col0\" >R$ 1.18</td>\n                        <td id=\"T_9c26e_row13_col1\" class=\"data row13 col1\" >R$ 1.15</td>\n                        <td id=\"T_9c26e_row13_col2\" class=\"data row13 col2\" >58</td>\n                        <td id=\"T_9c26e_row13_col3\" class=\"data row13 col3\" >R$ 68.44</td>\n                        <td id=\"T_9c26e_row13_col4\" class=\"data row13 col4\" >R$ 66.70</td>\n                        <td id=\"T_9c26e_row13_col5\" class=\"data row13 col5\" >R$ 0.00</td>\n                        <td id=\"T_9c26e_row13_col6\" class=\"data row13 col6\" >R$ -1.74</td>\n                        <td id=\"T_9c26e_row13_col7\" class=\"data row13 col7\" >R$ -1.74</td>\n                        <td id=\"T_9c26e_row13_col8\" class=\"data row13 col8\" >-2.54%</td>\n                        <td id=\"T_9c26e_row13_col9\" class=\"data row13 col9\" >-2.54%</td>\n                        <td id=\"T_9c26e_row13_col10\" class=\"data row13 col10\" >3.29%</td>\n            </tr>\n            <tr>\n                        <th id=\"T_9c26e_level0_row14\" class=\"row_heading level0 row14\" >VYGR</th>\n                        <td id=\"T_9c26e_row14_col0\" class=\"data row14 col0\" >R$ 4.82</td>\n                        <td id=\"T_9c26e_row14_col1\" class=\"data row14 col1\" >R$ 4.82</td>\n                        <td id=\"T_9c26e_row14_col2\" class=\"data row14 col2\" >17</td>\n                        <td id=\"T_9c26e_row14_col3\" class=\"data row14 col3\" >R$ 81.94</td>\n                        <td id=\"T_9c26e_row14_col4\" class=\"data row14 col4\" >R$ 81.94</td>\n                        <td id=\"T_9c26e_row14_col5\" class=\"data row14 col5\" >R$ 0.00</td>\n                        <td id=\"T_9c26e_row14_col6\" class=\"data row14 col6\" >R$ 0.00</td>\n                        <td id=\"T_9c26e_row14_col7\" class=\"data row14 col7\" >R$ 0.00</td>\n                        <td id=\"T_9c26e_row14_col8\" class=\"data row14 col8\" >0.00%</td>\n                        <td id=\"T_9c26e_row14_col9\" class=\"data row14 col9\" >0.00%</td>\n                        <td id=\"T_9c26e_row14_col10\" class=\"data row14 col10\" >4.04%</td>\n            </tr>\n            <tr>\n                        <th id=\"T_9c26e_level0_row15\" class=\"row_heading level0 row15\" >VZ</th>\n                        <td id=\"T_9c26e_row15_col0\" class=\"data row15 col0\" >R$ 57.28</td>\n                        <td id=\"T_9c26e_row15_col1\" class=\"data row15 col1\" >R$ 57.79</td>\n                        <td id=\"T_9c26e_row15_col2\" class=\"data row15 col2\" >2</td>\n                        <td id=\"T_9c26e_row15_col3\" class=\"data row15 col3\" >R$ 114.57</td>\n                        <td id=\"T_9c26e_row15_col4\" class=\"data row15 col4\" >R$ 115.58</td>\n                        <td id=\"T_9c26e_row15_col5\" class=\"data row15 col5\" >R$ 0.00</td>\n                        <td id=\"T_9c26e_row15_col6\" class=\"data row15 col6\" >R$ 1.01</td>\n                        <td id=\"T_9c26e_row15_col7\" class=\"data row15 col7\" >R$ 1.01</td>\n                        <td id=\"T_9c26e_row15_col8\" class=\"data row15 col8\" >0.88%</td>\n                        <td id=\"T_9c26e_row15_col9\" class=\"data row15 col9\" >0.88%</td>\n                        <td id=\"T_9c26e_row15_col10\" class=\"data row15 col10\" >5.70%</td>\n            </tr>\n    </tbody></table>"
          },
          "metadata": {},
          "execution_count": 11
        }
      ]
    },
    {
      "cell_type": "markdown",
      "metadata": {
        "id": "Ec37SlxuAbFe"
      },
      "source": [
        "# Performance Blueprint"
      ]
    },
    {
      "cell_type": "code",
      "metadata": {
        "id": "StrFKb6vJ0mC"
      },
      "source": [
        "\n",
        "p = PerformanceBlueprint(prcReader, df, dt.datetime.today().strftime('%m-%d-%Y'))\n",
        "PerformanceViewer(p.calc()).show()\n"
      ],
      "execution_count": 12,
      "outputs": [
        {
          "output_type": "execute_result",
          "data": {
            "text/plain": [
              "<pandas.io.formats.style.Styler at 0x2253b067d88>"
            ],
            "text/html": "<style  type=\"text/css\" >\n#T_20cdc_row0_col0,#T_20cdc_row0_col1,#T_20cdc_row1_col0,#T_20cdc_row1_col1,#T_20cdc_row2_col0,#T_20cdc_row2_col1,#T_20cdc_row3_col0,#T_20cdc_row3_col1,#T_20cdc_row4_col0,#T_20cdc_row4_col1,#T_20cdc_row5_col0,#T_20cdc_row5_col1,#T_20cdc_row6_col0,#T_20cdc_row6_col1{\n            color:  green;\n        }</style><table id=\"T_20cdc_\" ><thead>    <tr>        <th class=\"blank level0\" ></th>        <th class=\"col_heading level0 col0\" >Value R$</th>        <th class=\"col_heading level0 col1\" >%C</th>    </tr>    <tr>        <th class=\"index_name level0\" >Item</th>        <th class=\"blank\" ></th>        <th class=\"blank\" ></th>    </tr></thead><tbody>\n                <tr>\n                        <th id=\"T_20cdc_level0_row0\" class=\"row_heading level0 row0\" >Equity                    </th>\n                        <td id=\"T_20cdc_row0_col0\" class=\"data row0 col0\" > 2,026.22</td>\n                        <td id=\"T_20cdc_row0_col1\" class=\"data row0 col1\" > 100.2%</td>\n            </tr>\n            <tr>\n                        <th id=\"T_20cdc_level0_row1\" class=\"row_heading level0 row1\" >Cost                        </th>\n                        <td id=\"T_20cdc_row1_col0\" class=\"data row1 col0\" > 2,022.23</td>\n                        <td id=\"T_20cdc_row1_col1\" class=\"data row1 col1\" > 100.0%</td>\n            </tr>\n            <tr>\n                        <th id=\"T_20cdc_level0_row2\" class=\"row_heading level0 row2\" >Expenses                </th>\n                        <td id=\"T_20cdc_row2_col0\" class=\"data row2 col0\" > 0.00</td>\n                        <td id=\"T_20cdc_row2_col1\" class=\"data row2 col1\" > 0.0%</td>\n            </tr>\n            <tr>\n                        <th id=\"T_20cdc_level0_row3\" class=\"row_heading level0 row3\" >Paper profit        </th>\n                        <td id=\"T_20cdc_row3_col0\" class=\"data row3 col0\" > 3.99</td>\n                        <td id=\"T_20cdc_row3_col1\" class=\"data row3 col1\" > 0.2%</td>\n            </tr>\n            <tr>\n                        <th id=\"T_20cdc_level0_row4\" class=\"row_heading level0 row4\" >Realized profit </th>\n                        <td id=\"T_20cdc_row4_col0\" class=\"data row4 col0\" > 0.00</td>\n                        <td id=\"T_20cdc_row4_col1\" class=\"data row4 col1\" > 0.0%</td>\n            </tr>\n            <tr>\n                        <th id=\"T_20cdc_level0_row5\" class=\"row_heading level0 row5\" >Dividends             </th>\n                        <td id=\"T_20cdc_row5_col0\" class=\"data row5 col0\" > 0.00</td>\n                        <td id=\"T_20cdc_row5_col1\" class=\"data row5 col1\" > 0.0%</td>\n            </tr>\n            <tr>\n                        <th id=\"T_20cdc_level0_row6\" class=\"row_heading level0 row6\" >Total Profit        </th>\n                        <td id=\"T_20cdc_row6_col0\" class=\"data row6 col0\" > 3.99</td>\n                        <td id=\"T_20cdc_row6_col1\" class=\"data row6 col1\" > 0.2%</td>\n            </tr>\n    </tbody></table>"
          },
          "metadata": {},
          "execution_count": 12
        }
      ]
    },
    {
      "cell_type": "markdown",
      "metadata": {
        "id": "NcxaN1S_zaj7"
      },
      "source": [
        "# Taxation\n"
      ]
    },
    {
      "cell_type": "code",
      "metadata": {
        "id": "3qFPDbkazhjt"
      },
      "source": [
        "profitLossDF = df.loc[df['Profit'] != 0]\n",
        "tx = Taxation(profitLossDF)"
      ],
      "execution_count": 13,
      "outputs": []
    },
    {
      "cell_type": "markdown",
      "metadata": {
        "id": "7m_kmrYShSeA"
      },
      "source": [
        "## FII"
      ]
    },
    {
      "cell_type": "markdown",
      "metadata": {
        "id": "OY2M14dSiYTU"
      },
      "source": [
        "### Swing Trade"
      ]
    },
    {
      "cell_type": "code",
      "metadata": {
        "colab": {
          "base_uri": "https://localhost:8080/"
        },
        "id": "kjtJO-cIhduj",
        "outputId": "8aa91289-2994-44d4-ae08-0c0704c2cd7c"
      },
      "source": [
        "tx.Process('FII')\n",
        "try:\n",
        "    display(tx.swingTradeTable)\n",
        "except:\n",
        "  print('Not avalilable')"
      ],
      "execution_count": 14,
      "outputs": [
        {
          "output_type": "stream",
          "name": "stdout",
          "text": [
            "Not avalilable\n"
          ]
        }
      ]
    },
    {
      "cell_type": "markdown",
      "metadata": {
        "id": "NiaTCwy5hpgc"
      },
      "source": [
        "### Day Trade"
      ]
    },
    {
      "cell_type": "code",
      "metadata": {
        "colab": {
          "base_uri": "https://localhost:8080/"
        },
        "id": "n_efkAaBhwFY",
        "outputId": "74b6dda3-3a9e-46cf-a966-df695204e089"
      },
      "source": [
        "try:\n",
        "  display(tx.dayTradeTable)\n",
        "except:\n",
        "  print('Not avalilable')"
      ],
      "execution_count": 15,
      "outputs": [
        {
          "output_type": "stream",
          "name": "stdout",
          "text": [
            "Not avalilable\n"
          ]
        }
      ]
    },
    {
      "cell_type": "markdown",
      "metadata": {
        "id": "gUdaCtO8h58x"
      },
      "source": [
        "## Stocks\n"
      ]
    },
    {
      "cell_type": "markdown",
      "metadata": {
        "id": "vsdI19Hvi_kn"
      },
      "source": [
        "### Swing Trade"
      ]
    },
    {
      "cell_type": "code",
      "metadata": {
        "colab": {
          "base_uri": "https://localhost:8080/"
        },
        "id": "IzDuPyf2h584",
        "outputId": "4c35939e-502f-4eb1-f998-c76d652417eb"
      },
      "source": [
        "tx.Process('Ação')\n",
        "try:\n",
        "    display(tx.swingTradeTable)\n",
        "except:\n",
        "  print('Not avalilable')    "
      ],
      "execution_count": 16,
      "outputs": [
        {
          "output_type": "stream",
          "name": "stdout",
          "text": [
            "Not avalilable\n"
          ]
        }
      ]
    },
    {
      "cell_type": "markdown",
      "metadata": {
        "id": "qNt2-aA9h585"
      },
      "source": [
        "### Day Trade"
      ]
    },
    {
      "cell_type": "code",
      "metadata": {
        "colab": {
          "base_uri": "https://localhost:8080/"
        },
        "id": "KEXsZSGHh585",
        "outputId": "762fa9ae-3e16-4f21-d878-dac76a69a690"
      },
      "source": [
        "try:\n",
        "  display(tx.dayTradeTable)\n",
        "except:\n",
        "  print('Not avalilable')"
      ],
      "execution_count": 17,
      "outputs": [
        {
          "output_type": "stream",
          "name": "stdout",
          "text": [
            "Not avalilable\n"
          ]
        }
      ]
    },
    {
      "cell_type": "markdown",
      "metadata": {
        "id": "OywZGJtNziLi"
      },
      "source": [
        "# Plots"
      ]
    },
    {
      "cell_type": "code",
      "metadata": {
        "colab": {
          "base_uri": "https://localhost:8080/",
          "height": 49,
          "referenced_widgets": [
            "ff68ee6394bb4e8dbcc5fadafc95af76",
            "af2994b452434b27b7037627715c3f6f",
            "5e85ed3d01304c968889d7603f1c4583"
          ]
        },
        "id": "CSfxGczBWGbd",
        "outputId": "4337f4f9-9964-42ee-9903-0ce4ef3b435f"
      },
      "source": [
        "import matplotlib.pyplot as plt\n",
        "import ipywidgets as widgets\n",
        "items = brTickers + usTickers\n",
        " \n",
        "stock_picker = widgets.Dropdown(options=items, value=items[0])\n",
        "stock_picker"
      ],
      "execution_count": 18,
      "outputs": [
        {
          "output_type": "display_data",
          "data": {
            "text/plain": "Dropdown(options=('CASH', 'CCJ', 'CSCO', 'EA', 'HOLI', 'INVA', 'LAKE', 'LI', 'LUMN', 'NEM', 'NFLX', 'PRDO', 'T…",
            "application/vnd.jupyter.widget-view+json": {
              "version_major": 2,
              "version_minor": 0,
              "model_id": "48642a2a24e34a4096f57733ded3de83"
            }
          },
          "metadata": {}
        }
      ]
    },
    {
      "cell_type": "markdown",
      "metadata": {
        "id": "dX7AaD5SxgtW"
      },
      "source": [
        "## Historical profitability"
      ]
    },
    {
      "cell_type": "code",
      "metadata": {
        "colab": {
          "base_uri": "https://localhost:8080/",
          "height": 49,
          "referenced_widgets": [
            "6662feb82b6e40f2adbaa6f6f334c797",
            "4eeeaaa50f58407a96e81673b801e3a3",
            "8b980825a2f94ec8aa3a3475e667713d"
          ]
        },
        "id": "1hEjsWTlr-G4",
        "outputId": "528f7c00-8771-4124-d9bc-fda39c67bea6"
      },
      "source": [
        "periodPicker = widgets.Dropdown(options=['1 year', '2 years', 'All'], value='1 year')\n",
        "periodPicker\n"
      ],
      "execution_count": 19,
      "outputs": [
        {
          "output_type": "display_data",
          "data": {
            "text/plain": "Dropdown(options=('1 year', '2 years', 'All'), value='1 year')",
            "application/vnd.jupyter.widget-view+json": {
              "version_major": 2,
              "version_minor": 0,
              "model_id": "e97efdb9a2fa42ee9cfa758e390d2393"
            }
          },
          "metadata": {}
        }
      ]
    },
    {
      "cell_type": "code",
      "metadata": {
        "id": "yWV_nRESxwBq",
        "colab": {
          "base_uri": "https://localhost:8080/"
        },
        "outputId": "4204945f-5ba8-4663-d4e4-3a5556fd6198"
      },
      "source": [
        "startPlot = startDate\n",
        "frequency = 'SM'\n",
        "\n",
        "if(periodPicker.value != 'All'):\n",
        "    frequency = 'W'  \n",
        "    days = int(periodPicker.value.split(' ')[0]) * 365\n",
        "    wishedStart = dt.datetime.today() - pd.Timedelta(days, unit='d')\n",
        "    if(pd.to_datetime(startPlot) < pd.to_datetime(wishedStart)):\n",
        "      startPlot = wishedStart.strftime('%Y-%m-%d')   \n",
        "    # df = df[df['DATE'] >= startPlot]    \n",
        "\n",
        "monthList = pd.date_range(start=startPlot, end=dt.datetime.today(), freq=frequency).format(formatter=lambda x: x.strftime('%Y-%m-%d'))\n",
        "monthList.append(dt.datetime.today().strftime('%Y-%m-%d'))\n",
        "performanceList = []\n",
        "for i, month in enumerate(monthList):\n",
        "  p = PerformanceBlueprint(prcReader, df, month)\n",
        "  p.calc()\n",
        "  performanceList.append([p.date, p.equity, p.cost, p.realizedProfit, p.div, p.paperProfit, p.profit, p.profitRate, p.expense, p.ibov, p.sp500])\n",
        "\n",
        "histProfDF = pd.DataFrame(performanceList, columns=['Date', 'Equity', 'Cost', 'Profit', 'Div', 'paperProfit', 'TotalProfit', '%Profit', 'Expense', '%IBOV', '%SP500'])\n",
        "histProfDF['Date'] = pd.to_datetime(histProfDF.Date, format='%Y/%m/%d')\n",
        "# if (startTimePicker.value == \"12 months\"):\n",
        "# histProfDF['%IBOV']   = histProfDF['%IBOV'] - histProfDF.iloc[0]['%IBOV']\n",
        "# histProfDF['%SP500']  = histProfDF['%SP500'] - histProfDF.iloc[0]['%SP500']\n",
        "# histProfDF['%Profit'] = histProfDF['%Profit'] - histProfDF.iloc[0]['%Profit']\n",
        "# histProfDF"
      ],
      "execution_count": 20,
      "outputs": []
    },
    {
      "cell_type": "code",
      "metadata": {
        "colab": {
          "base_uri": "https://localhost:8080/"
        },
        "id": "QW66v3CX5S2e",
        "outputId": "8bbccafd-6121-4cb3-d22b-d488d0518107"
      },
      "source": [
        "import matplotlib.ticker as mtick\n",
        "\n",
        "width = 2 if frequency == 'W' else 5     # the width of the bars: can also be len(x) sequence\n",
        "shift = pd.Timedelta(width/2, unit='d')\n",
        "fig, ax = plt.subplots(2, 1, figsize=(32, 9), sharex=True, gridspec_kw={'height_ratios': [3, 1]})\n",
        "fig.tight_layout()\n",
        "\n",
        "ax[0].plot(histProfDF.Date, histProfDF['%IBOV'], label='ibovespa')\n",
        "ax[0].plot(histProfDF.Date, histProfDF['%SP500'], label='S&P500')\n",
        "ax[0].plot(histProfDF.Date, histProfDF['%Profit'], label='Wallet')\n",
        "\n",
        "minTick = min(histProfDF['%IBOV'].min(), histProfDF['%SP500'].min(), histProfDF['%Profit'].min())\n",
        "maxTick = max(histProfDF['%IBOV'].max(), histProfDF['%SP500'].max(), histProfDF['%Profit'].max())\n",
        "\n",
        "ax[0].set_yticks(np.arange(minTick, maxTick, 0.03))\n",
        "ax[0].axhline(y=0, color='k')\n",
        "ax[0].grid(True, which='both')\n",
        "ax[0].yaxis.set_major_formatter(mtick.PercentFormatter(1))\n",
        "ax[0].legend()\n",
        "\n",
        "barsDf = histProfDF[:-1]\n",
        "# ax[1].grid(True, which='both')\n",
        "ax[1].bar(barsDf.Date - shift, barsDf['Equity'], width, label='Equity')\n",
        "ax[1].bar(barsDf.Date - shift, barsDf['Div']   , width, bottom=barsDf['Equity'], label='Div')\n",
        "ax[1].bar(barsDf.Date - shift, barsDf['Profit'], width, bottom=barsDf['Div'] + barsDf['Equity'], label='Profit')\n",
        "ax[1].bar(barsDf.Date + shift, barsDf['Cost']  , width, label='Cost')\n",
        "ax[1].legend()\n",
        "ax[1].set_ylabel('R$')\n",
        "\n",
        "plt.xticks(barsDf['Date'], rotation=90)\n",
        "plt.title('Historical profitability')\n",
        "plt.show()"
      ],
      "execution_count": 21,
      "outputs": [
        {
          "output_type": "display_data",
          "data": {
            "text/plain": "<Figure size 2304x648 with 2 Axes>",
            "image/svg+xml": "<?xml version=\"1.0\" encoding=\"utf-8\" standalone=\"no\"?>\r\n<!DOCTYPE svg PUBLIC \"-//W3C//DTD SVG 1.1//EN\"\r\n  \"http://www.w3.org/Graphics/SVG/1.1/DTD/svg11.dtd\">\r\n<svg height=\"684.915625pt\" version=\"1.1\" viewBox=\"0 0 2313.134375 684.915625\" width=\"2313.134375pt\" xmlns=\"http://www.w3.org/2000/svg\" xmlns:xlink=\"http://www.w3.org/1999/xlink\">\r\n <metadata>\r\n  <rdf:RDF xmlns:cc=\"http://creativecommons.org/ns#\" xmlns:dc=\"http://purl.org/dc/elements/1.1/\" xmlns:rdf=\"http://www.w3.org/1999/02/22-rdf-syntax-ns#\">\r\n   <cc:Work>\r\n    <dc:type rdf:resource=\"http://purl.org/dc/dcmitype/StillImage\"/>\r\n    <dc:date>2021-05-01T16:32:16.541119</dc:date>\r\n    <dc:format>image/svg+xml</dc:format>\r\n    <dc:creator>\r\n     <cc:Agent>\r\n      <dc:title>Matplotlib v3.4.1, https://matplotlib.org/</dc:title>\r\n     </cc:Agent>\r\n    </dc:creator>\r\n   </cc:Work>\r\n  </rdf:RDF>\r\n </metadata>\r\n <defs>\r\n  <style type=\"text/css\">*{stroke-linecap:butt;stroke-linejoin:round;}</style>\r\n </defs>\r\n <g id=\"figure_1\">\r\n  <g id=\"patch_1\">\r\n   <path d=\"M 0 684.915625 \r\nL 2313.134375 684.915625 \r\nL 2313.134375 0 \r\nL 0 0 \r\nz\r\n\" style=\"fill:none;\"/>\r\n  </g>\r\n  <g id=\"axes_1\">\r\n   <g id=\"patch_2\">\r\n    <path d=\"M 54.346875 445.65 \r\nL 2305.934375 445.65 \r\nL 2305.934375 7.2 \r\nL 54.346875 7.2 \r\nz\r\n\" style=\"fill:#ffffff;\"/>\r\n   </g>\r\n   <g id=\"matplotlib.axis_1\">\r\n    <g id=\"xtick_1\">\r\n     <g id=\"line2d_1\">\r\n      <path clip-path=\"url(#pc2455ef8ec)\" d=\"M 342.773373 445.65 \r\nL 342.773373 7.2 \r\n\" style=\"fill:none;stroke:#b0b0b0;stroke-linecap:square;stroke-width:0.8;\"/>\r\n     </g>\r\n     <g id=\"line2d_2\">\r\n      <defs>\r\n       <path d=\"M 0 0 \r\nL 0 3.5 \r\n\" id=\"m8deb0dfb8c\" style=\"stroke:#000000;stroke-width:0.8;\"/>\r\n      </defs>\r\n      <g>\r\n       <use style=\"stroke:#000000;stroke-width:0.8;\" x=\"342.773373\" xlink:href=\"#m8deb0dfb8c\" y=\"445.65\"/>\r\n      </g>\r\n     </g>\r\n    </g>\r\n    <g id=\"xtick_2\">\r\n     <g id=\"line2d_3\">\r\n      <path clip-path=\"url(#pc2455ef8ec)\" d=\"M 994.059013 445.65 \r\nL 994.059013 7.2 \r\n\" style=\"fill:none;stroke:#b0b0b0;stroke-linecap:square;stroke-width:0.8;\"/>\r\n     </g>\r\n     <g id=\"line2d_4\">\r\n      <g>\r\n       <use style=\"stroke:#000000;stroke-width:0.8;\" x=\"994.059013\" xlink:href=\"#m8deb0dfb8c\" y=\"445.65\"/>\r\n      </g>\r\n     </g>\r\n    </g>\r\n    <g id=\"xtick_3\">\r\n     <g id=\"line2d_5\">\r\n      <path clip-path=\"url(#pc2455ef8ec)\" d=\"M 1645.344654 445.65 \r\nL 1645.344654 7.2 \r\n\" style=\"fill:none;stroke:#b0b0b0;stroke-linecap:square;stroke-width:0.8;\"/>\r\n     </g>\r\n     <g id=\"line2d_6\">\r\n      <g>\r\n       <use style=\"stroke:#000000;stroke-width:0.8;\" x=\"1645.344654\" xlink:href=\"#m8deb0dfb8c\" y=\"445.65\"/>\r\n      </g>\r\n     </g>\r\n    </g>\r\n   </g>\r\n   <g id=\"matplotlib.axis_2\">\r\n    <g id=\"ytick_1\">\r\n     <g id=\"line2d_7\">\r\n      <path clip-path=\"url(#pc2455ef8ec)\" d=\"M 54.346875 425.720455 \r\nL 2305.934375 425.720455 \r\n\" style=\"fill:none;stroke:#b0b0b0;stroke-linecap:square;stroke-width:0.8;\"/>\r\n     </g>\r\n     <g id=\"line2d_8\">\r\n      <defs>\r\n       <path d=\"M 0 0 \r\nL -3.5 0 \r\n\" id=\"me70d6d40cb\" style=\"stroke:#000000;stroke-width:0.8;\"/>\r\n      </defs>\r\n      <g>\r\n       <use style=\"stroke:#000000;stroke-width:0.8;\" x=\"54.346875\" xlink:href=\"#me70d6d40cb\" y=\"425.720455\"/>\r\n      </g>\r\n     </g>\r\n     <g id=\"text_1\">\r\n      <!-- −1.04% -->\r\n      <g transform=\"translate(7.2 429.519673)scale(0.1 -0.1)\">\r\n       <defs>\r\n        <path d=\"M 678 2272 \r\nL 4684 2272 \r\nL 4684 1741 \r\nL 678 1741 \r\nL 678 2272 \r\nz\r\n\" id=\"DejaVuSans-2212\" transform=\"scale(0.015625)\"/>\r\n        <path d=\"M 794 531 \r\nL 1825 531 \r\nL 1825 4091 \r\nL 703 3866 \r\nL 703 4441 \r\nL 1819 4666 \r\nL 2450 4666 \r\nL 2450 531 \r\nL 3481 531 \r\nL 3481 0 \r\nL 794 0 \r\nL 794 531 \r\nz\r\n\" id=\"DejaVuSans-31\" transform=\"scale(0.015625)\"/>\r\n        <path d=\"M 684 794 \r\nL 1344 794 \r\nL 1344 0 \r\nL 684 0 \r\nL 684 794 \r\nz\r\n\" id=\"DejaVuSans-2e\" transform=\"scale(0.015625)\"/>\r\n        <path d=\"M 2034 4250 \r\nQ 1547 4250 1301 3770 \r\nQ 1056 3291 1056 2328 \r\nQ 1056 1369 1301 889 \r\nQ 1547 409 2034 409 \r\nQ 2525 409 2770 889 \r\nQ 3016 1369 3016 2328 \r\nQ 3016 3291 2770 3770 \r\nQ 2525 4250 2034 4250 \r\nz\r\nM 2034 4750 \r\nQ 2819 4750 3233 4129 \r\nQ 3647 3509 3647 2328 \r\nQ 3647 1150 3233 529 \r\nQ 2819 -91 2034 -91 \r\nQ 1250 -91 836 529 \r\nQ 422 1150 422 2328 \r\nQ 422 3509 836 4129 \r\nQ 1250 4750 2034 4750 \r\nz\r\n\" id=\"DejaVuSans-30\" transform=\"scale(0.015625)\"/>\r\n        <path d=\"M 2419 4116 \r\nL 825 1625 \r\nL 2419 1625 \r\nL 2419 4116 \r\nz\r\nM 2253 4666 \r\nL 3047 4666 \r\nL 3047 1625 \r\nL 3713 1625 \r\nL 3713 1100 \r\nL 3047 1100 \r\nL 3047 0 \r\nL 2419 0 \r\nL 2419 1100 \r\nL 313 1100 \r\nL 313 1709 \r\nL 2253 4666 \r\nz\r\n\" id=\"DejaVuSans-34\" transform=\"scale(0.015625)\"/>\r\n        <path d=\"M 4653 2053 \r\nQ 4381 2053 4226 1822 \r\nQ 4072 1591 4072 1178 \r\nQ 4072 772 4226 539 \r\nQ 4381 306 4653 306 \r\nQ 4919 306 5073 539 \r\nQ 5228 772 5228 1178 \r\nQ 5228 1588 5073 1820 \r\nQ 4919 2053 4653 2053 \r\nz\r\nM 4653 2450 \r\nQ 5147 2450 5437 2106 \r\nQ 5728 1763 5728 1178 \r\nQ 5728 594 5436 251 \r\nQ 5144 -91 4653 -91 \r\nQ 4153 -91 3862 251 \r\nQ 3572 594 3572 1178 \r\nQ 3572 1766 3864 2108 \r\nQ 4156 2450 4653 2450 \r\nz\r\nM 1428 4353 \r\nQ 1159 4353 1004 4120 \r\nQ 850 3888 850 3481 \r\nQ 850 3069 1003 2837 \r\nQ 1156 2606 1428 2606 \r\nQ 1700 2606 1854 2837 \r\nQ 2009 3069 2009 3481 \r\nQ 2009 3884 1853 4118 \r\nQ 1697 4353 1428 4353 \r\nz\r\nM 4250 4750 \r\nL 4750 4750 \r\nL 1831 -91 \r\nL 1331 -91 \r\nL 4250 4750 \r\nz\r\nM 1428 4750 \r\nQ 1922 4750 2215 4408 \r\nQ 2509 4066 2509 3481 \r\nQ 2509 2891 2217 2550 \r\nQ 1925 2209 1428 2209 \r\nQ 931 2209 642 2551 \r\nQ 353 2894 353 3481 \r\nQ 353 4063 643 4406 \r\nQ 934 4750 1428 4750 \r\nz\r\n\" id=\"DejaVuSans-25\" transform=\"scale(0.015625)\"/>\r\n       </defs>\r\n       <use xlink:href=\"#DejaVuSans-2212\"/>\r\n       <use x=\"83.789062\" xlink:href=\"#DejaVuSans-31\"/>\r\n       <use x=\"147.412109\" xlink:href=\"#DejaVuSans-2e\"/>\r\n       <use x=\"179.199219\" xlink:href=\"#DejaVuSans-30\"/>\r\n       <use x=\"242.822266\" xlink:href=\"#DejaVuSans-34\"/>\r\n       <use x=\"306.445312\" xlink:href=\"#DejaVuSans-25\"/>\r\n      </g>\r\n     </g>\r\n    </g>\r\n    <g id=\"ytick_2\">\r\n     <g id=\"line2d_9\">\r\n      <path clip-path=\"url(#pc2455ef8ec)\" d=\"M 54.346875 134.412727 \r\nL 2305.934375 134.412727 \r\n\" style=\"fill:none;stroke:#b0b0b0;stroke-linecap:square;stroke-width:0.8;\"/>\r\n     </g>\r\n     <g id=\"line2d_10\">\r\n      <g>\r\n       <use style=\"stroke:#000000;stroke-width:0.8;\" x=\"54.346875\" xlink:href=\"#me70d6d40cb\" y=\"134.412727\"/>\r\n      </g>\r\n     </g>\r\n     <g id=\"text_2\">\r\n      <!-- 1.96% -->\r\n      <g transform=\"translate(15.579688 138.211945)scale(0.1 -0.1)\">\r\n       <defs>\r\n        <path d=\"M 703 97 \r\nL 703 672 \r\nQ 941 559 1184 500 \r\nQ 1428 441 1663 441 \r\nQ 2288 441 2617 861 \r\nQ 2947 1281 2994 2138 \r\nQ 2813 1869 2534 1725 \r\nQ 2256 1581 1919 1581 \r\nQ 1219 1581 811 2004 \r\nQ 403 2428 403 3163 \r\nQ 403 3881 828 4315 \r\nQ 1253 4750 1959 4750 \r\nQ 2769 4750 3195 4129 \r\nQ 3622 3509 3622 2328 \r\nQ 3622 1225 3098 567 \r\nQ 2575 -91 1691 -91 \r\nQ 1453 -91 1209 -44 \r\nQ 966 3 703 97 \r\nz\r\nM 1959 2075 \r\nQ 2384 2075 2632 2365 \r\nQ 2881 2656 2881 3163 \r\nQ 2881 3666 2632 3958 \r\nQ 2384 4250 1959 4250 \r\nQ 1534 4250 1286 3958 \r\nQ 1038 3666 1038 3163 \r\nQ 1038 2656 1286 2365 \r\nQ 1534 2075 1959 2075 \r\nz\r\n\" id=\"DejaVuSans-39\" transform=\"scale(0.015625)\"/>\r\n        <path d=\"M 2113 2584 \r\nQ 1688 2584 1439 2293 \r\nQ 1191 2003 1191 1497 \r\nQ 1191 994 1439 701 \r\nQ 1688 409 2113 409 \r\nQ 2538 409 2786 701 \r\nQ 3034 994 3034 1497 \r\nQ 3034 2003 2786 2293 \r\nQ 2538 2584 2113 2584 \r\nz\r\nM 3366 4563 \r\nL 3366 3988 \r\nQ 3128 4100 2886 4159 \r\nQ 2644 4219 2406 4219 \r\nQ 1781 4219 1451 3797 \r\nQ 1122 3375 1075 2522 \r\nQ 1259 2794 1537 2939 \r\nQ 1816 3084 2150 3084 \r\nQ 2853 3084 3261 2657 \r\nQ 3669 2231 3669 1497 \r\nQ 3669 778 3244 343 \r\nQ 2819 -91 2113 -91 \r\nQ 1303 -91 875 529 \r\nQ 447 1150 447 2328 \r\nQ 447 3434 972 4092 \r\nQ 1497 4750 2381 4750 \r\nQ 2619 4750 2861 4703 \r\nQ 3103 4656 3366 4563 \r\nz\r\n\" id=\"DejaVuSans-36\" transform=\"scale(0.015625)\"/>\r\n       </defs>\r\n       <use xlink:href=\"#DejaVuSans-31\"/>\r\n       <use x=\"63.623047\" xlink:href=\"#DejaVuSans-2e\"/>\r\n       <use x=\"95.410156\" xlink:href=\"#DejaVuSans-39\"/>\r\n       <use x=\"159.033203\" xlink:href=\"#DejaVuSans-36\"/>\r\n       <use x=\"222.65625\" xlink:href=\"#DejaVuSans-25\"/>\r\n      </g>\r\n     </g>\r\n    </g>\r\n   </g>\r\n   <g id=\"line2d_11\">\r\n    <path clip-path=\"url(#pc2455ef8ec)\" d=\"M 342.773373 311.6998 \r\nL 994.059013 27.129545 \r\nL 1645.344654 75.3842 \r\nL 2203.589489 210.563333 \r\n\" style=\"fill:none;stroke:#1f77b4;stroke-linecap:square;stroke-width:1.5;\"/>\r\n   </g>\r\n   <g id=\"line2d_12\">\r\n    <path clip-path=\"url(#pc2455ef8ec)\" d=\"M 342.773373 203.080986 \r\nL 994.059013 68.138259 \r\nL 1645.344654 80.759237 \r\nL 2203.589489 78.378052 \r\n\" style=\"fill:none;stroke:#ff7f0e;stroke-linecap:square;stroke-width:1.5;\"/>\r\n   </g>\r\n   <g id=\"line2d_13\">\r\n    <path clip-path=\"url(#pc2455ef8ec)\" d=\"M 342.773373 425.720455 \r\nL 994.059013 407.137033 \r\nL 1645.344654 326.507816 \r\nL 2203.589489 305.110952 \r\n\" style=\"fill:none;stroke:#2ca02c;stroke-linecap:square;stroke-width:1.5;\"/>\r\n   </g>\r\n   <g id=\"line2d_14\">\r\n    <path clip-path=\"url(#pc2455ef8ec)\" d=\"M 54.346875 324.25923 \r\nL 2305.934375 324.25923 \r\n\" style=\"fill:none;stroke:#000000;stroke-linecap:square;stroke-width:1.5;\"/>\r\n   </g>\r\n   <g id=\"patch_3\">\r\n    <path d=\"M 54.346875 445.65 \r\nL 54.346875 7.2 \r\n\" style=\"fill:none;stroke:#000000;stroke-linecap:square;stroke-linejoin:miter;stroke-width:0.8;\"/>\r\n   </g>\r\n   <g id=\"patch_4\">\r\n    <path d=\"M 2305.934375 445.65 \r\nL 2305.934375 7.2 \r\n\" style=\"fill:none;stroke:#000000;stroke-linecap:square;stroke-linejoin:miter;stroke-width:0.8;\"/>\r\n   </g>\r\n   <g id=\"patch_5\">\r\n    <path d=\"M 54.346875 445.65 \r\nL 2305.934375 445.65 \r\n\" style=\"fill:none;stroke:#000000;stroke-linecap:square;stroke-linejoin:miter;stroke-width:0.8;\"/>\r\n   </g>\r\n   <g id=\"patch_6\">\r\n    <path d=\"M 54.346875 7.2 \r\nL 2305.934375 7.2 \r\n\" style=\"fill:none;stroke:#000000;stroke-linecap:square;stroke-linejoin:miter;stroke-width:0.8;\"/>\r\n   </g>\r\n   <g id=\"legend_1\">\r\n    <g id=\"patch_7\">\r\n     <path d=\"M 2221.93125 59.234375 \r\nL 2298.934375 59.234375 \r\nQ 2300.934375 59.234375 2300.934375 57.234375 \r\nL 2300.934375 14.2 \r\nQ 2300.934375 12.2 2298.934375 12.2 \r\nL 2221.93125 12.2 \r\nQ 2219.93125 12.2 2219.93125 14.2 \r\nL 2219.93125 57.234375 \r\nQ 2219.93125 59.234375 2221.93125 59.234375 \r\nz\r\n\" style=\"fill:#ffffff;opacity:0.8;stroke:#cccccc;stroke-linejoin:miter;\"/>\r\n    </g>\r\n    <g id=\"line2d_15\">\r\n     <path d=\"M 2223.93125 20.298437 \r\nL 2243.93125 20.298437 \r\n\" style=\"fill:none;stroke:#1f77b4;stroke-linecap:square;stroke-width:1.5;\"/>\r\n    </g>\r\n    <g id=\"line2d_16\"/>\r\n    <g id=\"text_3\">\r\n     <!-- ibovespa -->\r\n     <g transform=\"translate(2251.93125 23.798437)scale(0.1 -0.1)\">\r\n      <defs>\r\n       <path d=\"M 603 3500 \r\nL 1178 3500 \r\nL 1178 0 \r\nL 603 0 \r\nL 603 3500 \r\nz\r\nM 603 4863 \r\nL 1178 4863 \r\nL 1178 4134 \r\nL 603 4134 \r\nL 603 4863 \r\nz\r\n\" id=\"DejaVuSans-69\" transform=\"scale(0.015625)\"/>\r\n       <path d=\"M 3116 1747 \r\nQ 3116 2381 2855 2742 \r\nQ 2594 3103 2138 3103 \r\nQ 1681 3103 1420 2742 \r\nQ 1159 2381 1159 1747 \r\nQ 1159 1113 1420 752 \r\nQ 1681 391 2138 391 \r\nQ 2594 391 2855 752 \r\nQ 3116 1113 3116 1747 \r\nz\r\nM 1159 2969 \r\nQ 1341 3281 1617 3432 \r\nQ 1894 3584 2278 3584 \r\nQ 2916 3584 3314 3078 \r\nQ 3713 2572 3713 1747 \r\nQ 3713 922 3314 415 \r\nQ 2916 -91 2278 -91 \r\nQ 1894 -91 1617 61 \r\nQ 1341 213 1159 525 \r\nL 1159 0 \r\nL 581 0 \r\nL 581 4863 \r\nL 1159 4863 \r\nL 1159 2969 \r\nz\r\n\" id=\"DejaVuSans-62\" transform=\"scale(0.015625)\"/>\r\n       <path d=\"M 1959 3097 \r\nQ 1497 3097 1228 2736 \r\nQ 959 2375 959 1747 \r\nQ 959 1119 1226 758 \r\nQ 1494 397 1959 397 \r\nQ 2419 397 2687 759 \r\nQ 2956 1122 2956 1747 \r\nQ 2956 2369 2687 2733 \r\nQ 2419 3097 1959 3097 \r\nz\r\nM 1959 3584 \r\nQ 2709 3584 3137 3096 \r\nQ 3566 2609 3566 1747 \r\nQ 3566 888 3137 398 \r\nQ 2709 -91 1959 -91 \r\nQ 1206 -91 779 398 \r\nQ 353 888 353 1747 \r\nQ 353 2609 779 3096 \r\nQ 1206 3584 1959 3584 \r\nz\r\n\" id=\"DejaVuSans-6f\" transform=\"scale(0.015625)\"/>\r\n       <path d=\"M 191 3500 \r\nL 800 3500 \r\nL 1894 563 \r\nL 2988 3500 \r\nL 3597 3500 \r\nL 2284 0 \r\nL 1503 0 \r\nL 191 3500 \r\nz\r\n\" id=\"DejaVuSans-76\" transform=\"scale(0.015625)\"/>\r\n       <path d=\"M 3597 1894 \r\nL 3597 1613 \r\nL 953 1613 \r\nQ 991 1019 1311 708 \r\nQ 1631 397 2203 397 \r\nQ 2534 397 2845 478 \r\nQ 3156 559 3463 722 \r\nL 3463 178 \r\nQ 3153 47 2828 -22 \r\nQ 2503 -91 2169 -91 \r\nQ 1331 -91 842 396 \r\nQ 353 884 353 1716 \r\nQ 353 2575 817 3079 \r\nQ 1281 3584 2069 3584 \r\nQ 2775 3584 3186 3129 \r\nQ 3597 2675 3597 1894 \r\nz\r\nM 3022 2063 \r\nQ 3016 2534 2758 2815 \r\nQ 2500 3097 2075 3097 \r\nQ 1594 3097 1305 2825 \r\nQ 1016 2553 972 2059 \r\nL 3022 2063 \r\nz\r\n\" id=\"DejaVuSans-65\" transform=\"scale(0.015625)\"/>\r\n       <path d=\"M 2834 3397 \r\nL 2834 2853 \r\nQ 2591 2978 2328 3040 \r\nQ 2066 3103 1784 3103 \r\nQ 1356 3103 1142 2972 \r\nQ 928 2841 928 2578 \r\nQ 928 2378 1081 2264 \r\nQ 1234 2150 1697 2047 \r\nL 1894 2003 \r\nQ 2506 1872 2764 1633 \r\nQ 3022 1394 3022 966 \r\nQ 3022 478 2636 193 \r\nQ 2250 -91 1575 -91 \r\nQ 1294 -91 989 -36 \r\nQ 684 19 347 128 \r\nL 347 722 \r\nQ 666 556 975 473 \r\nQ 1284 391 1588 391 \r\nQ 1994 391 2212 530 \r\nQ 2431 669 2431 922 \r\nQ 2431 1156 2273 1281 \r\nQ 2116 1406 1581 1522 \r\nL 1381 1569 \r\nQ 847 1681 609 1914 \r\nQ 372 2147 372 2553 \r\nQ 372 3047 722 3315 \r\nQ 1072 3584 1716 3584 \r\nQ 2034 3584 2315 3537 \r\nQ 2597 3491 2834 3397 \r\nz\r\n\" id=\"DejaVuSans-73\" transform=\"scale(0.015625)\"/>\r\n       <path d=\"M 1159 525 \r\nL 1159 -1331 \r\nL 581 -1331 \r\nL 581 3500 \r\nL 1159 3500 \r\nL 1159 2969 \r\nQ 1341 3281 1617 3432 \r\nQ 1894 3584 2278 3584 \r\nQ 2916 3584 3314 3078 \r\nQ 3713 2572 3713 1747 \r\nQ 3713 922 3314 415 \r\nQ 2916 -91 2278 -91 \r\nQ 1894 -91 1617 61 \r\nQ 1341 213 1159 525 \r\nz\r\nM 3116 1747 \r\nQ 3116 2381 2855 2742 \r\nQ 2594 3103 2138 3103 \r\nQ 1681 3103 1420 2742 \r\nQ 1159 2381 1159 1747 \r\nQ 1159 1113 1420 752 \r\nQ 1681 391 2138 391 \r\nQ 2594 391 2855 752 \r\nQ 3116 1113 3116 1747 \r\nz\r\n\" id=\"DejaVuSans-70\" transform=\"scale(0.015625)\"/>\r\n       <path d=\"M 2194 1759 \r\nQ 1497 1759 1228 1600 \r\nQ 959 1441 959 1056 \r\nQ 959 750 1161 570 \r\nQ 1363 391 1709 391 \r\nQ 2188 391 2477 730 \r\nQ 2766 1069 2766 1631 \r\nL 2766 1759 \r\nL 2194 1759 \r\nz\r\nM 3341 1997 \r\nL 3341 0 \r\nL 2766 0 \r\nL 2766 531 \r\nQ 2569 213 2275 61 \r\nQ 1981 -91 1556 -91 \r\nQ 1019 -91 701 211 \r\nQ 384 513 384 1019 \r\nQ 384 1609 779 1909 \r\nQ 1175 2209 1959 2209 \r\nL 2766 2209 \r\nL 2766 2266 \r\nQ 2766 2663 2505 2880 \r\nQ 2244 3097 1772 3097 \r\nQ 1472 3097 1187 3025 \r\nQ 903 2953 641 2809 \r\nL 641 3341 \r\nQ 956 3463 1253 3523 \r\nQ 1550 3584 1831 3584 \r\nQ 2591 3584 2966 3190 \r\nQ 3341 2797 3341 1997 \r\nz\r\n\" id=\"DejaVuSans-61\" transform=\"scale(0.015625)\"/>\r\n      </defs>\r\n      <use xlink:href=\"#DejaVuSans-69\"/>\r\n      <use x=\"27.783203\" xlink:href=\"#DejaVuSans-62\"/>\r\n      <use x=\"91.259766\" xlink:href=\"#DejaVuSans-6f\"/>\r\n      <use x=\"152.441406\" xlink:href=\"#DejaVuSans-76\"/>\r\n      <use x=\"211.621094\" xlink:href=\"#DejaVuSans-65\"/>\r\n      <use x=\"273.144531\" xlink:href=\"#DejaVuSans-73\"/>\r\n      <use x=\"325.244141\" xlink:href=\"#DejaVuSans-70\"/>\r\n      <use x=\"388.720703\" xlink:href=\"#DejaVuSans-61\"/>\r\n     </g>\r\n    </g>\r\n    <g id=\"line2d_17\">\r\n     <path d=\"M 2223.93125 34.976562 \r\nL 2243.93125 34.976562 \r\n\" style=\"fill:none;stroke:#ff7f0e;stroke-linecap:square;stroke-width:1.5;\"/>\r\n    </g>\r\n    <g id=\"line2d_18\"/>\r\n    <g id=\"text_4\">\r\n     <!-- S&amp;P500 -->\r\n     <g transform=\"translate(2251.93125 38.476562)scale(0.1 -0.1)\">\r\n      <defs>\r\n       <path d=\"M 3425 4513 \r\nL 3425 3897 \r\nQ 3066 4069 2747 4153 \r\nQ 2428 4238 2131 4238 \r\nQ 1616 4238 1336 4038 \r\nQ 1056 3838 1056 3469 \r\nQ 1056 3159 1242 3001 \r\nQ 1428 2844 1947 2747 \r\nL 2328 2669 \r\nQ 3034 2534 3370 2195 \r\nQ 3706 1856 3706 1288 \r\nQ 3706 609 3251 259 \r\nQ 2797 -91 1919 -91 \r\nQ 1588 -91 1214 -16 \r\nQ 841 59 441 206 \r\nL 441 856 \r\nQ 825 641 1194 531 \r\nQ 1563 422 1919 422 \r\nQ 2459 422 2753 634 \r\nQ 3047 847 3047 1241 \r\nQ 3047 1584 2836 1778 \r\nQ 2625 1972 2144 2069 \r\nL 1759 2144 \r\nQ 1053 2284 737 2584 \r\nQ 422 2884 422 3419 \r\nQ 422 4038 858 4394 \r\nQ 1294 4750 2059 4750 \r\nQ 2388 4750 2728 4690 \r\nQ 3069 4631 3425 4513 \r\nz\r\n\" id=\"DejaVuSans-53\" transform=\"scale(0.015625)\"/>\r\n       <path d=\"M 1556 2509 \r\nQ 1272 2256 1139 2004 \r\nQ 1006 1753 1006 1478 \r\nQ 1006 1022 1337 719 \r\nQ 1669 416 2169 416 \r\nQ 2466 416 2725 514 \r\nQ 2984 613 3213 813 \r\nL 1556 2509 \r\nz\r\nM 1997 2859 \r\nL 3584 1234 \r\nQ 3769 1513 3872 1830 \r\nQ 3975 2147 3994 2503 \r\nL 4575 2503 \r\nQ 4538 2091 4375 1687 \r\nQ 4213 1284 3922 891 \r\nL 4794 0 \r\nL 4006 0 \r\nL 3559 459 \r\nQ 3234 181 2878 45 \r\nQ 2522 -91 2113 -91 \r\nQ 1359 -91 881 339 \r\nQ 403 769 403 1441 \r\nQ 403 1841 612 2192 \r\nQ 822 2544 1241 2853 \r\nQ 1091 3050 1012 3245 \r\nQ 934 3441 934 3628 \r\nQ 934 4134 1281 4442 \r\nQ 1628 4750 2203 4750 \r\nQ 2463 4750 2720 4694 \r\nQ 2978 4638 3244 4525 \r\nL 3244 3956 \r\nQ 2972 4103 2725 4179 \r\nQ 2478 4256 2266 4256 \r\nQ 1938 4256 1733 4082 \r\nQ 1528 3909 1528 3634 \r\nQ 1528 3475 1620 3314 \r\nQ 1713 3153 1997 2859 \r\nz\r\n\" id=\"DejaVuSans-26\" transform=\"scale(0.015625)\"/>\r\n       <path d=\"M 1259 4147 \r\nL 1259 2394 \r\nL 2053 2394 \r\nQ 2494 2394 2734 2622 \r\nQ 2975 2850 2975 3272 \r\nQ 2975 3691 2734 3919 \r\nQ 2494 4147 2053 4147 \r\nL 1259 4147 \r\nz\r\nM 628 4666 \r\nL 2053 4666 \r\nQ 2838 4666 3239 4311 \r\nQ 3641 3956 3641 3272 \r\nQ 3641 2581 3239 2228 \r\nQ 2838 1875 2053 1875 \r\nL 1259 1875 \r\nL 1259 0 \r\nL 628 0 \r\nL 628 4666 \r\nz\r\n\" id=\"DejaVuSans-50\" transform=\"scale(0.015625)\"/>\r\n       <path d=\"M 691 4666 \r\nL 3169 4666 \r\nL 3169 4134 \r\nL 1269 4134 \r\nL 1269 2991 \r\nQ 1406 3038 1543 3061 \r\nQ 1681 3084 1819 3084 \r\nQ 2600 3084 3056 2656 \r\nQ 3513 2228 3513 1497 \r\nQ 3513 744 3044 326 \r\nQ 2575 -91 1722 -91 \r\nQ 1428 -91 1123 -41 \r\nQ 819 9 494 109 \r\nL 494 744 \r\nQ 775 591 1075 516 \r\nQ 1375 441 1709 441 \r\nQ 2250 441 2565 725 \r\nQ 2881 1009 2881 1497 \r\nQ 2881 1984 2565 2268 \r\nQ 2250 2553 1709 2553 \r\nQ 1456 2553 1204 2497 \r\nQ 953 2441 691 2322 \r\nL 691 4666 \r\nz\r\n\" id=\"DejaVuSans-35\" transform=\"scale(0.015625)\"/>\r\n      </defs>\r\n      <use xlink:href=\"#DejaVuSans-53\"/>\r\n      <use x=\"63.476562\" xlink:href=\"#DejaVuSans-26\"/>\r\n      <use x=\"141.455078\" xlink:href=\"#DejaVuSans-50\"/>\r\n      <use x=\"201.757812\" xlink:href=\"#DejaVuSans-35\"/>\r\n      <use x=\"265.380859\" xlink:href=\"#DejaVuSans-30\"/>\r\n      <use x=\"329.003906\" xlink:href=\"#DejaVuSans-30\"/>\r\n     </g>\r\n    </g>\r\n    <g id=\"line2d_19\">\r\n     <path d=\"M 2223.93125 49.654688 \r\nL 2243.93125 49.654688 \r\n\" style=\"fill:none;stroke:#2ca02c;stroke-linecap:square;stroke-width:1.5;\"/>\r\n    </g>\r\n    <g id=\"line2d_20\"/>\r\n    <g id=\"text_5\">\r\n     <!-- Wallet -->\r\n     <g transform=\"translate(2251.93125 53.154688)scale(0.1 -0.1)\">\r\n      <defs>\r\n       <path d=\"M 213 4666 \r\nL 850 4666 \r\nL 1831 722 \r\nL 2809 4666 \r\nL 3519 4666 \r\nL 4500 722 \r\nL 5478 4666 \r\nL 6119 4666 \r\nL 4947 0 \r\nL 4153 0 \r\nL 3169 4050 \r\nL 2175 0 \r\nL 1381 0 \r\nL 213 4666 \r\nz\r\n\" id=\"DejaVuSans-57\" transform=\"scale(0.015625)\"/>\r\n       <path d=\"M 603 4863 \r\nL 1178 4863 \r\nL 1178 0 \r\nL 603 0 \r\nL 603 4863 \r\nz\r\n\" id=\"DejaVuSans-6c\" transform=\"scale(0.015625)\"/>\r\n       <path d=\"M 1172 4494 \r\nL 1172 3500 \r\nL 2356 3500 \r\nL 2356 3053 \r\nL 1172 3053 \r\nL 1172 1153 \r\nQ 1172 725 1289 603 \r\nQ 1406 481 1766 481 \r\nL 2356 481 \r\nL 2356 0 \r\nL 1766 0 \r\nQ 1100 0 847 248 \r\nQ 594 497 594 1153 \r\nL 594 3053 \r\nL 172 3053 \r\nL 172 3500 \r\nL 594 3500 \r\nL 594 4494 \r\nL 1172 4494 \r\nz\r\n\" id=\"DejaVuSans-74\" transform=\"scale(0.015625)\"/>\r\n      </defs>\r\n      <use xlink:href=\"#DejaVuSans-57\"/>\r\n      <use x=\"92.501953\" xlink:href=\"#DejaVuSans-61\"/>\r\n      <use x=\"153.78125\" xlink:href=\"#DejaVuSans-6c\"/>\r\n      <use x=\"181.564453\" xlink:href=\"#DejaVuSans-6c\"/>\r\n      <use x=\"209.347656\" xlink:href=\"#DejaVuSans-65\"/>\r\n      <use x=\"270.871094\" xlink:href=\"#DejaVuSans-74\"/>\r\n     </g>\r\n    </g>\r\n   </g>\r\n  </g>\r\n  <g id=\"axes_2\">\r\n   <g id=\"patch_8\">\r\n    <path d=\"M 54.346875 612.6 \r\nL 2305.934375 612.6 \r\nL 2305.934375 466.45 \r\nL 54.346875 466.45 \r\nz\r\n\" style=\"fill:#ffffff;\"/>\r\n   </g>\r\n   <g id=\"patch_9\">\r\n    <path clip-path=\"url(#p62c1df52b5)\" d=\"M 156.691761 612.6 \r\nL 342.773373 612.6 \r\nL 342.773373 552.90197 \r\nL 156.691761 552.90197 \r\nz\r\n\" style=\"fill:#1f77b4;\"/>\r\n   </g>\r\n   <g id=\"patch_10\">\r\n    <path clip-path=\"url(#p62c1df52b5)\" d=\"M 807.977402 612.6 \r\nL 994.059013 612.6 \r\nL 994.059013 522.836912 \r\nL 807.977402 522.836912 \r\nz\r\n\" style=\"fill:#1f77b4;\"/>\r\n   </g>\r\n   <g id=\"patch_11\">\r\n    <path clip-path=\"url(#p62c1df52b5)\" d=\"M 1459.263042 612.6 \r\nL 1645.344654 612.6 \r\nL 1645.344654 473.441756 \r\nL 1459.263042 473.441756 \r\nz\r\n\" style=\"fill:#1f77b4;\"/>\r\n   </g>\r\n   <g id=\"patch_12\">\r\n    <path clip-path=\"url(#p62c1df52b5)\" d=\"M 156.691761 552.90197 \r\nL 342.773373 552.90197 \r\nL 342.773373 552.90197 \r\nL 156.691761 552.90197 \r\nz\r\n\" style=\"fill:#ff7f0e;\"/>\r\n   </g>\r\n   <g id=\"patch_13\">\r\n    <path clip-path=\"url(#p62c1df52b5)\" d=\"M 807.977402 522.836912 \r\nL 994.059013 522.836912 \r\nL 994.059013 522.836912 \r\nL 807.977402 522.836912 \r\nz\r\n\" style=\"fill:#ff7f0e;\"/>\r\n   </g>\r\n   <g id=\"patch_14\">\r\n    <path clip-path=\"url(#p62c1df52b5)\" d=\"M 1459.263042 473.441756 \r\nL 1645.344654 473.441756 \r\nL 1645.344654 473.441756 \r\nL 1459.263042 473.441756 \r\nz\r\n\" style=\"fill:#ff7f0e;\"/>\r\n   </g>\r\n   <g id=\"patch_15\">\r\n    <path clip-path=\"url(#p62c1df52b5)\" d=\"M 156.691761 552.90197 \r\nL 342.773373 552.90197 \r\nL 342.773373 552.90197 \r\nL 156.691761 552.90197 \r\nz\r\n\" style=\"fill:#2ca02c;\"/>\r\n   </g>\r\n   <g id=\"patch_16\">\r\n    <path clip-path=\"url(#p62c1df52b5)\" d=\"M 807.977402 522.836912 \r\nL 994.059013 522.836912 \r\nL 994.059013 522.836912 \r\nL 807.977402 522.836912 \r\nz\r\n\" style=\"fill:#2ca02c;\"/>\r\n   </g>\r\n   <g id=\"patch_17\">\r\n    <path clip-path=\"url(#p62c1df52b5)\" d=\"M 1459.263042 473.441756 \r\nL 1645.344654 473.441756 \r\nL 1645.344654 473.441756 \r\nL 1459.263042 473.441756 \r\nz\r\n\" style=\"fill:#2ca02c;\"/>\r\n   </g>\r\n   <g id=\"patch_18\">\r\n    <path clip-path=\"url(#p62c1df52b5)\" d=\"M 342.773373 612.6 \r\nL 528.854985 612.6 \r\nL 528.854985 552.271606 \r\nL 342.773373 552.271606 \r\nz\r\n\" style=\"fill:#d62728;\"/>\r\n   </g>\r\n   <g id=\"patch_19\">\r\n    <path clip-path=\"url(#p62c1df52b5)\" d=\"M 994.059013 612.6 \r\nL 1180.140625 612.6 \r\nL 1180.140625 522.064182 \r\nL 994.059013 522.064182 \r\nz\r\n\" style=\"fill:#d62728;\"/>\r\n   </g>\r\n   <g id=\"patch_20\">\r\n    <path clip-path=\"url(#p62c1df52b5)\" d=\"M 1645.344654 612.6 \r\nL 1831.426265 612.6 \r\nL 1831.426265 473.409524 \r\nL 1645.344654 473.409524 \r\nz\r\n\" style=\"fill:#d62728;\"/>\r\n   </g>\r\n   <g id=\"matplotlib.axis_3\">\r\n    <g id=\"xtick_4\">\r\n     <g id=\"line2d_21\">\r\n      <g>\r\n       <use style=\"stroke:#000000;stroke-width:0.8;\" x=\"342.773373\" xlink:href=\"#m8deb0dfb8c\" y=\"612.6\"/>\r\n      </g>\r\n     </g>\r\n     <g id=\"text_6\">\r\n      <!-- 2021-04-11 -->\r\n      <g transform=\"translate(345.532748 677.715625)rotate(-90)scale(0.1 -0.1)\">\r\n       <defs>\r\n        <path d=\"M 1228 531 \r\nL 3431 531 \r\nL 3431 0 \r\nL 469 0 \r\nL 469 531 \r\nQ 828 903 1448 1529 \r\nQ 2069 2156 2228 2338 \r\nQ 2531 2678 2651 2914 \r\nQ 2772 3150 2772 3378 \r\nQ 2772 3750 2511 3984 \r\nQ 2250 4219 1831 4219 \r\nQ 1534 4219 1204 4116 \r\nQ 875 4013 500 3803 \r\nL 500 4441 \r\nQ 881 4594 1212 4672 \r\nQ 1544 4750 1819 4750 \r\nQ 2544 4750 2975 4387 \r\nQ 3406 4025 3406 3419 \r\nQ 3406 3131 3298 2873 \r\nQ 3191 2616 2906 2266 \r\nQ 2828 2175 2409 1742 \r\nQ 1991 1309 1228 531 \r\nz\r\n\" id=\"DejaVuSans-32\" transform=\"scale(0.015625)\"/>\r\n        <path d=\"M 313 2009 \r\nL 1997 2009 \r\nL 1997 1497 \r\nL 313 1497 \r\nL 313 2009 \r\nz\r\n\" id=\"DejaVuSans-2d\" transform=\"scale(0.015625)\"/>\r\n       </defs>\r\n       <use xlink:href=\"#DejaVuSans-32\"/>\r\n       <use x=\"63.623047\" xlink:href=\"#DejaVuSans-30\"/>\r\n       <use x=\"127.246094\" xlink:href=\"#DejaVuSans-32\"/>\r\n       <use x=\"190.869141\" xlink:href=\"#DejaVuSans-31\"/>\r\n       <use x=\"254.492188\" xlink:href=\"#DejaVuSans-2d\"/>\r\n       <use x=\"290.576172\" xlink:href=\"#DejaVuSans-30\"/>\r\n       <use x=\"354.199219\" xlink:href=\"#DejaVuSans-34\"/>\r\n       <use x=\"417.822266\" xlink:href=\"#DejaVuSans-2d\"/>\r\n       <use x=\"453.90625\" xlink:href=\"#DejaVuSans-31\"/>\r\n       <use x=\"517.529297\" xlink:href=\"#DejaVuSans-31\"/>\r\n      </g>\r\n     </g>\r\n    </g>\r\n    <g id=\"xtick_5\">\r\n     <g id=\"line2d_22\">\r\n      <g>\r\n       <use style=\"stroke:#000000;stroke-width:0.8;\" x=\"994.059013\" xlink:href=\"#m8deb0dfb8c\" y=\"612.6\"/>\r\n      </g>\r\n     </g>\r\n     <g id=\"text_7\">\r\n      <!-- 2021-04-18 -->\r\n      <g transform=\"translate(996.818388 677.715625)rotate(-90)scale(0.1 -0.1)\">\r\n       <defs>\r\n        <path d=\"M 2034 2216 \r\nQ 1584 2216 1326 1975 \r\nQ 1069 1734 1069 1313 \r\nQ 1069 891 1326 650 \r\nQ 1584 409 2034 409 \r\nQ 2484 409 2743 651 \r\nQ 3003 894 3003 1313 \r\nQ 3003 1734 2745 1975 \r\nQ 2488 2216 2034 2216 \r\nz\r\nM 1403 2484 \r\nQ 997 2584 770 2862 \r\nQ 544 3141 544 3541 \r\nQ 544 4100 942 4425 \r\nQ 1341 4750 2034 4750 \r\nQ 2731 4750 3128 4425 \r\nQ 3525 4100 3525 3541 \r\nQ 3525 3141 3298 2862 \r\nQ 3072 2584 2669 2484 \r\nQ 3125 2378 3379 2068 \r\nQ 3634 1759 3634 1313 \r\nQ 3634 634 3220 271 \r\nQ 2806 -91 2034 -91 \r\nQ 1263 -91 848 271 \r\nQ 434 634 434 1313 \r\nQ 434 1759 690 2068 \r\nQ 947 2378 1403 2484 \r\nz\r\nM 1172 3481 \r\nQ 1172 3119 1398 2916 \r\nQ 1625 2713 2034 2713 \r\nQ 2441 2713 2670 2916 \r\nQ 2900 3119 2900 3481 \r\nQ 2900 3844 2670 4047 \r\nQ 2441 4250 2034 4250 \r\nQ 1625 4250 1398 4047 \r\nQ 1172 3844 1172 3481 \r\nz\r\n\" id=\"DejaVuSans-38\" transform=\"scale(0.015625)\"/>\r\n       </defs>\r\n       <use xlink:href=\"#DejaVuSans-32\"/>\r\n       <use x=\"63.623047\" xlink:href=\"#DejaVuSans-30\"/>\r\n       <use x=\"127.246094\" xlink:href=\"#DejaVuSans-32\"/>\r\n       <use x=\"190.869141\" xlink:href=\"#DejaVuSans-31\"/>\r\n       <use x=\"254.492188\" xlink:href=\"#DejaVuSans-2d\"/>\r\n       <use x=\"290.576172\" xlink:href=\"#DejaVuSans-30\"/>\r\n       <use x=\"354.199219\" xlink:href=\"#DejaVuSans-34\"/>\r\n       <use x=\"417.822266\" xlink:href=\"#DejaVuSans-2d\"/>\r\n       <use x=\"453.90625\" xlink:href=\"#DejaVuSans-31\"/>\r\n       <use x=\"517.529297\" xlink:href=\"#DejaVuSans-38\"/>\r\n      </g>\r\n     </g>\r\n    </g>\r\n    <g id=\"xtick_6\">\r\n     <g id=\"line2d_23\">\r\n      <g>\r\n       <use style=\"stroke:#000000;stroke-width:0.8;\" x=\"1645.344654\" xlink:href=\"#m8deb0dfb8c\" y=\"612.6\"/>\r\n      </g>\r\n     </g>\r\n     <g id=\"text_8\">\r\n      <!-- 2021-04-25 -->\r\n      <g transform=\"translate(1648.104029 677.715625)rotate(-90)scale(0.1 -0.1)\">\r\n       <use xlink:href=\"#DejaVuSans-32\"/>\r\n       <use x=\"63.623047\" xlink:href=\"#DejaVuSans-30\"/>\r\n       <use x=\"127.246094\" xlink:href=\"#DejaVuSans-32\"/>\r\n       <use x=\"190.869141\" xlink:href=\"#DejaVuSans-31\"/>\r\n       <use x=\"254.492188\" xlink:href=\"#DejaVuSans-2d\"/>\r\n       <use x=\"290.576172\" xlink:href=\"#DejaVuSans-30\"/>\r\n       <use x=\"354.199219\" xlink:href=\"#DejaVuSans-34\"/>\r\n       <use x=\"417.822266\" xlink:href=\"#DejaVuSans-2d\"/>\r\n       <use x=\"453.90625\" xlink:href=\"#DejaVuSans-32\"/>\r\n       <use x=\"517.529297\" xlink:href=\"#DejaVuSans-35\"/>\r\n      </g>\r\n     </g>\r\n    </g>\r\n   </g>\r\n   <g id=\"matplotlib.axis_4\">\r\n    <g id=\"ytick_3\">\r\n     <g id=\"line2d_24\">\r\n      <g>\r\n       <use style=\"stroke:#000000;stroke-width:0.8;\" x=\"54.346875\" xlink:href=\"#me70d6d40cb\" y=\"612.6\"/>\r\n      </g>\r\n     </g>\r\n     <g id=\"text_9\">\r\n      <!-- 0 -->\r\n      <g transform=\"translate(40.984375 616.399219)scale(0.1 -0.1)\">\r\n       <use xlink:href=\"#DejaVuSans-30\"/>\r\n      </g>\r\n     </g>\r\n    </g>\r\n    <g id=\"ytick_4\">\r\n     <g id=\"line2d_25\">\r\n      <g>\r\n       <use style=\"stroke:#000000;stroke-width:0.8;\" x=\"54.346875\" xlink:href=\"#me70d6d40cb\" y=\"574.429904\"/>\r\n      </g>\r\n     </g>\r\n     <g id=\"text_10\">\r\n      <!-- 500 -->\r\n      <g transform=\"translate(28.259375 578.229123)scale(0.1 -0.1)\">\r\n       <use xlink:href=\"#DejaVuSans-35\"/>\r\n       <use x=\"63.623047\" xlink:href=\"#DejaVuSans-30\"/>\r\n       <use x=\"127.246094\" xlink:href=\"#DejaVuSans-30\"/>\r\n      </g>\r\n     </g>\r\n    </g>\r\n    <g id=\"ytick_5\">\r\n     <g id=\"line2d_26\">\r\n      <g>\r\n       <use style=\"stroke:#000000;stroke-width:0.8;\" x=\"54.346875\" xlink:href=\"#me70d6d40cb\" y=\"536.259808\"/>\r\n      </g>\r\n     </g>\r\n     <g id=\"text_11\">\r\n      <!-- 1000 -->\r\n      <g transform=\"translate(21.896875 540.059027)scale(0.1 -0.1)\">\r\n       <use xlink:href=\"#DejaVuSans-31\"/>\r\n       <use x=\"63.623047\" xlink:href=\"#DejaVuSans-30\"/>\r\n       <use x=\"127.246094\" xlink:href=\"#DejaVuSans-30\"/>\r\n       <use x=\"190.869141\" xlink:href=\"#DejaVuSans-30\"/>\r\n      </g>\r\n     </g>\r\n    </g>\r\n    <g id=\"ytick_6\">\r\n     <g id=\"line2d_27\">\r\n      <g>\r\n       <use style=\"stroke:#000000;stroke-width:0.8;\" x=\"54.346875\" xlink:href=\"#me70d6d40cb\" y=\"498.089712\"/>\r\n      </g>\r\n     </g>\r\n     <g id=\"text_12\">\r\n      <!-- 1500 -->\r\n      <g transform=\"translate(21.896875 501.888931)scale(0.1 -0.1)\">\r\n       <use xlink:href=\"#DejaVuSans-31\"/>\r\n       <use x=\"63.623047\" xlink:href=\"#DejaVuSans-35\"/>\r\n       <use x=\"127.246094\" xlink:href=\"#DejaVuSans-30\"/>\r\n       <use x=\"190.869141\" xlink:href=\"#DejaVuSans-30\"/>\r\n      </g>\r\n     </g>\r\n    </g>\r\n    <g id=\"text_13\">\r\n     <!-- R$ -->\r\n     <g transform=\"translate(15.817188 546.180469)rotate(-90)scale(0.1 -0.1)\">\r\n      <defs>\r\n       <path d=\"M 2841 2188 \r\nQ 3044 2119 3236 1894 \r\nQ 3428 1669 3622 1275 \r\nL 4263 0 \r\nL 3584 0 \r\nL 2988 1197 \r\nQ 2756 1666 2539 1819 \r\nQ 2322 1972 1947 1972 \r\nL 1259 1972 \r\nL 1259 0 \r\nL 628 0 \r\nL 628 4666 \r\nL 2053 4666 \r\nQ 2853 4666 3247 4331 \r\nQ 3641 3997 3641 3322 \r\nQ 3641 2881 3436 2590 \r\nQ 3231 2300 2841 2188 \r\nz\r\nM 1259 4147 \r\nL 1259 2491 \r\nL 2053 2491 \r\nQ 2509 2491 2742 2702 \r\nQ 2975 2913 2975 3322 \r\nQ 2975 3731 2742 3939 \r\nQ 2509 4147 2053 4147 \r\nL 1259 4147 \r\nz\r\n\" id=\"DejaVuSans-52\" transform=\"scale(0.015625)\"/>\r\n       <path d=\"M 2163 -941 \r\nL 1850 -941 \r\nL 1847 0 \r\nQ 1519 6 1191 76 \r\nQ 863 147 531 288 \r\nL 531 850 \r\nQ 850 650 1176 548 \r\nQ 1503 447 1850 444 \r\nL 1850 1869 \r\nQ 1159 1981 845 2250 \r\nQ 531 2519 531 2988 \r\nQ 531 3497 872 3790 \r\nQ 1213 4084 1850 4128 \r\nL 1850 4863 \r\nL 2163 4863 \r\nL 2163 4138 \r\nQ 2453 4125 2725 4076 \r\nQ 2997 4028 3256 3944 \r\nL 3256 3397 \r\nQ 2997 3528 2723 3600 \r\nQ 2450 3672 2163 3684 \r\nL 2163 2350 \r\nQ 2872 2241 3206 1959 \r\nQ 3541 1678 3541 1191 \r\nQ 3541 663 3186 358 \r\nQ 2831 53 2163 6 \r\nL 2163 -941 \r\nz\r\nM 1850 2406 \r\nL 1850 3688 \r\nQ 1488 3647 1297 3481 \r\nQ 1106 3316 1106 3041 \r\nQ 1106 2772 1282 2622 \r\nQ 1459 2472 1850 2406 \r\nz\r\nM 2163 1806 \r\nL 2163 453 \r\nQ 2559 506 2761 678 \r\nQ 2963 850 2963 1131 \r\nQ 2963 1406 2770 1568 \r\nQ 2578 1731 2163 1806 \r\nz\r\n\" id=\"DejaVuSans-24\" transform=\"scale(0.015625)\"/>\r\n      </defs>\r\n      <use xlink:href=\"#DejaVuSans-52\"/>\r\n      <use x=\"69.482422\" xlink:href=\"#DejaVuSans-24\"/>\r\n     </g>\r\n    </g>\r\n   </g>\r\n   <g id=\"patch_21\">\r\n    <path d=\"M 54.346875 612.6 \r\nL 54.346875 466.45 \r\n\" style=\"fill:none;stroke:#000000;stroke-linecap:square;stroke-linejoin:miter;stroke-width:0.8;\"/>\r\n   </g>\r\n   <g id=\"patch_22\">\r\n    <path d=\"M 2305.934375 612.6 \r\nL 2305.934375 466.45 \r\n\" style=\"fill:none;stroke:#000000;stroke-linecap:square;stroke-linejoin:miter;stroke-width:0.8;\"/>\r\n   </g>\r\n   <g id=\"patch_23\">\r\n    <path d=\"M 54.346875 612.6 \r\nL 2305.934375 612.6 \r\n\" style=\"fill:none;stroke:#000000;stroke-linecap:square;stroke-linejoin:miter;stroke-width:0.8;\"/>\r\n   </g>\r\n   <g id=\"patch_24\">\r\n    <path d=\"M 54.346875 466.45 \r\nL 2305.934375 466.45 \r\n\" style=\"fill:none;stroke:#000000;stroke-linecap:square;stroke-linejoin:miter;stroke-width:0.8;\"/>\r\n   </g>\r\n   <g id=\"text_14\">\r\n    <!-- Historical profitability -->\r\n    <g transform=\"translate(1115.79625 460.45)scale(0.12 -0.12)\">\r\n     <defs>\r\n      <path d=\"M 628 4666 \r\nL 1259 4666 \r\nL 1259 2753 \r\nL 3553 2753 \r\nL 3553 4666 \r\nL 4184 4666 \r\nL 4184 0 \r\nL 3553 0 \r\nL 3553 2222 \r\nL 1259 2222 \r\nL 1259 0 \r\nL 628 0 \r\nL 628 4666 \r\nz\r\n\" id=\"DejaVuSans-48\" transform=\"scale(0.015625)\"/>\r\n      <path d=\"M 2631 2963 \r\nQ 2534 3019 2420 3045 \r\nQ 2306 3072 2169 3072 \r\nQ 1681 3072 1420 2755 \r\nQ 1159 2438 1159 1844 \r\nL 1159 0 \r\nL 581 0 \r\nL 581 3500 \r\nL 1159 3500 \r\nL 1159 2956 \r\nQ 1341 3275 1631 3429 \r\nQ 1922 3584 2338 3584 \r\nQ 2397 3584 2469 3576 \r\nQ 2541 3569 2628 3553 \r\nL 2631 2963 \r\nz\r\n\" id=\"DejaVuSans-72\" transform=\"scale(0.015625)\"/>\r\n      <path d=\"M 3122 3366 \r\nL 3122 2828 \r\nQ 2878 2963 2633 3030 \r\nQ 2388 3097 2138 3097 \r\nQ 1578 3097 1268 2742 \r\nQ 959 2388 959 1747 \r\nQ 959 1106 1268 751 \r\nQ 1578 397 2138 397 \r\nQ 2388 397 2633 464 \r\nQ 2878 531 3122 666 \r\nL 3122 134 \r\nQ 2881 22 2623 -34 \r\nQ 2366 -91 2075 -91 \r\nQ 1284 -91 818 406 \r\nQ 353 903 353 1747 \r\nQ 353 2603 823 3093 \r\nQ 1294 3584 2113 3584 \r\nQ 2378 3584 2631 3529 \r\nQ 2884 3475 3122 3366 \r\nz\r\n\" id=\"DejaVuSans-63\" transform=\"scale(0.015625)\"/>\r\n      <path id=\"DejaVuSans-20\" transform=\"scale(0.015625)\"/>\r\n      <path d=\"M 2375 4863 \r\nL 2375 4384 \r\nL 1825 4384 \r\nQ 1516 4384 1395 4259 \r\nQ 1275 4134 1275 3809 \r\nL 1275 3500 \r\nL 2222 3500 \r\nL 2222 3053 \r\nL 1275 3053 \r\nL 1275 0 \r\nL 697 0 \r\nL 697 3053 \r\nL 147 3053 \r\nL 147 3500 \r\nL 697 3500 \r\nL 697 3744 \r\nQ 697 4328 969 4595 \r\nQ 1241 4863 1831 4863 \r\nL 2375 4863 \r\nz\r\n\" id=\"DejaVuSans-66\" transform=\"scale(0.015625)\"/>\r\n      <path d=\"M 2059 -325 \r\nQ 1816 -950 1584 -1140 \r\nQ 1353 -1331 966 -1331 \r\nL 506 -1331 \r\nL 506 -850 \r\nL 844 -850 \r\nQ 1081 -850 1212 -737 \r\nQ 1344 -625 1503 -206 \r\nL 1606 56 \r\nL 191 3500 \r\nL 800 3500 \r\nL 1894 763 \r\nL 2988 3500 \r\nL 3597 3500 \r\nL 2059 -325 \r\nz\r\n\" id=\"DejaVuSans-79\" transform=\"scale(0.015625)\"/>\r\n     </defs>\r\n     <use xlink:href=\"#DejaVuSans-48\"/>\r\n     <use x=\"75.195312\" xlink:href=\"#DejaVuSans-69\"/>\r\n     <use x=\"102.978516\" xlink:href=\"#DejaVuSans-73\"/>\r\n     <use x=\"155.078125\" xlink:href=\"#DejaVuSans-74\"/>\r\n     <use x=\"194.287109\" xlink:href=\"#DejaVuSans-6f\"/>\r\n     <use x=\"255.46875\" xlink:href=\"#DejaVuSans-72\"/>\r\n     <use x=\"296.582031\" xlink:href=\"#DejaVuSans-69\"/>\r\n     <use x=\"324.365234\" xlink:href=\"#DejaVuSans-63\"/>\r\n     <use x=\"379.345703\" xlink:href=\"#DejaVuSans-61\"/>\r\n     <use x=\"440.625\" xlink:href=\"#DejaVuSans-6c\"/>\r\n     <use x=\"468.408203\" xlink:href=\"#DejaVuSans-20\"/>\r\n     <use x=\"500.195312\" xlink:href=\"#DejaVuSans-70\"/>\r\n     <use x=\"563.671875\" xlink:href=\"#DejaVuSans-72\"/>\r\n     <use x=\"602.535156\" xlink:href=\"#DejaVuSans-6f\"/>\r\n     <use x=\"663.716797\" xlink:href=\"#DejaVuSans-66\"/>\r\n     <use x=\"698.921875\" xlink:href=\"#DejaVuSans-69\"/>\r\n     <use x=\"726.705078\" xlink:href=\"#DejaVuSans-74\"/>\r\n     <use x=\"765.914062\" xlink:href=\"#DejaVuSans-61\"/>\r\n     <use x=\"827.193359\" xlink:href=\"#DejaVuSans-62\"/>\r\n     <use x=\"890.669922\" xlink:href=\"#DejaVuSans-69\"/>\r\n     <use x=\"918.453125\" xlink:href=\"#DejaVuSans-6c\"/>\r\n     <use x=\"946.236328\" xlink:href=\"#DejaVuSans-69\"/>\r\n     <use x=\"974.019531\" xlink:href=\"#DejaVuSans-74\"/>\r\n     <use x=\"1013.228516\" xlink:href=\"#DejaVuSans-79\"/>\r\n    </g>\r\n   </g>\r\n   <g id=\"legend_2\">\r\n    <g id=\"patch_25\">\r\n     <path d=\"M 2235.3125 533.1625 \r\nL 2298.934375 533.1625 \r\nQ 2300.934375 533.1625 2300.934375 531.1625 \r\nL 2300.934375 473.45 \r\nQ 2300.934375 471.45 2298.934375 471.45 \r\nL 2235.3125 471.45 \r\nQ 2233.3125 471.45 2233.3125 473.45 \r\nL 2233.3125 531.1625 \r\nQ 2233.3125 533.1625 2235.3125 533.1625 \r\nz\r\n\" style=\"fill:#ffffff;opacity:0.8;stroke:#cccccc;stroke-linejoin:miter;\"/>\r\n    </g>\r\n    <g id=\"patch_26\">\r\n     <path d=\"M 2237.3125 483.048437 \r\nL 2257.3125 483.048437 \r\nL 2257.3125 476.048437 \r\nL 2237.3125 476.048437 \r\nz\r\n\" style=\"fill:#1f77b4;\"/>\r\n    </g>\r\n    <g id=\"text_15\">\r\n     <!-- Equity -->\r\n     <g transform=\"translate(2265.3125 483.048437)scale(0.1 -0.1)\">\r\n      <defs>\r\n       <path d=\"M 628 4666 \r\nL 3578 4666 \r\nL 3578 4134 \r\nL 1259 4134 \r\nL 1259 2753 \r\nL 3481 2753 \r\nL 3481 2222 \r\nL 1259 2222 \r\nL 1259 531 \r\nL 3634 531 \r\nL 3634 0 \r\nL 628 0 \r\nL 628 4666 \r\nz\r\n\" id=\"DejaVuSans-45\" transform=\"scale(0.015625)\"/>\r\n       <path d=\"M 947 1747 \r\nQ 947 1113 1208 752 \r\nQ 1469 391 1925 391 \r\nQ 2381 391 2643 752 \r\nQ 2906 1113 2906 1747 \r\nQ 2906 2381 2643 2742 \r\nQ 2381 3103 1925 3103 \r\nQ 1469 3103 1208 2742 \r\nQ 947 2381 947 1747 \r\nz\r\nM 2906 525 \r\nQ 2725 213 2448 61 \r\nQ 2172 -91 1784 -91 \r\nQ 1150 -91 751 415 \r\nQ 353 922 353 1747 \r\nQ 353 2572 751 3078 \r\nQ 1150 3584 1784 3584 \r\nQ 2172 3584 2448 3432 \r\nQ 2725 3281 2906 2969 \r\nL 2906 3500 \r\nL 3481 3500 \r\nL 3481 -1331 \r\nL 2906 -1331 \r\nL 2906 525 \r\nz\r\n\" id=\"DejaVuSans-71\" transform=\"scale(0.015625)\"/>\r\n       <path d=\"M 544 1381 \r\nL 544 3500 \r\nL 1119 3500 \r\nL 1119 1403 \r\nQ 1119 906 1312 657 \r\nQ 1506 409 1894 409 \r\nQ 2359 409 2629 706 \r\nQ 2900 1003 2900 1516 \r\nL 2900 3500 \r\nL 3475 3500 \r\nL 3475 0 \r\nL 2900 0 \r\nL 2900 538 \r\nQ 2691 219 2414 64 \r\nQ 2138 -91 1772 -91 \r\nQ 1169 -91 856 284 \r\nQ 544 659 544 1381 \r\nz\r\nM 1991 3584 \r\nL 1991 3584 \r\nz\r\n\" id=\"DejaVuSans-75\" transform=\"scale(0.015625)\"/>\r\n      </defs>\r\n      <use xlink:href=\"#DejaVuSans-45\"/>\r\n      <use x=\"63.183594\" xlink:href=\"#DejaVuSans-71\"/>\r\n      <use x=\"126.660156\" xlink:href=\"#DejaVuSans-75\"/>\r\n      <use x=\"190.039062\" xlink:href=\"#DejaVuSans-69\"/>\r\n      <use x=\"217.822266\" xlink:href=\"#DejaVuSans-74\"/>\r\n      <use x=\"257.03125\" xlink:href=\"#DejaVuSans-79\"/>\r\n     </g>\r\n    </g>\r\n    <g id=\"patch_27\">\r\n     <path d=\"M 2237.3125 497.726562 \r\nL 2257.3125 497.726562 \r\nL 2257.3125 490.726562 \r\nL 2237.3125 490.726562 \r\nz\r\n\" style=\"fill:#ff7f0e;\"/>\r\n    </g>\r\n    <g id=\"text_16\">\r\n     <!-- Div -->\r\n     <g transform=\"translate(2265.3125 497.726562)scale(0.1 -0.1)\">\r\n      <defs>\r\n       <path d=\"M 1259 4147 \r\nL 1259 519 \r\nL 2022 519 \r\nQ 2988 519 3436 956 \r\nQ 3884 1394 3884 2338 \r\nQ 3884 3275 3436 3711 \r\nQ 2988 4147 2022 4147 \r\nL 1259 4147 \r\nz\r\nM 628 4666 \r\nL 1925 4666 \r\nQ 3281 4666 3915 4102 \r\nQ 4550 3538 4550 2338 \r\nQ 4550 1131 3912 565 \r\nQ 3275 0 1925 0 \r\nL 628 0 \r\nL 628 4666 \r\nz\r\n\" id=\"DejaVuSans-44\" transform=\"scale(0.015625)\"/>\r\n      </defs>\r\n      <use xlink:href=\"#DejaVuSans-44\"/>\r\n      <use x=\"77.001953\" xlink:href=\"#DejaVuSans-69\"/>\r\n      <use x=\"104.785156\" xlink:href=\"#DejaVuSans-76\"/>\r\n     </g>\r\n    </g>\r\n    <g id=\"patch_28\">\r\n     <path d=\"M 2237.3125 512.404687 \r\nL 2257.3125 512.404687 \r\nL 2257.3125 505.404687 \r\nL 2237.3125 505.404687 \r\nz\r\n\" style=\"fill:#2ca02c;\"/>\r\n    </g>\r\n    <g id=\"text_17\">\r\n     <!-- Profit -->\r\n     <g transform=\"translate(2265.3125 512.404687)scale(0.1 -0.1)\">\r\n      <use xlink:href=\"#DejaVuSans-50\"/>\r\n      <use x=\"58.552734\" xlink:href=\"#DejaVuSans-72\"/>\r\n      <use x=\"97.416016\" xlink:href=\"#DejaVuSans-6f\"/>\r\n      <use x=\"158.597656\" xlink:href=\"#DejaVuSans-66\"/>\r\n      <use x=\"193.802734\" xlink:href=\"#DejaVuSans-69\"/>\r\n      <use x=\"221.585938\" xlink:href=\"#DejaVuSans-74\"/>\r\n     </g>\r\n    </g>\r\n    <g id=\"patch_29\">\r\n     <path d=\"M 2237.3125 527.082812 \r\nL 2257.3125 527.082812 \r\nL 2257.3125 520.082812 \r\nL 2237.3125 520.082812 \r\nz\r\n\" style=\"fill:#d62728;\"/>\r\n    </g>\r\n    <g id=\"text_18\">\r\n     <!-- Cost -->\r\n     <g transform=\"translate(2265.3125 527.082812)scale(0.1 -0.1)\">\r\n      <defs>\r\n       <path d=\"M 4122 4306 \r\nL 4122 3641 \r\nQ 3803 3938 3442 4084 \r\nQ 3081 4231 2675 4231 \r\nQ 1875 4231 1450 3742 \r\nQ 1025 3253 1025 2328 \r\nQ 1025 1406 1450 917 \r\nQ 1875 428 2675 428 \r\nQ 3081 428 3442 575 \r\nQ 3803 722 4122 1019 \r\nL 4122 359 \r\nQ 3791 134 3420 21 \r\nQ 3050 -91 2638 -91 \r\nQ 1578 -91 968 557 \r\nQ 359 1206 359 2328 \r\nQ 359 3453 968 4101 \r\nQ 1578 4750 2638 4750 \r\nQ 3056 4750 3426 4639 \r\nQ 3797 4528 4122 4306 \r\nz\r\n\" id=\"DejaVuSans-43\" transform=\"scale(0.015625)\"/>\r\n      </defs>\r\n      <use xlink:href=\"#DejaVuSans-43\"/>\r\n      <use x=\"69.824219\" xlink:href=\"#DejaVuSans-6f\"/>\r\n      <use x=\"131.005859\" xlink:href=\"#DejaVuSans-73\"/>\r\n      <use x=\"183.105469\" xlink:href=\"#DejaVuSans-74\"/>\r\n     </g>\r\n    </g>\r\n   </g>\r\n  </g>\r\n </g>\r\n <defs>\r\n  <clipPath id=\"pc2455ef8ec\">\r\n   <rect height=\"438.45\" width=\"2251.5875\" x=\"54.346875\" y=\"7.2\"/>\r\n  </clipPath>\r\n  <clipPath id=\"p62c1df52b5\">\r\n   <rect height=\"146.15\" width=\"2251.5875\" x=\"54.346875\" y=\"466.45\"/>\r\n  </clipPath>\r\n </defs>\r\n</svg>\r\n",
            "image/png": "[encoded data removed]"
          },
          "metadata": {
            "needs_background": "light"
          }
        }
      ]
    },
    {
      "cell_type": "markdown",
      "metadata": {
        "id": "O_uvU9c-5WZI"
      },
      "source": [
        "# Dividends by month"
      ]
    },
    {
      "cell_type": "code",
      "metadata": {
        "colab": {
          "base_uri": "https://localhost:8080/",
          "height": 452
        },
        "id": "nfKcbaVQ557f",
        "outputId": "bccf3dea-6a4f-4b92-879a-3f765a0ed8d3"
      },
      "source": [
        "m = int(dt.datetime.today().strftime(\"%m\"))\n",
        "y = int(dt.datetime.today().strftime(\"%Y\"))\n",
        "# m=3\n",
        "\n",
        "divTable = divReader.df\n",
        "prov = df[df['OPERATION'] == 'DIVIDENDS']\n",
        "\n",
        "if(not (divTable.empty & prov.empty)):\n",
        "    divTable = divTable.reset_index()\n",
        "    divTable = divTable[(divTable['Data de Pagamento'].dt.month == m) & (divTable['Data de Pagamento'].dt.year == y)]\n",
        "\n",
        "    divTable= pd.merge(divTable, prov, how='inner', on=['DATE', 'SYMBOL', 'PRICE'])\n",
        "\n",
        "    divTable = divTable[['Data de Pagamento', 'SYMBOL','Total']]\n",
        "    divTable.columns = ['DATE', 'Ativo', 'R$']\n",
        "    # divTable = divTable.groupby(['Ativo', 'DATE'])['R$'].sum().reset_index()\n",
        "    # display(divTable)\n",
        "    divTable.sort_values('DATE', inplace=True)\n",
        "    divTable['DATE'] = divTable['DATE'].apply(lambda x: x.strftime('%Y-%m-%d'))\n",
        "    divTable.loc['Total', 'R$'] = divTable['R$'].sum()\n",
        "    divTable.fillna(' ', inplace=True)\n",
        "    display(divTable)\n"
      ],
      "execution_count": 23,
      "outputs": []
    },
    {
      "cell_type": "code",
      "execution_count": 24,
      "metadata": {},
      "outputs": [],
      "source": [
        "if(not (divTable.empty & prov.empty)):\n",
        "    pvt = prov.pivot_table(index='Year', columns='Month', values='Total', margins=True, margins_name='Total', aggfunc='sum', fill_value=0)\n",
        "    sorted_m = sorted(pvt.columns[:-1], key=lambda month: dt.datetime.strptime(month, \"%B\"))\n",
        "    sorted_m.append(pvt.columns[-1])\n",
        "    display(pvt.reindex(sorted_m, axis=1))"
      ]
    },
    {
      "cell_type": "code",
      "execution_count": null,
      "metadata": {},
      "outputs": [],
      "source": []
    }
  ]
}