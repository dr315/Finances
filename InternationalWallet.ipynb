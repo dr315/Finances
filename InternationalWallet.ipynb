{
  "cells": [
    {
      "cell_type": "markdown",
      "metadata": {
        "id": "wNXPei4ShsrW"
      },
      "source": [
        "# Loading Dependencies\n",
        "---"
      ]
    },
    {
      "cell_type": "code",
      "execution_count": null,
      "metadata": {},
      "outputs": [],
      "source": [
        "import sys\n",
        "\n",
        "try:\n",
        "    from google.colab import drive\n",
        "    drive.mount('/content/gdrive')\n",
        "\n",
        "    !pip install yfinance\n",
        "    !pip install pdfplumber\n",
        "    !rm -rf github\n",
        "    !mkdir github\n",
        "    !cd github && git clone --branch InternationalWallet https://github.com/dr315/Finances.git\n",
        "    sys.path.append('/content/github/Finances')\n",
        "    \n",
        "    root = '/content/gdrive/MyDrive/'\n",
        "except:\n",
        "    root = 'd:/'\n",
        "\n",
        "import pandas as pd\n",
        "pd.options.display.float_format = '${:,.2f}'.format\n",
        "import datetime as dt\n",
        "import numpy as np\n",
        "import matplotlib.pyplot as plt\n",
        "import ipywidgets as widgets\n",
        "from FinanceTools import *\n",
        "from OrdersReader import *\n",
        "\n",
        "ReadTDStatement(root + '/Investing/Notas_TD/transactions.csv', root + '/Investing/TD.csv')\n",
        "ReadOrders(root + 'Investing/Notas_Clear', 'operations.csv', 'Clear')\n",
        "try:\n",
        "    os.mkdir('debug')\n",
        "except:\n",
        "    pass"
      ]
    },
    {
      "cell_type": "markdown",
      "metadata": {
        "id": "K_y6XnRs0VW6"
      },
      "source": [
        "# Loading and formating table\n",
        "----"
      ]
    },
    {
      "cell_type": "code",
      "execution_count": null,
      "metadata": {},
      "outputs": [],
      "source": [
        "# file_ = root + '/Investing/operations.csv'\n",
        "# df = pd.read_csv(file_)\n",
        "# df.sort_values(by=['Date', 'Type','Fee'], ascending=[True, False, True], inplace=True)\n",
        "# df.to_csv(file_, index=False)"
      ]
    },
    {
      "cell_type": "code",
      "execution_count": null,
      "metadata": {
        "colab": {
          "base_uri": "https://localhost:8080/",
          "height": 419
        },
        "id": "s8OJkwSvUxbJ",
        "outputId": "70dff551-6c15-4373-fd46-08d73efd7785"
      },
      "outputs": [],
      "source": [
        "# df = pd.read_csv(root + '/Investing/TD.csv')\n",
        "df = pd.read_csv(root + '/Investing/operations.csv')\n",
        "\n",
        "df = df.iloc[:, :7]\n",
        "df.columns=['SYMBOL','DATE', 'PRICE', 'QUANTITY', 'OPERATION', 'TYPE', 'FEE']\n",
        "\n",
        "#drop empty lines\n",
        "df=df[df['DATE'].astype(bool)].dropna()\n",
        "\n",
        "brTickers = np.sort(df[df['TYPE'].isin(['Ação'])]['SYMBOL'].unique()).tolist()\n",
        "fiiTickers = np.sort(df[df['TYPE'] == 'FII']['SYMBOL'].unique()).tolist()\n",
        "usTickers = np.sort(df[df['TYPE'].isin(['STOCK', 'REIT'])]['SYMBOL'].unique()).tolist()\n",
        "\n",
        "if(df['PRICE'].apply(type).eq(str).any()): \n",
        "    df['PRICE'] = df['PRICE'].str.replace(',', '')\n",
        "    df['PRICE'] = pd.to_numeric(df['PRICE'], errors='coerce')\n",
        "    df['QUANTITY'] = pd.to_numeric(df['QUANTITY'], errors='coerce')\n",
        "    df['FEE'] = pd.to_numeric(df['FEE'], errors='coerce')\n",
        "\n",
        "if(df['DATE'].apply(type).eq(str).any()): \n",
        "    df['DATE'] = df.DATE.str.replace('-','/')\n",
        "    df['DATE'] = pd.to_datetime(df['DATE'], format='%Y/%m/%d')\n",
        "df['Year'] = pd.DatetimeIndex(df['DATE']).year\n",
        "df['Month'] = pd.DatetimeIndex(df['DATE']).month_name()\n",
        "\n",
        "#Sort the table by date and Type and reset index numeration\n",
        "df.sort_values(by=['DATE', 'OPERATION'], ascending=[True, True], inplace=True)\n",
        "df.reset_index(drop=True, inplace=True)\n",
        "\n",
        "#turn all sell amount negative\n",
        "df.loc[df.OPERATION == 'S', ['QUANTITY']] *= -1\n",
        "\n",
        "#Get the oldest order date\n",
        "startDate = df.iloc[0]['DATE']\n",
        "\n",
        "df['AMOUNT'] = df['PRICE'] * df['QUANTITY'] \n"
      ]
    },
    {
      "cell_type": "code",
      "execution_count": null,
      "metadata": {
        "id": "q5-e6F5CNN9I",
        "tags": []
      },
      "outputs": [],
      "source": [
        "# import concurrent.futures\n",
        "import time\n",
        "import threading\n",
        "start_time = time.time()\n",
        "\n",
        "prcReader = PriceReader(brTickers + fiiTickers, usTickers, startDate)\n",
        "splReader = SplitsReader(brTickers, usTickers, startDate)\n",
        "divReader = DividendReader(brTickers, fiiTickers, usTickers, startDate)\n",
        "\n",
        "if len(usTickers) > 0:\n",
        "    divReader = YfinanceReader(None, None, usTickers, startDate)\n",
        "\n",
        "def threadExecutor(obj):\n",
        "    obj.load()\n",
        "\n",
        "threadList = []\n",
        "threadList.append(threading.Thread(target=threadExecutor, args=(prcReader,)))\n",
        "threadList.append(threading.Thread(target=threadExecutor, args=(splReader,)))\n",
        "threadList.append(threading.Thread(target=threadExecutor, args=(divReader,)))\n",
        "\n",
        "for td in threadList:\n",
        "    td.start()\n",
        "\n",
        "for td in threadList:\n",
        "    td.join()\n",
        "\n",
        "print(\"Executed in %s seconds\" % (time.time() - start_time))\n",
        "splReader.df.to_csv('debug/log_spl.tsv', sep='\\t')\n",
        "divReader.df.to_csv('debug/log_div.tsv', sep='\\t')\n",
        "prcReader.df.to_csv('debug/log_pcr.tsv', sep='\\t')"
      ]
    },
    {
      "cell_type": "code",
      "execution_count": null,
      "metadata": {
        "id": "JjQzx-oj-Ses"
      },
      "outputs": [],
      "source": [
        "dfBak = df"
      ]
    },
    {
      "cell_type": "code",
      "execution_count": null,
      "metadata": {
        "id": "ySWDeyHk2HKU"
      },
      "outputs": [],
      "source": [
        "df=dfBak\n",
        "df['acum_qty'] = 0\n",
        "df['PM'] = 0\n",
        "df['CASH'] = 0\n",
        "df['PAYDATE'] = df['DATE']\n",
        "# df[df['SYMBOL'] == 'ITUB3']\n",
        "# Clear operation costs befere 2019\n",
        "# df.FEE.update(df.apply(clear2018Cost, axis=1))"
      ]
    },
    {
      "cell_type": "markdown",
      "metadata": {
        "id": "jNvC0a3clOA-"
      },
      "source": [
        "## Accumulator"
      ]
    },
    {
      "cell_type": "code",
      "execution_count": null,
      "metadata": {
        "id": "vSSl5581cZ5-",
        "tags": []
      },
      "outputs": [],
      "source": [
        "\n",
        "for paper in (brTickers + fiiTickers + usTickers):\n",
        "  paperTable = df[df.SYMBOL == paper]\n",
        "  fromDate = paperTable.iloc[0]['DATE']  \n",
        "  toDate = dt.datetime.today().strftime('%Y-%m-%d')\n",
        "\n",
        "  divTable = divReader.getPeriod(paper,fromDate, toDate).reset_index()  \n",
        "  #TODO: Date shall be used to calculate if \n",
        "  # divTable['DATE'] = divTable['PAYDATE']\n",
        "  # divTable = divTable[['DATE', 'SYMBOL', 'PRICE']]\n",
        "\n",
        "  divTable['QUANTITY'] = 0\n",
        "  divTable['OPERATION'] = 'D'\n",
        "  divTable['TYPE'] = paperTable.iloc[0]['TYPE']\n",
        "  divTable['FEE'] = 0\n",
        "  divTable['Year'] = pd.DatetimeIndex(divTable['DATE']).year\n",
        "  divTable['Month'] = pd.DatetimeIndex(divTable['DATE']).month_name()\n",
        "  divTable['AMOUNT'] = 0\n",
        "  divTable['acum_qty'] = 0\n",
        "  divTable['CASH'] = 0\n",
        "  df = df.append(divTable)\n",
        "  \n",
        "  splitTable = splReader.getPeriod(paper,fromDate, toDate).reset_index()\n",
        "  splitTable['PRICE'] = 0\n",
        "  splitTable['OPERATION'] = 'SPLIT'\n",
        "  splitTable['TYPE'] = paperTable.iloc[0]['TYPE']\n",
        "  splitTable['FEE'] = 0\n",
        "  splitTable['Year'] = pd.DatetimeIndex(splitTable['DATE']).year\n",
        "  splitTable['Month'] = pd.DatetimeIndex(splitTable['DATE']).month_name()\n",
        "  splitTable['AMOUNT'] = 0\n",
        "  splitTable['acum_qty'] = 0\n",
        "  splitTable['CASH'] = 0 \n",
        "  splitTable['PAYDATE'] = splitTable['DATE'] \n",
        "  df = df.append(splitTable)\n",
        "\n",
        "df.sort_values(['DATE', 'OPERATION'], inplace=True)\n",
        "\n",
        "#Create obj\n",
        "ta = TableAccumulator()\n",
        "#Calc the average price and rename the columns names\n",
        "df=df.groupby(['SYMBOL']).apply(ta.ByGroup).reset_index(drop=True).dropna()\n",
        "df.sort_values(['PAYDATE', 'OPERATION'], ascending=[True, False],inplace=True)\n",
        "df=df.apply(ta.Cash, axis=1)\n",
        "# df=df.sort_values(['DATE', 'OPERATION']).reset_index(drop=True)"
      ]
    },
    {
      "cell_type": "code",
      "execution_count": null,
      "metadata": {
        "colab": {
          "base_uri": "https://localhost:8080/"
        },
        "id": "s_oSPuCBEjuJ",
        "outputId": "9beb7aa3-84fc-4ade-f503-a2937f77e36e"
      },
      "outputs": [],
      "source": [
        "# df[df.SYMBOL.str.contains('CASH')]\n",
        "df.to_csv('debug/df_log.tsv', sep='\\t')"
      ]
    },
    {
      "cell_type": "markdown",
      "metadata": {
        "id": "wkJziCIHzOC7"
      },
      "source": [
        "# Realized Profit\n"
      ]
    },
    {
      "cell_type": "markdown",
      "metadata": {
        "id": "nUP3tx_nUoL0"
      },
      "source": [
        "## Processing"
      ]
    },
    {
      "cell_type": "code",
      "execution_count": null,
      "metadata": {
        "id": "K0eAug1DHHIm"
      },
      "outputs": [],
      "source": [
        "def CalcProfit(dtf):\n",
        "    profit = Profit()\n",
        "    dtf.sort_values(by=['DATE', 'OPERATION'], ascending=[True, True], inplace=True)\n",
        "    dtf.reset_index(drop=True)\n",
        "    return dtf.groupby(['SYMBOL', 'DATE']).apply(profit.Trade).reset_index(drop=True)\n"
      ]
    },
    {
      "cell_type": "code",
      "execution_count": null,
      "metadata": {
        "colab": {
          "base_uri": "https://localhost:8080/"
        },
        "id": "pnW0F7d2U3VL",
        "outputId": "83ec4b5b-28f7-40c2-fe3b-75312feca274"
      },
      "outputs": [],
      "source": [
        "df = CalcProfit(df)\n",
        "rl = df[df.OPERATION == 'S'][['DATE', 'SYMBOL', 'TYPE', 'Profit',\t'DayTrade']]\n",
        "rl['DATE'] = rl['DATE'].apply(lambda x: x.strftime('%Y-%m-%d'))\n",
        "rl1 = rl\n",
        "rl1.loc['Total', 'Profit'] = rl['Profit'].sum()\n",
        "rl1 = rl1.fillna(' ')\n",
        "rl1.style.applymap(color_negative_red, subset=['Profit']).format( {'Profit': '$ {:,.2f}', 'DayTrade': '{}'})\n"
      ]
    },
    {
      "cell_type": "code",
      "execution_count": null,
      "metadata": {},
      "outputs": [],
      "source": [
        "rl = rl.groupby('SYMBOL').Profit.sum().reset_index()\n",
        "rl.loc['Total', 'Profit'] = rl['Profit'].sum()\n",
        "rl = rl.fillna(' ')\n",
        "rl.style.applymap(color_negative_red, subset=['Profit']).format( {'Profit': '$ {:,.2f}'})\n"
      ]
    },
    {
      "cell_type": "markdown",
      "metadata": {
        "id": "OBRcPuk1NCV1"
      },
      "source": [
        "# Portifolio\n"
      ]
    },
    {
      "cell_type": "code",
      "execution_count": null,
      "metadata": {
        "colab": {
          "base_uri": "https://localhost:8080/"
        },
        "id": "feMVFkd35mqB",
        "outputId": "00ecd66b-543e-4e70-f885-a8cacf79c9e7"
      },
      "outputs": [],
      "source": [
        "Portifolio(prcReader,df).show()"
      ]
    },
    {
      "cell_type": "markdown",
      "metadata": {
        "id": "Ec37SlxuAbFe"
      },
      "source": [
        "# Performance Blueprint"
      ]
    },
    {
      "cell_type": "code",
      "execution_count": null,
      "metadata": {
        "id": "StrFKb6vJ0mC"
      },
      "outputs": [],
      "source": [
        "\n",
        "p = PerformanceBlueprint(prcReader, df, dt.datetime.today().strftime('%m-%d-%Y'))\n",
        "PerformanceViewer(p.calc()).show()\n"
      ]
    },
    {
      "cell_type": "markdown",
      "metadata": {
        "id": "NcxaN1S_zaj7"
      },
      "source": [
        "# Taxation\n"
      ]
    },
    {
      "cell_type": "code",
      "execution_count": null,
      "metadata": {
        "id": "3qFPDbkazhjt"
      },
      "outputs": [],
      "source": [
        "profitLossDF = df.loc[df['Profit'] != 0]\n",
        "tx = Taxation(profitLossDF)"
      ]
    },
    {
      "cell_type": "markdown",
      "metadata": {
        "id": "7m_kmrYShSeA"
      },
      "source": [
        "## FII"
      ]
    },
    {
      "cell_type": "markdown",
      "metadata": {
        "id": "OY2M14dSiYTU"
      },
      "source": [
        "### Swing Trade"
      ]
    },
    {
      "cell_type": "code",
      "execution_count": null,
      "metadata": {
        "colab": {
          "base_uri": "https://localhost:8080/"
        },
        "id": "kjtJO-cIhduj",
        "outputId": "8aa91289-2994-44d4-ae08-0c0704c2cd7c"
      },
      "outputs": [],
      "source": [
        "tx.Process('FII')\n",
        "try:\n",
        "    display(tx.swingTradeTable)\n",
        "except:\n",
        "  print('Not avalilable')"
      ]
    },
    {
      "cell_type": "markdown",
      "metadata": {
        "id": "NiaTCwy5hpgc"
      },
      "source": [
        "### Day Trade"
      ]
    },
    {
      "cell_type": "code",
      "execution_count": null,
      "metadata": {
        "colab": {
          "base_uri": "https://localhost:8080/"
        },
        "id": "n_efkAaBhwFY",
        "outputId": "74b6dda3-3a9e-46cf-a966-df695204e089"
      },
      "outputs": [],
      "source": [
        "try:\n",
        "  display(tx.dayTradeTable)\n",
        "except:\n",
        "  print('Not avalilable')"
      ]
    },
    {
      "cell_type": "markdown",
      "metadata": {
        "id": "gUdaCtO8h58x"
      },
      "source": [
        "## Stocks\n"
      ]
    },
    {
      "cell_type": "markdown",
      "metadata": {
        "id": "vsdI19Hvi_kn"
      },
      "source": [
        "### Swing Trade"
      ]
    },
    {
      "cell_type": "code",
      "execution_count": null,
      "metadata": {
        "colab": {
          "base_uri": "https://localhost:8080/"
        },
        "id": "IzDuPyf2h584",
        "outputId": "4c35939e-502f-4eb1-f998-c76d652417eb"
      },
      "outputs": [],
      "source": [
        "tx.Process('Ação')\n",
        "try:\n",
        "    display(tx.swingTradeTable)\n",
        "except:\n",
        "  print('Not avalilable')    "
      ]
    },
    {
      "cell_type": "markdown",
      "metadata": {
        "id": "qNt2-aA9h585"
      },
      "source": [
        "### Day Trade"
      ]
    },
    {
      "cell_type": "code",
      "execution_count": null,
      "metadata": {
        "colab": {
          "base_uri": "https://localhost:8080/"
        },
        "id": "KEXsZSGHh585",
        "outputId": "762fa9ae-3e16-4f21-d878-dac76a69a690"
      },
      "outputs": [],
      "source": [
        "try:\n",
        "  display(tx.dayTradeTable)\n",
        "except:\n",
        "  print('Not avalilable')"
      ]
    },
    {
      "cell_type": "markdown",
      "metadata": {
        "id": "OywZGJtNziLi"
      },
      "source": [
        "# Plots"
      ]
    },
    {
      "cell_type": "markdown",
      "metadata": {
        "id": "dX7AaD5SxgtW"
      },
      "source": [
        "## Historical profitability"
      ]
    },
    {
      "cell_type": "code",
      "execution_count": null,
      "metadata": {
        "colab": {
          "base_uri": "https://localhost:8080/",
          "height": 49,
          "referenced_widgets": [
            "6662feb82b6e40f2adbaa6f6f334c797",
            "4eeeaaa50f58407a96e81673b801e3a3",
            "8b980825a2f94ec8aa3a3475e667713d"
          ]
        },
        "id": "1hEjsWTlr-G4",
        "outputId": "528f7c00-8771-4124-d9bc-fda39c67bea6"
      },
      "outputs": [],
      "source": [
        "import matplotlib.pyplot as plt\n",
        "import ipywidgets as widgets\n",
        "periodPicker = widgets.Dropdown(options=['1 year', '2 years', 'All'], value='1 year')\n",
        "periodPicker\n"
      ]
    },
    {
      "cell_type": "code",
      "execution_count": null,
      "metadata": {
        "colab": {
          "base_uri": "https://localhost:8080/"
        },
        "id": "yWV_nRESxwBq",
        "outputId": "4204945f-5ba8-4663-d4e4-3a5556fd6198"
      },
      "outputs": [],
      "source": [
        "startPlot = startDate\n",
        "frequency = 'SM'\n",
        "\n",
        "if(periodPicker.value != 'All'):\n",
        "    frequency = 'W'  \n",
        "    days = int(periodPicker.value.split(' ')[0]) * 365\n",
        "    wishedStart = dt.datetime.today() - pd.Timedelta(days, unit='d')\n",
        "    if(pd.to_datetime(startPlot) < pd.to_datetime(wishedStart)):\n",
        "      startPlot = wishedStart.strftime('%Y-%m-%d')   \n",
        "    # df = df[df['DATE'] >= startPlot]    \n",
        "\n",
        "monthList = pd.date_range(start=startPlot, end=dt.datetime.today(), freq=frequency).format(formatter=lambda x: x.strftime('%Y-%m-%d'))\n",
        "monthList.append(dt.datetime.today().strftime('%Y-%m-%d'))\n",
        "performanceList = []\n",
        "for i, month in enumerate(monthList):\n",
        "  p = PerformanceBlueprint(prcReader, df, month)\n",
        "  p.calc()\n",
        "  performanceList.append([p.date, p.equity, p.cost, p.realizedProfit, p.div, p.paperProfit, p.profit, p.profitRate, p.expense, p.ibov, p.sp500])\n",
        "\n",
        "histProfDF = pd.DataFrame(performanceList, columns=['Date', 'Equity', 'Cost', 'Profit', 'Div', 'paperProfit', 'TotalProfit', '%Profit', 'Expense', '%IBOV', '%SP500'])\n",
        "histProfDF['Date'] = pd.to_datetime(histProfDF.Date, format='%Y/%m/%d')\n",
        "# if (startTimePicker.value == \"12 months\"):\n",
        "histProfDF['%IBOV']   = histProfDF['%IBOV'] - histProfDF.iloc[0]['%IBOV']\n",
        "histProfDF['%SP500']  = histProfDF['%SP500'] - histProfDF.iloc[0]['%SP500']\n",
        "histProfDF['%Profit'] = histProfDF['%Profit'] - histProfDF.iloc[0]['%Profit']\n",
        "# histProfDF"
      ]
    },
    {
      "cell_type": "code",
      "execution_count": null,
      "metadata": {
        "colab": {
          "base_uri": "https://localhost:8080/"
        },
        "id": "QW66v3CX5S2e",
        "outputId": "8bbccafd-6121-4cb3-d22b-d488d0518107"
      },
      "outputs": [],
      "source": [
        "import matplotlib.ticker as mtick\n",
        "\n",
        "width = 2 if frequency == 'W' else 5     # the width of the bars: can also be len(x) sequence\n",
        "shift = pd.Timedelta(width/2, unit='d')\n",
        "fig, ax = plt.subplots(2, 1, figsize=(32, 9), sharex=True, gridspec_kw={'height_ratios': [3, 1]})\n",
        "fig.tight_layout()\n",
        "\n",
        "ax[0].plot(histProfDF.Date, histProfDF['%IBOV'], label='ibovespa')\n",
        "ax[0].plot(histProfDF.Date, histProfDF['%SP500'], label='S&P500')\n",
        "ax[0].plot(histProfDF.Date, histProfDF['%Profit'], label='Wallet')\n",
        "\n",
        "minTick = min(histProfDF['%IBOV'].min(), histProfDF['%SP500'].min(), histProfDF['%Profit'].min())\n",
        "maxTick = max(histProfDF['%IBOV'].max(), histProfDF['%SP500'].max(), histProfDF['%Profit'].max())\n",
        "\n",
        "ax[0].set_yticks(np.arange(minTick, maxTick, 0.03))\n",
        "ax[0].axhline(y=0, color='k')\n",
        "ax[0].grid(True, which='both')\n",
        "ax[0].yaxis.set_major_formatter(mtick.PercentFormatter(1))\n",
        "ax[0].legend()\n",
        "\n",
        "barsDf = histProfDF[:-1]\n",
        "# ax[1].grid(True, which='both')\n",
        "ax[1].bar(barsDf.Date - shift, barsDf['Equity'], width, label='Equity')\n",
        "ax[1].bar(barsDf.Date - shift, barsDf['Div']   , width, bottom=barsDf['Equity'], label='Div')\n",
        "ax[1].bar(barsDf.Date - shift, barsDf['Profit'], width, bottom=barsDf['Div'] + barsDf['Equity'], label='Profit')\n",
        "ax[1].bar(barsDf.Date + shift, barsDf['Cost']  , width, label='Cost')\n",
        "ax[1].legend()\n",
        "ax[1].set_ylabel('R$')\n",
        "\n",
        "plt.xticks(barsDf['Date'], rotation=90)\n",
        "plt.title('Historical profitability')\n",
        "plt.show()"
      ]
    },
    {
      "cell_type": "markdown",
      "metadata": {
        "id": "O_uvU9c-5WZI"
      },
      "source": [
        "# Dividends by month"
      ]
    },
    {
      "cell_type": "code",
      "execution_count": null,
      "metadata": {
        "colab": {
          "base_uri": "https://localhost:8080/",
          "height": 452
        },
        "id": "nfKcbaVQ557f",
        "outputId": "bccf3dea-6a4f-4b92-879a-3f765a0ed8d3"
      },
      "outputs": [],
      "source": [
        "m = int(dt.datetime.today().strftime(\"%m\"))\n",
        "y = int(dt.datetime.today().strftime(\"%Y\"))\n",
        "# m=9\n",
        "\n",
        "divTable = divReader.df\n",
        "prov = df[df['OPERATION'] == 'D']\n",
        "\n",
        "if(not (divTable.empty & prov.empty)):\n",
        "    divTable = divTable.reset_index()\n",
        "    divTable = divTable[(divTable['PAYDATE'].dt.month == m) & (divTable['PAYDATE'].dt.year == y)]\n",
        "\n",
        "    divTable= pd.merge(divTable, prov, how='inner', on=['PAYDATE', 'DATE', 'SYMBOL', 'PRICE'])\n",
        "        \n",
        "    divTable = divTable[['PAYDATE', 'SYMBOL','AMOUNT']]\n",
        "    divTable.columns = ['DATE', 'PAYDATE', 'R$']\n",
        "    # divTable = divTable.groupby(['Ativo', 'DATE'])['R$'].sum().reset_index()\n",
        "    # display(divTable)\n",
        "    divTable.sort_values('DATE', inplace=True)\n",
        "    divTable['DATE'] = divTable['DATE'].apply(lambda x: x.strftime('%Y-%m-%d'))\n",
        "    divTable.loc['Total', 'R$'] = divTable['R$'].sum()\n",
        "    divTable.fillna(' ', inplace=True)\n",
        "    display(divTable)"
      ]
    },
    {
      "cell_type": "code",
      "execution_count": null,
      "metadata": {},
      "outputs": [],
      "source": [
        "if(not (divTable.empty & prov.empty)):\n",
        "    pvt = prov.pivot_table(index='Year', columns='Month', values='AMOUNT', margins=True, margins_name='Total', aggfunc='sum', fill_value=0)\n",
        "    sorted_m = sorted(pvt.columns[:-1], key=lambda month: dt.datetime.strptime(month, \"%B\"))\n",
        "    sorted_m.append(pvt.columns[-1])\n",
        "    display(pvt.reindex(sorted_m, axis=1))"
      ]
    },
    {
      "cell_type": "code",
      "execution_count": null,
      "metadata": {},
      "outputs": [],
      "source": [
        "df[df['SYMBOL'].isin(['SPTW11'])]"
      ]
    }
  ],
  "metadata": {
    "colab": {
      "collapsed_sections": [],
      "name": "Finances_V3",
      "provenance": []
    },
    "interpreter": {
      "hash": "effde2c6f5fb70fa9b8dc97f83340c31a67dd17fa1ebb4d68b025d976f8e82d1"
    },
    "kernelspec": {
      "display_name": "Python 3.7.4 64-bit",
      "name": "python3"
    },
    "language_info": {
      "codemirror_mode": {
        "name": "ipython",
        "version": 3
      },
      "file_extension": ".py",
      "mimetype": "text/x-python",
      "name": "python",
      "nbconvert_exporter": "python",
      "pygments_lexer": "ipython3",
      "version": "3.7.4"
    },
    "metadata": {
      "interpreter": {
        "hash": "effde2c6f5fb70fa9b8dc97f83340c31a67dd17fa1ebb4d68b025d976f8e82d1"
      }
    },
    "widgets": {
      "application/vnd.jupyter.widget-state+json": {
        "4eeeaaa50f58407a96e81673b801e3a3": {
          "model_module": "@jupyter-widgets/controls",
          "model_name": "DescriptionStyleModel",
          "state": {
            "_model_module": "@jupyter-widgets/controls",
            "_model_module_version": "1.5.0",
            "_model_name": "DescriptionStyleModel",
            "_view_count": null,
            "_view_module": "@jupyter-widgets/base",
            "_view_module_version": "1.2.0",
            "_view_name": "StyleView",
            "description_width": ""
          }
        },
        "5e85ed3d01304c968889d7603f1c4583": {
          "model_module": "@jupyter-widgets/base",
          "model_name": "LayoutModel",
          "state": {
            "_model_module": "@jupyter-widgets/base",
            "_model_module_version": "1.2.0",
            "_model_name": "LayoutModel",
            "_view_count": null,
            "_view_module": "@jupyter-widgets/base",
            "_view_module_version": "1.2.0",
            "_view_name": "LayoutView",
            "align_content": null,
            "align_items": null,
            "align_self": null,
            "border": null,
            "bottom": null,
            "display": null,
            "flex": null,
            "flex_flow": null,
            "grid_area": null,
            "grid_auto_columns": null,
            "grid_auto_flow": null,
            "grid_auto_rows": null,
            "grid_column": null,
            "grid_gap": null,
            "grid_row": null,
            "grid_template_areas": null,
            "grid_template_columns": null,
            "grid_template_rows": null,
            "height": null,
            "justify_content": null,
            "justify_items": null,
            "left": null,
            "margin": null,
            "max_height": null,
            "max_width": null,
            "min_height": null,
            "min_width": null,
            "object_fit": null,
            "object_position": null,
            "order": null,
            "overflow": null,
            "overflow_x": null,
            "overflow_y": null,
            "padding": null,
            "right": null,
            "top": null,
            "visibility": null,
            "width": null
          }
        },
        "6662feb82b6e40f2adbaa6f6f334c797": {
          "model_module": "@jupyter-widgets/controls",
          "model_name": "DropdownModel",
          "state": {
            "_dom_classes": [],
            "_model_module": "@jupyter-widgets/controls",
            "_model_module_version": "1.5.0",
            "_model_name": "DropdownModel",
            "_options_labels": [
              "All",
              "12 months"
            ],
            "_view_count": null,
            "_view_module": "@jupyter-widgets/controls",
            "_view_module_version": "1.5.0",
            "_view_name": "DropdownView",
            "description": "",
            "description_tooltip": null,
            "disabled": false,
            "index": 0,
            "layout": "IPY_MODEL_8b980825a2f94ec8aa3a3475e667713d",
            "style": "IPY_MODEL_4eeeaaa50f58407a96e81673b801e3a3"
          }
        },
        "8b980825a2f94ec8aa3a3475e667713d": {
          "model_module": "@jupyter-widgets/base",
          "model_name": "LayoutModel",
          "state": {
            "_model_module": "@jupyter-widgets/base",
            "_model_module_version": "1.2.0",
            "_model_name": "LayoutModel",
            "_view_count": null,
            "_view_module": "@jupyter-widgets/base",
            "_view_module_version": "1.2.0",
            "_view_name": "LayoutView",
            "align_content": null,
            "align_items": null,
            "align_self": null,
            "border": null,
            "bottom": null,
            "display": null,
            "flex": null,
            "flex_flow": null,
            "grid_area": null,
            "grid_auto_columns": null,
            "grid_auto_flow": null,
            "grid_auto_rows": null,
            "grid_column": null,
            "grid_gap": null,
            "grid_row": null,
            "grid_template_areas": null,
            "grid_template_columns": null,
            "grid_template_rows": null,
            "height": null,
            "justify_content": null,
            "justify_items": null,
            "left": null,
            "margin": null,
            "max_height": null,
            "max_width": null,
            "min_height": null,
            "min_width": null,
            "object_fit": null,
            "object_position": null,
            "order": null,
            "overflow": null,
            "overflow_x": null,
            "overflow_y": null,
            "padding": null,
            "right": null,
            "top": null,
            "visibility": null,
            "width": null
          }
        },
        "af2994b452434b27b7037627715c3f6f": {
          "model_module": "@jupyter-widgets/controls",
          "model_name": "DescriptionStyleModel",
          "state": {
            "_model_module": "@jupyter-widgets/controls",
            "_model_module_version": "1.5.0",
            "_model_name": "DescriptionStyleModel",
            "_view_count": null,
            "_view_module": "@jupyter-widgets/base",
            "_view_module_version": "1.2.0",
            "_view_name": "StyleView",
            "description_width": ""
          }
        },
        "ff68ee6394bb4e8dbcc5fadafc95af76": {
          "model_module": "@jupyter-widgets/controls",
          "model_name": "DropdownModel",
          "state": {
            "_dom_classes": [],
            "_model_module": "@jupyter-widgets/controls",
            "_model_module_version": "1.5.0",
            "_model_name": "DropdownModel",
            "_options_labels": [
              "ABEV3",
              "BBDC3",
              "BBFI11B",
              "BMEB4",
              "CIEL3",
              "CNTO3",
              "COGN3",
              "ECOR3",
              "EGIE3",
              "EZTC3",
              "FAMB11B",
              "FIGS11",
              "FLRY3",
              "GRND3",
              "GTWR11",
              "HGTX3",
              "HTMX11",
              "ITUB3",
              "KLBN11",
              "MDIA3",
              "MFII11",
              "MOVI3",
              "MXRF11",
              "PETR4",
              "PSSA3",
              "SMLS3",
              "SPTW11",
              "TRIS3",
              "VISC11",
              "VVAR3",
              "WEGE3",
              "XPCM11",
              "XPLG11",
              "XPML11"
            ],
            "_view_count": null,
            "_view_module": "@jupyter-widgets/controls",
            "_view_module_version": "1.5.0",
            "_view_name": "DropdownView",
            "description": "",
            "description_tooltip": null,
            "disabled": false,
            "index": 0,
            "layout": "IPY_MODEL_5e85ed3d01304c968889d7603f1c4583",
            "style": "IPY_MODEL_af2994b452434b27b7037627715c3f6f"
          }
        }
      }
    }
  },
  "nbformat": 4,
  "nbformat_minor": 2
}
