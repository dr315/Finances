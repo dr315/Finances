{
  "nbformat": 4,
  "nbformat_minor": 0,
  "metadata": {
    "colab": {
      "name": "LoadOrders.ipynb",
      "provenance": [],
      "collapsed_sections": []
    },
    "kernelspec": {
      "name": "python374jvsc74a57bd0effde2c6f5fb70fa9b8dc97f83340c31a67dd17fa1ebb4d68b025d976f8e82d1",
      "display_name": "Python 3.7.4 64-bit"
    },
    "language_info": {
      "name": "python",
      "version": "3.7.4-final"
    },
    "metadata": {
      "interpreter": {
        "hash": "effde2c6f5fb70fa9b8dc97f83340c31a67dd17fa1ebb4d68b025d976f8e82d1"
      }
    }
  },
  "cells": [
    {
      "cell_type": "code",
      "metadata": {
        "colab": {
          "base_uri": "https://localhost:8080/"
        },
        "id": "wpSiqS9ob17Y",
        "outputId": "50e84b2f-ca98-4b1f-8ae9-fda64fb66f51"
      },
      "source": [
        "import os\n",
        "import pandas as pd \n",
        "pd.options.display.float_format = '${:,.2f}'.format \n",
        "\n",
        "try:\n",
        "    from google.colab import drive\n",
        "    !pip install pdfplumber\n",
        "    !pip install yfinance\n",
        "    root = '/drive/MyDrive'\n",
        "    drive.mount('/content/drive')\n",
        "    !rm -rf github\n",
        "    !mkdir github\n",
        "    !cd github && git clone https://github.com/dr315/Finances.git\n",
        "    %run github/Finances/FinanceTools\n",
        "except:\n",
        "    root = 'd:'\n",
        "    %run FinanceTools\n"
      ],
      "execution_count": 7,
      "outputs": []
    },
    {
      "cell_type": "code",
      "metadata": {
        "id": "QbbYexaGuVFW"
      },
      "source": [
        "companyMap = CompanyListReader().dtFrame\n",
        "companyMap.to_csv(root+'/Investing/map.csv')"
      ],
      "execution_count": 8,
      "outputs": []
    },
    {
      "cell_type": "code",
      "metadata": {
        "id": "vyKcDhffCkjX",
        "colab": {
          "base_uri": "https://localhost:8080/",
          "height": 297
        },
        "outputId": "6a066892-4329-4ca4-89ee-96dc67878da8"
      },
      "source": [
        "import pdfplumber\n",
        "import re\n",
        "import numpy as np\n",
        "\n",
        "from collections import namedtuple\n",
        "\n",
        "def to_float(str, decimal=',', thousand='.'):\n",
        "  return float(str.replace(thousand,'').replace(decimal,'.'))\n",
        "\n",
        "class PDFPage:\n",
        "  def __init__(self, cmpMap):\n",
        "    self.date_re = re.compile(r'\\d{2}/\\d{2}/\\d{4}$')\n",
        "    self.operation_re = re.compile(r'[\\w\\d-]+\\s(C|V)\\s+(?:VISTA|FRACIONARIO)\\s(?:\\d\\d/\\d\\d)?([\\w\\d\\s./]+?)\\s\\s+([\\w\\d\\s#]+?)\\s(\\d+)\\s([\\d.,]+)\\s([\\d.,]+)\\s(\\w)')\n",
        "    self.liqFee_re = re.compile(r'.*?Taxa de liquida.*?\\s+([\\d,]+)')\n",
        "    self.emolFee_re = re.compile(r'Emolumentos\\s+([\\d,]+)')\n",
        "    self.opFee_re = re.compile(r'Taxa Operacional\\s+([\\d,]+)')\n",
        "    self.exFee_re = re.compile(r'Execu\\w+\\s+([\\d,]+)')\n",
        "    self.custodyFee_re = re.compile(r'.*?Taxa de Cust\\w+\\s+([\\d,]+)')\n",
        "    self.irrf_re = re.compile(r'I.R.R.F.*?base.*?[\\d,]+\\s([\\d,]+)')\n",
        "    self.otherFee_re = re.compile(r'Outros\\s+([\\d,]+)')\n",
        "    self.dtFrame = pd.DataFrame(columns=['order', 'Code', 'Date', 'Company', 'Type', 'Category', 'Qty', 'Value', 'Total', 'Sub'])\n",
        "    self.cmpMap = cmpMap    \n",
        "\n",
        "  def process(self, page):\n",
        "    text = page.extract_text()\n",
        "    # print(text)\n",
        "\n",
        "    order = namedtuple('order', 'Code Date Company Type Category Qty Value Total Sub ')\n",
        "    line_itens = []\n",
        "    for line in text.split('\\n'):\n",
        "\n",
        "      res = self.operation_re.search(line)\n",
        "      if res:\n",
        "        # print (res.group(0))\n",
        "        opType = 'Venda' if res.group(1)=='V' else 'Compra'\n",
        "        name = res.group(2).strip()\n",
        "        code = res.group(3).strip()\n",
        "\n",
        "        if (('FII' in name) or ('FDO' in name)):\n",
        "          category = 'FII'\n",
        "          code = code.split(' ')[0]\n",
        "        else:\n",
        "          category = 'Stock'          \n",
        "\n",
        "        line_itens.append(order(code, Date, name, opType, category, int(res.group(4)), to_float(res.group(5)), to_float(res.group(6)), code.split(' ')[0] ))\n",
        "        continue\n",
        "\n",
        "      res = self.date_re.search(line)\n",
        "      if res:\n",
        "        Date = res.group(0)\n",
        "        continue\n",
        "\n",
        "      res = self.liqFee_re.search(line)\n",
        "      if res:\n",
        "        liqFee = to_float(res.group(1))\n",
        "        continue\n",
        "\n",
        "      res = self.emolFee_re.search(line)\n",
        "      if res:\n",
        "        emolFee =to_float( res.group(1))\n",
        "        continue\n",
        "      \n",
        "      res = self.opFee_re.search(line)\n",
        "      if res:\n",
        "        opFee =to_float( res.group(1))\n",
        "        continue\n",
        "      \n",
        "      res = self.exFee_re.search(line)\n",
        "      if res:\n",
        "        exFee =to_float( res.group(1))\n",
        "        continue\n",
        "\n",
        "      res = self.custodyFee_re.search(line)\n",
        "      if res:\n",
        "        custodyFee =to_float( res.group(1))\n",
        "        continue\n",
        "\n",
        "      res = self.irrf_re.search(line)\n",
        "      if res:\n",
        "        irrf = to_float( res.group(1))\n",
        "        continue\n",
        "\n",
        "      res = self.otherFee_re.search(line)\n",
        "      if res:\n",
        "        otherFee = to_float( res.group(1))\n",
        "        continue\n",
        "        \n",
        "    df = pd.DataFrame(line_itens)\n",
        "    \n",
        "    total = df['Total'].sum()\n",
        "    df['LiqFee'] = liqFee * df['Total'] / total\n",
        "    df['EmolFee'] = emolFee * df['Total'] / total\n",
        "    df['OpFee'] = opFee * df['Total'] / total\n",
        "    df['ExFee'] = exFee * df['Total'] / total\n",
        "    df['CustodyFee'] = custodyFee * df['Total'] / total\n",
        "    df['Irrf'] = irrf * df['Total'] / total\n",
        "    df['otherFee'] = otherFee * df['Total'] / total\n",
        "    df['Fee'] = df['LiqFee'] + df['EmolFee'] + df['OpFee'] + df['ExFee'] + df['CustodyFee'] + df['Irrf'] + df['otherFee']\n",
        "\n",
        "    # self.dtFrame = self.dtFrame.append(df)\n",
        "    self.dtFrame = self.dtFrame.merge(df, how='outer')\n",
        "    \n",
        "\n",
        "  def partialMatch(self, row):      \n",
        "    if ('FII' in row['Category']):\n",
        "      row['Paper'] = row['Code']\n",
        "    elif (str(row['Paper']) == 'nan'):\n",
        "      filter = self.cmpMap['Company'].str.contains(row.Company)  \n",
        "      if(not filter.any()):\n",
        "        filter = self.cmpMap['FullName'].str.contains(row.Company)\n",
        "      if(not filter.any()):\n",
        "        filter = self.cmpMap['Company'].isin(row.Company.split(' '))\n",
        "\n",
        "      df = self.cmpMap[filter & (self.cmpMap.Sub == row.Sub)]\n",
        "\n",
        "      if(not df.empty):\n",
        "        row['Paper'] = df.iloc[0]['Paper']\n",
        "    return row\n",
        "\n",
        "  def finish(self):\n",
        "\n",
        "    self.dtFrame = self.dtFrame.merge(self.cmpMap, how='left', on=['Company', 'Sub'])\n",
        "\n",
        "    self.dtFrame = self.dtFrame.apply(self.partialMatch, axis=1).reset_index(drop=True)\n",
        "    pageObj.dtFrame['Date'] = pd.to_datetime(pageObj.dtFrame['Date'], format='%d/%m/%Y')\n",
        "    self.dtFrame = self.dtFrame.sort_values('Date').reset_index(drop=True)\n",
        "    return self.dtFrame\n",
        "\n",
        "pdf = None\n",
        "try:\n",
        "  pdf = pdfplumber.open(root+'/Investing/Notas_Clear/161936_NotaCorretagem.pdf')\n",
        "except:\n",
        "  print('File not exist')\n",
        "if (pdf):\n",
        "  pageObj = PDFPage(companyMap)\n",
        "  for idx, page in enumerate(pdf.pages[0:]):\n",
        "    # print(f'Page {idx}')\n",
        "    pageObj.process(page)    \n",
        "\n",
        "  pageObj.finish()"
      ],
      "execution_count": 9,
      "outputs": []
    },
    {
      "cell_type": "code",
      "metadata": {
        "id": "231EYc8Tr7mW",
        "colab": {
          "base_uri": "https://localhost:8080/",
          "height": 1000
        },
        "outputId": "00918c64-954b-438e-c2c1-a423d5ecb995"
      },
      "source": [
        "from tqdm import tqdm\n",
        "from glob import glob\n",
        "import time\n",
        "\n",
        "directory = root + '/Investing/Notas_Clear'\n",
        "pageObj = PDFPage(companyMap)\n",
        "files = sorted(glob(directory + '/*.pdf'))\n",
        "\n",
        "for file in tqdm(files, ncols=100, colour='green'):\n",
        "  # print(f'Processing {file}')\n",
        "  pdf = pdfplumber.open(file)\n",
        "  for page in pdf.pages:\n",
        "    pageObj.process(page)\n",
        "\n",
        "pageObj.finish().head(2)"
      ],
      "execution_count": 10,
      "outputs": [
        {
          "output_type": "stream",
          "name": "stderr",
          "text": [
            "100%|\u001b[32m███████████████████████████████████████████████████████████████\u001b[0m| 29/29 [01:02<00:00,  2.16s/it]\u001b[0m\n"
          ]
        },
        {
          "output_type": "execute_result",
          "data": {
            "text/plain": [
              "   order Code       Date       Company    Type Category  Qty   Value  \\\n",
              "0    NaN   CI 2018-03-14  MÉRITO DESEN  Compra    Stock   10 $122.29   \n",
              "1    NaN   CI 2018-03-14  MÉRITO DESEN  Compra    Stock   10 $122.29   \n",
              "\n",
              "      Total Sub  LiqFee  EmolFee  OpFee  ExFee  CustodyFee  Irrf  otherFee  \\\n",
              "0 $1,222.90  CI   $0.34    $0.06  $0.16  $0.00       $0.00 $0.00     $0.00   \n",
              "1 $1,222.90  CI   $0.34    $0.06  $0.16  $0.00       $0.00 $0.00     $0.00   \n",
              "\n",
              "    Fee Paper FullName  \n",
              "0 $0.55   NaN      NaN  \n",
              "1 $0.55   NaN      NaN  "
            ],
            "text/html": "<div>\n<style scoped>\n    .dataframe tbody tr th:only-of-type {\n        vertical-align: middle;\n    }\n\n    .dataframe tbody tr th {\n        vertical-align: top;\n    }\n\n    .dataframe thead th {\n        text-align: right;\n    }\n</style>\n<table border=\"1\" class=\"dataframe\">\n  <thead>\n    <tr style=\"text-align: right;\">\n      <th></th>\n      <th>order</th>\n      <th>Code</th>\n      <th>Date</th>\n      <th>Company</th>\n      <th>Type</th>\n      <th>Category</th>\n      <th>Qty</th>\n      <th>Value</th>\n      <th>Total</th>\n      <th>Sub</th>\n      <th>LiqFee</th>\n      <th>EmolFee</th>\n      <th>OpFee</th>\n      <th>ExFee</th>\n      <th>CustodyFee</th>\n      <th>Irrf</th>\n      <th>otherFee</th>\n      <th>Fee</th>\n      <th>Paper</th>\n      <th>FullName</th>\n    </tr>\n  </thead>\n  <tbody>\n    <tr>\n      <th>0</th>\n      <td>NaN</td>\n      <td>CI</td>\n      <td>2018-03-14</td>\n      <td>MÉRITO DESEN</td>\n      <td>Compra</td>\n      <td>Stock</td>\n      <td>10</td>\n      <td>$122.29</td>\n      <td>$1,222.90</td>\n      <td>CI</td>\n      <td>$0.34</td>\n      <td>$0.06</td>\n      <td>$0.16</td>\n      <td>$0.00</td>\n      <td>$0.00</td>\n      <td>$0.00</td>\n      <td>$0.00</td>\n      <td>$0.55</td>\n      <td>NaN</td>\n      <td>NaN</td>\n    </tr>\n    <tr>\n      <th>1</th>\n      <td>NaN</td>\n      <td>CI</td>\n      <td>2018-03-14</td>\n      <td>MÉRITO DESEN</td>\n      <td>Compra</td>\n      <td>Stock</td>\n      <td>10</td>\n      <td>$122.29</td>\n      <td>$1,222.90</td>\n      <td>CI</td>\n      <td>$0.34</td>\n      <td>$0.06</td>\n      <td>$0.16</td>\n      <td>$0.00</td>\n      <td>$0.00</td>\n      <td>$0.00</td>\n      <td>$0.00</td>\n      <td>$0.55</td>\n      <td>NaN</td>\n      <td>NaN</td>\n    </tr>\n  </tbody>\n</table>\n</div>"
          },
          "metadata": {},
          "execution_count": 10
        }
      ]
    },
    {
      "cell_type": "code",
      "metadata": {
        "colab": {
          "base_uri": "https://localhost:8080/",
          "height": 315
        },
        "id": "x91O0gP-S_LF",
        "outputId": "42086296-3e12-482a-a67d-ef3d4c0e3421"
      },
      "source": [
        "#Gambiarra 1 UNT -> 3 ON\n",
        "pageObj.dtFrame.loc[pageObj.dtFrame.Paper == 'VVAR11','Qty'] *= 3\n",
        "pageObj.dtFrame.loc[pageObj.dtFrame.Paper == 'VVAR11','Value'] /= 3\n",
        "pageObj.dtFrame.loc[pageObj.dtFrame.Paper == 'VVAR11','Sub'] = 'ON'\n",
        "pageObj.dtFrame.loc[pageObj.dtFrame.Paper == 'VVAR11','Paper'] = 'VVAR3'\n"
      ],
      "execution_count": 11,
      "outputs": []
    },
    {
      "cell_type": "code",
      "metadata": {
        "id": "Mt1MQIS0xhcj"
      },
      "source": [
        "pageObj.dtFrame.loc['Date'] = pageObj.dtFrame['Date'].dt.strftime('%d-%m-%Y')\n",
        "pageObj.dtFrame[['Paper', 'Date', 'Value', 'Qty', 'Type', 'Category', 'Fee', 'Company']].to_csv(root+'/Investing/operations.csv')"
      ],
      "execution_count": 12,
      "outputs": []
    }
  ]
}